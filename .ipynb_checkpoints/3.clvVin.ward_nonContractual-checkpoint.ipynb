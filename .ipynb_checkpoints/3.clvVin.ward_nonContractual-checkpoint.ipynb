{
 "cells": [
  {
   "cell_type": "markdown",
   "metadata": {},
   "source": [
    "# Products selling company"
   ]
  },
  {
   "cell_type": "code",
   "execution_count": 1,
   "metadata": {},
   "outputs": [],
   "source": [
    "import pandas as pd\n",
    "from lifetimes.datasets import load_transaction_data\n",
    "from lifetimes.utils import summary_data_from_transaction_data\n",
    "\n",
    "%matplotlib inline"
   ]
  },
  {
   "cell_type": "markdown",
   "metadata": {
    "toc-hr-collapsed": false
   },
   "source": [
    "# Import data"
   ]
  },
  {
   "cell_type": "code",
   "execution_count": 2,
   "metadata": {},
   "outputs": [],
   "source": [
    "df = pd.read_excel('../dados/vinhos/vendas.xlsx')"
   ]
  },
  {
   "cell_type": "code",
   "execution_count": 3,
   "metadata": {},
   "outputs": [
    {
     "data": {
      "text/html": [
       "<div>\n",
       "<style scoped>\n",
       "    .dataframe tbody tr th:only-of-type {\n",
       "        vertical-align: middle;\n",
       "    }\n",
       "\n",
       "    .dataframe tbody tr th {\n",
       "        vertical-align: top;\n",
       "    }\n",
       "\n",
       "    .dataframe thead th {\n",
       "        text-align: right;\n",
       "    }\n",
       "</style>\n",
       "<table border=\"1\" class=\"dataframe\">\n",
       "  <thead>\n",
       "    <tr style=\"text-align: right;\">\n",
       "      <th></th>\n",
       "      <th>index</th>\n",
       "      <th>Nº Cliente</th>\n",
       "      <th>Data da Fatura</th>\n",
       "      <th>Valor Base (Sem IVA)</th>\n",
       "      <th>IVA</th>\n",
       "      <th>Desconto Financeiro</th>\n",
       "      <th>Desconto Comercial</th>\n",
       "      <th>Total (Com IVA)</th>\n",
       "    </tr>\n",
       "  </thead>\n",
       "  <tbody>\n",
       "    <tr>\n",
       "      <th>0</th>\n",
       "      <td>0</td>\n",
       "      <td>1</td>\n",
       "      <td>2017-06-07</td>\n",
       "      <td>118.14</td>\n",
       "      <td>17.40</td>\n",
       "      <td>0</td>\n",
       "      <td>0.0</td>\n",
       "      <td>135.54</td>\n",
       "    </tr>\n",
       "    <tr>\n",
       "      <th>1</th>\n",
       "      <td>1</td>\n",
       "      <td>1</td>\n",
       "      <td>2017-09-08</td>\n",
       "      <td>57.18</td>\n",
       "      <td>7.43</td>\n",
       "      <td>0</td>\n",
       "      <td>0.0</td>\n",
       "      <td>64.61</td>\n",
       "    </tr>\n",
       "    <tr>\n",
       "      <th>2</th>\n",
       "      <td>2</td>\n",
       "      <td>1</td>\n",
       "      <td>2018-02-27</td>\n",
       "      <td>40.50</td>\n",
       "      <td>5.27</td>\n",
       "      <td>0</td>\n",
       "      <td>0.0</td>\n",
       "      <td>45.77</td>\n",
       "    </tr>\n",
       "    <tr>\n",
       "      <th>3</th>\n",
       "      <td>3</td>\n",
       "      <td>1</td>\n",
       "      <td>2018-04-30</td>\n",
       "      <td>32.94</td>\n",
       "      <td>4.28</td>\n",
       "      <td>0</td>\n",
       "      <td>0.0</td>\n",
       "      <td>37.22</td>\n",
       "    </tr>\n",
       "    <tr>\n",
       "      <th>4</th>\n",
       "      <td>4</td>\n",
       "      <td>1</td>\n",
       "      <td>2018-06-06</td>\n",
       "      <td>30.60</td>\n",
       "      <td>7.04</td>\n",
       "      <td>0</td>\n",
       "      <td>0.0</td>\n",
       "      <td>37.64</td>\n",
       "    </tr>\n",
       "  </tbody>\n",
       "</table>\n",
       "</div>"
      ],
      "text/plain": [
       "   index  Nº Cliente Data da Fatura  Valor Base (Sem IVA)    IVA  \\\n",
       "0      0           1     2017-06-07                118.14  17.40   \n",
       "1      1           1     2017-09-08                 57.18   7.43   \n",
       "2      2           1     2018-02-27                 40.50   5.27   \n",
       "3      3           1     2018-04-30                 32.94   4.28   \n",
       "4      4           1     2018-06-06                 30.60   7.04   \n",
       "\n",
       "   Desconto Financeiro  Desconto Comercial  Total (Com IVA)  \n",
       "0                    0                 0.0           135.54  \n",
       "1                    0                 0.0            64.61  \n",
       "2                    0                 0.0            45.77  \n",
       "3                    0                 0.0            37.22  \n",
       "4                    0                 0.0            37.64  "
      ]
     },
     "execution_count": 3,
     "metadata": {},
     "output_type": "execute_result"
    }
   ],
   "source": [
    "# criar um id\n",
    "df = df.reset_index()\n",
    "df.head()"
   ]
  },
  {
   "cell_type": "code",
   "execution_count": 4,
   "metadata": {},
   "outputs": [
    {
     "data": {
      "text/plain": [
       "Index(['index', 'Nº Cliente', 'Data da Fatura', 'Valor Base (Sem IVA)', 'IVA',\n",
       "       'Desconto Financeiro', 'Desconto Comercial', 'Total (Com IVA)'],\n",
       "      dtype='object')"
      ]
     },
     "execution_count": 4,
     "metadata": {},
     "output_type": "execute_result"
    }
   ],
   "source": [
    "df.columns"
   ]
  },
  {
   "cell_type": "code",
   "execution_count": 5,
   "metadata": {},
   "outputs": [],
   "source": [
    "df.columns = ['index', 'customerId', 'date', 'value','IVA', 'discountFinan', 'discountComer','valueWithIVA']"
   ]
  },
  {
   "cell_type": "code",
   "execution_count": 6,
   "metadata": {},
   "outputs": [
    {
     "data": {
      "text/html": [
       "<div>\n",
       "<style scoped>\n",
       "    .dataframe tbody tr th:only-of-type {\n",
       "        vertical-align: middle;\n",
       "    }\n",
       "\n",
       "    .dataframe tbody tr th {\n",
       "        vertical-align: top;\n",
       "    }\n",
       "\n",
       "    .dataframe thead th {\n",
       "        text-align: right;\n",
       "    }\n",
       "</style>\n",
       "<table border=\"1\" class=\"dataframe\">\n",
       "  <thead>\n",
       "    <tr style=\"text-align: right;\">\n",
       "      <th></th>\n",
       "      <th>index</th>\n",
       "      <th>customerId</th>\n",
       "      <th>date</th>\n",
       "      <th>value</th>\n",
       "      <th>IVA</th>\n",
       "      <th>discountFinan</th>\n",
       "      <th>discountComer</th>\n",
       "      <th>valueWithIVA</th>\n",
       "    </tr>\n",
       "  </thead>\n",
       "  <tbody>\n",
       "    <tr>\n",
       "      <th>0</th>\n",
       "      <td>0</td>\n",
       "      <td>1</td>\n",
       "      <td>2017-06-07</td>\n",
       "      <td>118.14</td>\n",
       "      <td>17.40</td>\n",
       "      <td>0</td>\n",
       "      <td>0.0</td>\n",
       "      <td>135.54</td>\n",
       "    </tr>\n",
       "    <tr>\n",
       "      <th>1</th>\n",
       "      <td>1</td>\n",
       "      <td>1</td>\n",
       "      <td>2017-09-08</td>\n",
       "      <td>57.18</td>\n",
       "      <td>7.43</td>\n",
       "      <td>0</td>\n",
       "      <td>0.0</td>\n",
       "      <td>64.61</td>\n",
       "    </tr>\n",
       "    <tr>\n",
       "      <th>2</th>\n",
       "      <td>2</td>\n",
       "      <td>1</td>\n",
       "      <td>2018-02-27</td>\n",
       "      <td>40.50</td>\n",
       "      <td>5.27</td>\n",
       "      <td>0</td>\n",
       "      <td>0.0</td>\n",
       "      <td>45.77</td>\n",
       "    </tr>\n",
       "    <tr>\n",
       "      <th>3</th>\n",
       "      <td>3</td>\n",
       "      <td>1</td>\n",
       "      <td>2018-04-30</td>\n",
       "      <td>32.94</td>\n",
       "      <td>4.28</td>\n",
       "      <td>0</td>\n",
       "      <td>0.0</td>\n",
       "      <td>37.22</td>\n",
       "    </tr>\n",
       "    <tr>\n",
       "      <th>4</th>\n",
       "      <td>4</td>\n",
       "      <td>1</td>\n",
       "      <td>2018-06-06</td>\n",
       "      <td>30.60</td>\n",
       "      <td>7.04</td>\n",
       "      <td>0</td>\n",
       "      <td>0.0</td>\n",
       "      <td>37.64</td>\n",
       "    </tr>\n",
       "  </tbody>\n",
       "</table>\n",
       "</div>"
      ],
      "text/plain": [
       "   index  customerId       date   value    IVA  discountFinan  discountComer  \\\n",
       "0      0           1 2017-06-07  118.14  17.40              0            0.0   \n",
       "1      1           1 2017-09-08   57.18   7.43              0            0.0   \n",
       "2      2           1 2018-02-27   40.50   5.27              0            0.0   \n",
       "3      3           1 2018-04-30   32.94   4.28              0            0.0   \n",
       "4      4           1 2018-06-06   30.60   7.04              0            0.0   \n",
       "\n",
       "   valueWithIVA  \n",
       "0        135.54  \n",
       "1         64.61  \n",
       "2         45.77  \n",
       "3         37.22  \n",
       "4         37.64  "
      ]
     },
     "execution_count": 6,
     "metadata": {},
     "output_type": "execute_result"
    }
   ],
   "source": [
    "df.head()"
   ]
  },
  {
   "cell_type": "code",
   "execution_count": 7,
   "metadata": {},
   "outputs": [
    {
     "data": {
      "text/plain": [
       "Timestamp('2019-09-11 00:00:00')"
      ]
     },
     "execution_count": 7,
     "metadata": {},
     "output_type": "execute_result"
    }
   ],
   "source": [
    "#calcular a data maior\n",
    "df.date.max()"
   ]
  },
  {
   "cell_type": "code",
   "execution_count": 8,
   "metadata": {},
   "outputs": [
    {
     "data": {
      "text/html": [
       "<div>\n",
       "<style scoped>\n",
       "    .dataframe tbody tr th:only-of-type {\n",
       "        vertical-align: middle;\n",
       "    }\n",
       "\n",
       "    .dataframe tbody tr th {\n",
       "        vertical-align: top;\n",
       "    }\n",
       "\n",
       "    .dataframe thead th {\n",
       "        text-align: right;\n",
       "    }\n",
       "</style>\n",
       "<table border=\"1\" class=\"dataframe\">\n",
       "  <thead>\n",
       "    <tr style=\"text-align: right;\">\n",
       "      <th></th>\n",
       "      <th>index</th>\n",
       "      <th>customerId</th>\n",
       "      <th>date</th>\n",
       "      <th>value</th>\n",
       "      <th>IVA</th>\n",
       "      <th>discountFinan</th>\n",
       "      <th>discountComer</th>\n",
       "      <th>valueWithIVA</th>\n",
       "    </tr>\n",
       "  </thead>\n",
       "  <tbody>\n",
       "    <tr>\n",
       "      <th>127</th>\n",
       "      <td>127</td>\n",
       "      <td>7</td>\n",
       "      <td>2017-06-08</td>\n",
       "      <td>20.4</td>\n",
       "      <td>4.69</td>\n",
       "      <td>0</td>\n",
       "      <td>0.0</td>\n",
       "      <td>25.09</td>\n",
       "    </tr>\n",
       "    <tr>\n",
       "      <th>128</th>\n",
       "      <td>128</td>\n",
       "      <td>7</td>\n",
       "      <td>2017-06-26</td>\n",
       "      <td>20.4</td>\n",
       "      <td>4.69</td>\n",
       "      <td>0</td>\n",
       "      <td>0.0</td>\n",
       "      <td>25.09</td>\n",
       "    </tr>\n",
       "    <tr>\n",
       "      <th>129</th>\n",
       "      <td>129</td>\n",
       "      <td>7</td>\n",
       "      <td>2017-07-10</td>\n",
       "      <td>20.4</td>\n",
       "      <td>4.69</td>\n",
       "      <td>0</td>\n",
       "      <td>0.0</td>\n",
       "      <td>25.09</td>\n",
       "    </tr>\n",
       "    <tr>\n",
       "      <th>130</th>\n",
       "      <td>130</td>\n",
       "      <td>7</td>\n",
       "      <td>2017-08-18</td>\n",
       "      <td>10.2</td>\n",
       "      <td>2.35</td>\n",
       "      <td>0</td>\n",
       "      <td>0.0</td>\n",
       "      <td>12.55</td>\n",
       "    </tr>\n",
       "    <tr>\n",
       "      <th>131</th>\n",
       "      <td>131</td>\n",
       "      <td>7</td>\n",
       "      <td>2017-09-08</td>\n",
       "      <td>20.4</td>\n",
       "      <td>4.69</td>\n",
       "      <td>0</td>\n",
       "      <td>0.0</td>\n",
       "      <td>25.09</td>\n",
       "    </tr>\n",
       "  </tbody>\n",
       "</table>\n",
       "</div>"
      ],
      "text/plain": [
       "     index  customerId       date  value   IVA  discountFinan  discountComer  \\\n",
       "127    127           7 2017-06-08   20.4  4.69              0            0.0   \n",
       "128    128           7 2017-06-26   20.4  4.69              0            0.0   \n",
       "129    129           7 2017-07-10   20.4  4.69              0            0.0   \n",
       "130    130           7 2017-08-18   10.2  2.35              0            0.0   \n",
       "131    131           7 2017-09-08   20.4  4.69              0            0.0   \n",
       "\n",
       "     valueWithIVA  \n",
       "127         25.09  \n",
       "128         25.09  \n",
       "129         25.09  \n",
       "130         12.55  \n",
       "131         25.09  "
      ]
     },
     "execution_count": 8,
     "metadata": {},
     "output_type": "execute_result"
    }
   ],
   "source": [
    "df[df.customerId==7].head()"
   ]
  },
  {
   "cell_type": "code",
   "execution_count": 9,
   "metadata": {},
   "outputs": [
    {
     "data": {
      "text/plain": [
       "186.63"
      ]
     },
     "execution_count": 9,
     "metadata": {},
     "output_type": "execute_result"
    }
   ],
   "source": [
    "df[df.customerId==2].value.sum()"
   ]
  },
  {
   "cell_type": "markdown",
   "metadata": {},
   "source": [
    "## Customer descriptives statistics\n"
   ]
  },
  {
   "cell_type": "code",
   "execution_count": 10,
   "metadata": {},
   "outputs": [
    {
     "data": {
      "text/html": [
       "<div>\n",
       "<style scoped>\n",
       "    .dataframe tbody tr th:only-of-type {\n",
       "        vertical-align: middle;\n",
       "    }\n",
       "\n",
       "    .dataframe tbody tr th {\n",
       "        vertical-align: top;\n",
       "    }\n",
       "\n",
       "    .dataframe thead th {\n",
       "        text-align: right;\n",
       "    }\n",
       "</style>\n",
       "<table border=\"1\" class=\"dataframe\">\n",
       "  <thead>\n",
       "    <tr style=\"text-align: right;\">\n",
       "      <th></th>\n",
       "      <th>index</th>\n",
       "      <th>customerId</th>\n",
       "      <th>value</th>\n",
       "      <th>IVA</th>\n",
       "      <th>discountFinan</th>\n",
       "      <th>discountComer</th>\n",
       "      <th>valueWithIVA</th>\n",
       "    </tr>\n",
       "  </thead>\n",
       "  <tbody>\n",
       "    <tr>\n",
       "      <th>count</th>\n",
       "      <td>3435.000000</td>\n",
       "      <td>3435.000000</td>\n",
       "      <td>3435.000000</td>\n",
       "      <td>3435.000000</td>\n",
       "      <td>3435.0</td>\n",
       "      <td>3435.000000</td>\n",
       "      <td>3435.000000</td>\n",
       "    </tr>\n",
       "    <tr>\n",
       "      <th>mean</th>\n",
       "      <td>1717.000000</td>\n",
       "      <td>1867.832023</td>\n",
       "      <td>62.313502</td>\n",
       "      <td>9.675642</td>\n",
       "      <td>0.0</td>\n",
       "      <td>0.033290</td>\n",
       "      <td>71.989144</td>\n",
       "    </tr>\n",
       "    <tr>\n",
       "      <th>std</th>\n",
       "      <td>991.743414</td>\n",
       "      <td>2695.038246</td>\n",
       "      <td>113.613042</td>\n",
       "      <td>14.459302</td>\n",
       "      <td>0.0</td>\n",
       "      <td>0.806394</td>\n",
       "      <td>126.598534</td>\n",
       "    </tr>\n",
       "    <tr>\n",
       "      <th>min</th>\n",
       "      <td>0.000000</td>\n",
       "      <td>1.000000</td>\n",
       "      <td>-80.800000</td>\n",
       "      <td>-6.070000</td>\n",
       "      <td>0.0</td>\n",
       "      <td>0.000000</td>\n",
       "      <td>-85.650000</td>\n",
       "    </tr>\n",
       "    <tr>\n",
       "      <th>25%</th>\n",
       "      <td>858.500000</td>\n",
       "      <td>40.000000</td>\n",
       "      <td>20.400000</td>\n",
       "      <td>3.610000</td>\n",
       "      <td>0.0</td>\n",
       "      <td>0.000000</td>\n",
       "      <td>25.090000</td>\n",
       "    </tr>\n",
       "    <tr>\n",
       "      <th>50%</th>\n",
       "      <td>1717.000000</td>\n",
       "      <td>77.000000</td>\n",
       "      <td>33.360000</td>\n",
       "      <td>5.200000</td>\n",
       "      <td>0.0</td>\n",
       "      <td>0.000000</td>\n",
       "      <td>37.700000</td>\n",
       "    </tr>\n",
       "    <tr>\n",
       "      <th>75%</th>\n",
       "      <td>2575.500000</td>\n",
       "      <td>6001.000000</td>\n",
       "      <td>63.120000</td>\n",
       "      <td>10.840000</td>\n",
       "      <td>0.0</td>\n",
       "      <td>0.000000</td>\n",
       "      <td>75.280000</td>\n",
       "    </tr>\n",
       "    <tr>\n",
       "      <th>max</th>\n",
       "      <td>3434.000000</td>\n",
       "      <td>6105.000000</td>\n",
       "      <td>2280.000000</td>\n",
       "      <td>262.750000</td>\n",
       "      <td>0.0</td>\n",
       "      <td>30.000000</td>\n",
       "      <td>2416.800000</td>\n",
       "    </tr>\n",
       "  </tbody>\n",
       "</table>\n",
       "</div>"
      ],
      "text/plain": [
       "             index   customerId        value          IVA  discountFinan  \\\n",
       "count  3435.000000  3435.000000  3435.000000  3435.000000         3435.0   \n",
       "mean   1717.000000  1867.832023    62.313502     9.675642            0.0   \n",
       "std     991.743414  2695.038246   113.613042    14.459302            0.0   \n",
       "min       0.000000     1.000000   -80.800000    -6.070000            0.0   \n",
       "25%     858.500000    40.000000    20.400000     3.610000            0.0   \n",
       "50%    1717.000000    77.000000    33.360000     5.200000            0.0   \n",
       "75%    2575.500000  6001.000000    63.120000    10.840000            0.0   \n",
       "max    3434.000000  6105.000000  2280.000000   262.750000            0.0   \n",
       "\n",
       "       discountComer  valueWithIVA  \n",
       "count    3435.000000   3435.000000  \n",
       "mean        0.033290     71.989144  \n",
       "std         0.806394    126.598534  \n",
       "min         0.000000    -85.650000  \n",
       "25%         0.000000     25.090000  \n",
       "50%         0.000000     37.700000  \n",
       "75%         0.000000     75.280000  \n",
       "max        30.000000   2416.800000  "
      ]
     },
     "execution_count": 10,
     "metadata": {},
     "output_type": "execute_result"
    }
   ],
   "source": [
    "df.describe()"
   ]
  },
  {
   "cell_type": "code",
   "execution_count": 11,
   "metadata": {},
   "outputs": [
    {
     "data": {
      "text/html": [
       "<div>\n",
       "<style scoped>\n",
       "    .dataframe tbody tr th:only-of-type {\n",
       "        vertical-align: middle;\n",
       "    }\n",
       "\n",
       "    .dataframe tbody tr th {\n",
       "        vertical-align: top;\n",
       "    }\n",
       "\n",
       "    .dataframe thead th {\n",
       "        text-align: right;\n",
       "    }\n",
       "</style>\n",
       "<table border=\"1\" class=\"dataframe\">\n",
       "  <thead>\n",
       "    <tr style=\"text-align: right;\">\n",
       "      <th></th>\n",
       "      <th>customerId</th>\n",
       "    </tr>\n",
       "  </thead>\n",
       "  <tbody>\n",
       "    <tr>\n",
       "      <th>count</th>\n",
       "      <td>3435.000000</td>\n",
       "    </tr>\n",
       "    <tr>\n",
       "      <th>mean</th>\n",
       "      <td>1867.832023</td>\n",
       "    </tr>\n",
       "    <tr>\n",
       "      <th>std</th>\n",
       "      <td>2695.038246</td>\n",
       "    </tr>\n",
       "    <tr>\n",
       "      <th>min</th>\n",
       "      <td>1.000000</td>\n",
       "    </tr>\n",
       "    <tr>\n",
       "      <th>max</th>\n",
       "      <td>6105.000000</td>\n",
       "    </tr>\n",
       "  </tbody>\n",
       "</table>\n",
       "</div>"
      ],
      "text/plain": [
       "        customerId\n",
       "count  3435.000000\n",
       "mean   1867.832023\n",
       "std    2695.038246\n",
       "min       1.000000\n",
       "max    6105.000000"
      ]
     },
     "execution_count": 11,
     "metadata": {},
     "output_type": "execute_result"
    }
   ],
   "source": [
    "df.agg({'customerId':['count','mean','std','min','max']})"
   ]
  },
  {
   "cell_type": "code",
   "execution_count": 12,
   "metadata": {},
   "outputs": [
    {
     "data": {
      "text/plain": [
       "Timestamp('2017-06-07 00:00:00')"
      ]
     },
     "execution_count": 12,
     "metadata": {},
     "output_type": "execute_result"
    }
   ],
   "source": [
    "df.date.min()"
   ]
  },
  {
   "cell_type": "code",
   "execution_count": 13,
   "metadata": {},
   "outputs": [
    {
     "data": {
      "text/plain": [
       "Timestamp('2019-09-11 00:00:00')"
      ]
     },
     "execution_count": 13,
     "metadata": {},
     "output_type": "execute_result"
    }
   ],
   "source": [
    "df.date.max()"
   ]
  },
  {
   "cell_type": "code",
   "execution_count": 14,
   "metadata": {},
   "outputs": [],
   "source": [
    "import datetime\n",
    "df['year'] = df['date'].apply(lambda x: x.date().year)"
   ]
  },
  {
   "cell_type": "code",
   "execution_count": 15,
   "metadata": {},
   "outputs": [
    {
     "data": {
      "text/html": [
       "<div>\n",
       "<style scoped>\n",
       "    .dataframe tbody tr th:only-of-type {\n",
       "        vertical-align: middle;\n",
       "    }\n",
       "\n",
       "    .dataframe tbody tr th {\n",
       "        vertical-align: top;\n",
       "    }\n",
       "\n",
       "    .dataframe thead th {\n",
       "        text-align: right;\n",
       "    }\n",
       "</style>\n",
       "<table border=\"1\" class=\"dataframe\">\n",
       "  <thead>\n",
       "    <tr style=\"text-align: right;\">\n",
       "      <th></th>\n",
       "      <th>index</th>\n",
       "      <th>customerId</th>\n",
       "      <th>date</th>\n",
       "      <th>value</th>\n",
       "      <th>IVA</th>\n",
       "      <th>discountFinan</th>\n",
       "      <th>discountComer</th>\n",
       "      <th>valueWithIVA</th>\n",
       "      <th>year</th>\n",
       "    </tr>\n",
       "  </thead>\n",
       "  <tbody>\n",
       "    <tr>\n",
       "      <th>0</th>\n",
       "      <td>0</td>\n",
       "      <td>1</td>\n",
       "      <td>2017-06-07</td>\n",
       "      <td>118.14</td>\n",
       "      <td>17.40</td>\n",
       "      <td>0</td>\n",
       "      <td>0.0</td>\n",
       "      <td>135.54</td>\n",
       "      <td>2017</td>\n",
       "    </tr>\n",
       "    <tr>\n",
       "      <th>1</th>\n",
       "      <td>1</td>\n",
       "      <td>1</td>\n",
       "      <td>2017-09-08</td>\n",
       "      <td>57.18</td>\n",
       "      <td>7.43</td>\n",
       "      <td>0</td>\n",
       "      <td>0.0</td>\n",
       "      <td>64.61</td>\n",
       "      <td>2017</td>\n",
       "    </tr>\n",
       "    <tr>\n",
       "      <th>2</th>\n",
       "      <td>2</td>\n",
       "      <td>1</td>\n",
       "      <td>2018-02-27</td>\n",
       "      <td>40.50</td>\n",
       "      <td>5.27</td>\n",
       "      <td>0</td>\n",
       "      <td>0.0</td>\n",
       "      <td>45.77</td>\n",
       "      <td>2018</td>\n",
       "    </tr>\n",
       "    <tr>\n",
       "      <th>3</th>\n",
       "      <td>3</td>\n",
       "      <td>1</td>\n",
       "      <td>2018-04-30</td>\n",
       "      <td>32.94</td>\n",
       "      <td>4.28</td>\n",
       "      <td>0</td>\n",
       "      <td>0.0</td>\n",
       "      <td>37.22</td>\n",
       "      <td>2018</td>\n",
       "    </tr>\n",
       "    <tr>\n",
       "      <th>4</th>\n",
       "      <td>4</td>\n",
       "      <td>1</td>\n",
       "      <td>2018-06-06</td>\n",
       "      <td>30.60</td>\n",
       "      <td>7.04</td>\n",
       "      <td>0</td>\n",
       "      <td>0.0</td>\n",
       "      <td>37.64</td>\n",
       "      <td>2018</td>\n",
       "    </tr>\n",
       "  </tbody>\n",
       "</table>\n",
       "</div>"
      ],
      "text/plain": [
       "   index  customerId       date   value    IVA  discountFinan  discountComer  \\\n",
       "0      0           1 2017-06-07  118.14  17.40              0            0.0   \n",
       "1      1           1 2017-09-08   57.18   7.43              0            0.0   \n",
       "2      2           1 2018-02-27   40.50   5.27              0            0.0   \n",
       "3      3           1 2018-04-30   32.94   4.28              0            0.0   \n",
       "4      4           1 2018-06-06   30.60   7.04              0            0.0   \n",
       "\n",
       "   valueWithIVA  year  \n",
       "0        135.54  2017  \n",
       "1         64.61  2017  \n",
       "2         45.77  2018  \n",
       "3         37.22  2018  \n",
       "4         37.64  2018  "
      ]
     },
     "execution_count": 15,
     "metadata": {},
     "output_type": "execute_result"
    }
   ],
   "source": [
    "df.head()"
   ]
  },
  {
   "cell_type": "code",
   "execution_count": 16,
   "metadata": {},
   "outputs": [
    {
     "data": {
      "text/html": [
       "<div>\n",
       "<style scoped>\n",
       "    .dataframe tbody tr th:only-of-type {\n",
       "        vertical-align: middle;\n",
       "    }\n",
       "\n",
       "    .dataframe tbody tr th {\n",
       "        vertical-align: top;\n",
       "    }\n",
       "\n",
       "    .dataframe thead tr th {\n",
       "        text-align: left;\n",
       "    }\n",
       "\n",
       "    .dataframe thead tr:last-of-type th {\n",
       "        text-align: right;\n",
       "    }\n",
       "</style>\n",
       "<table border=\"1\" class=\"dataframe\">\n",
       "  <thead>\n",
       "    <tr>\n",
       "      <th></th>\n",
       "      <th>value</th>\n",
       "    </tr>\n",
       "    <tr>\n",
       "      <th></th>\n",
       "      <th>sum</th>\n",
       "    </tr>\n",
       "    <tr>\n",
       "      <th>year</th>\n",
       "      <th></th>\n",
       "    </tr>\n",
       "  </thead>\n",
       "  <tbody>\n",
       "    <tr>\n",
       "      <th>2017</th>\n",
       "      <td>38517.23</td>\n",
       "    </tr>\n",
       "    <tr>\n",
       "      <th>2018</th>\n",
       "      <td>95203.85</td>\n",
       "    </tr>\n",
       "    <tr>\n",
       "      <th>2019</th>\n",
       "      <td>80325.80</td>\n",
       "    </tr>\n",
       "  </tbody>\n",
       "</table>\n",
       "</div>"
      ],
      "text/plain": [
       "         value\n",
       "           sum\n",
       "year          \n",
       "2017  38517.23\n",
       "2018  95203.85\n",
       "2019  80325.80"
      ]
     },
     "execution_count": 16,
     "metadata": {},
     "output_type": "execute_result"
    }
   ],
   "source": [
    "df.groupby(['year']).agg({'value':['sum']})"
   ]
  },
  {
   "cell_type": "code",
   "execution_count": 18,
   "metadata": {},
   "outputs": [
    {
     "data": {
      "text/plain": [
       "<matplotlib.axes._subplots.AxesSubplot at 0x22551c91470>"
      ]
     },
     "execution_count": 18,
     "metadata": {},
     "output_type": "execute_result"
    },
    {
     "data": {
      "image/png": "[encoded data removed]",
      "text/plain": [
       "<Figure size 432x288 with 1 Axes>"
      ]
     },
     "metadata": {
      "needs_background": "light"
     },
     "output_type": "display_data"
    }
   ],
   "source": [
    "import numpy as np\n",
    "import seaborn as sns\n",
    "sns.barplot(x='year',y='value',data=df,estimator=np.sum)"
   ]
  },
  {
   "cell_type": "markdown",
   "metadata": {},
   "source": [
    "## shapping data\n",
    "- frequency: Count of time periods the customer had a purchase in, e.g. months units represent the number of months that the customer had purchases\n",
    "- T: represents the age of the customer in the selected time unit\n",
    "- recency: represents the age of the customer when they made the most recent purchases = duration first purchase to last purchase\n",
    "\n",
    "\n",
    "Time units: 'D' for days, 'W' for weeks, 'M' for months, 'H' hours... https://pandas.pydata.org/pandas-docs/stable/user_guide/timeseries.html"
   ]
  },
  {
   "cell_type": "code",
   "execution_count": 19,
   "metadata": {},
   "outputs": [
    {
     "data": {
      "text/html": [
       "<div>\n",
       "<style scoped>\n",
       "    .dataframe tbody tr th:only-of-type {\n",
       "        vertical-align: middle;\n",
       "    }\n",
       "\n",
       "    .dataframe tbody tr th {\n",
       "        vertical-align: top;\n",
       "    }\n",
       "\n",
       "    .dataframe thead th {\n",
       "        text-align: right;\n",
       "    }\n",
       "</style>\n",
       "<table border=\"1\" class=\"dataframe\">\n",
       "  <thead>\n",
       "    <tr style=\"text-align: right;\">\n",
       "      <th></th>\n",
       "      <th>frequency</th>\n",
       "      <th>recency</th>\n",
       "      <th>T</th>\n",
       "      <th>monetary_value</th>\n",
       "    </tr>\n",
       "    <tr>\n",
       "      <th>customerId</th>\n",
       "      <th></th>\n",
       "      <th></th>\n",
       "      <th></th>\n",
       "      <th></th>\n",
       "    </tr>\n",
       "  </thead>\n",
       "  <tbody>\n",
       "    <tr>\n",
       "      <th>1</th>\n",
       "      <td>17.0</td>\n",
       "      <td>27.006715</td>\n",
       "      <td>27.006715</td>\n",
       "      <td>120.438235</td>\n",
       "    </tr>\n",
       "    <tr>\n",
       "      <th>2</th>\n",
       "      <td>2.0</td>\n",
       "      <td>7.030945</td>\n",
       "      <td>27.006715</td>\n",
       "      <td>22.480000</td>\n",
       "    </tr>\n",
       "    <tr>\n",
       "      <th>3</th>\n",
       "      <td>12.0</td>\n",
       "      <td>12.977679</td>\n",
       "      <td>27.006715</td>\n",
       "      <td>23.946667</td>\n",
       "    </tr>\n",
       "    <tr>\n",
       "      <th>5</th>\n",
       "      <td>3.0</td>\n",
       "      <td>3.022649</td>\n",
       "      <td>27.006715</td>\n",
       "      <td>30.600000</td>\n",
       "    </tr>\n",
       "    <tr>\n",
       "      <th>6</th>\n",
       "      <td>14.0</td>\n",
       "      <td>27.006715</td>\n",
       "      <td>27.006715</td>\n",
       "      <td>522.901429</td>\n",
       "    </tr>\n",
       "  </tbody>\n",
       "</table>\n",
       "</div>"
      ],
      "text/plain": [
       "            frequency    recency          T  monetary_value\n",
       "customerId                                                 \n",
       "1                17.0  27.006715  27.006715      120.438235\n",
       "2                 2.0   7.030945  27.006715       22.480000\n",
       "3                12.0  12.977679  27.006715       23.946667\n",
       "5                 3.0   3.022649  27.006715       30.600000\n",
       "6                14.0  27.006715  27.006715      522.901429"
      ]
     },
     "execution_count": 19,
     "metadata": {},
     "output_type": "execute_result"
    }
   ],
   "source": [
    "summary = summary_data_from_transaction_data(df,customer_id_col='customerId',datetime_col='date',freq='M',\n",
    "                                             monetary_value_col='value',observation_period_end='2019-09-11')\n",
    "summary.head()"
   ]
  },
  {
   "cell_type": "code",
   "execution_count": 20,
   "metadata": {},
   "outputs": [
    {
     "data": {
      "text/html": [
       "<div>\n",
       "<style scoped>\n",
       "    .dataframe tbody tr th:only-of-type {\n",
       "        vertical-align: middle;\n",
       "    }\n",
       "\n",
       "    .dataframe tbody tr th {\n",
       "        vertical-align: top;\n",
       "    }\n",
       "\n",
       "    .dataframe thead th {\n",
       "        text-align: right;\n",
       "    }\n",
       "</style>\n",
       "<table border=\"1\" class=\"dataframe\">\n",
       "  <thead>\n",
       "    <tr style=\"text-align: right;\">\n",
       "      <th></th>\n",
       "      <th>frequency</th>\n",
       "      <th>recency</th>\n",
       "      <th>T</th>\n",
       "      <th>monetary_value</th>\n",
       "    </tr>\n",
       "  </thead>\n",
       "  <tbody>\n",
       "    <tr>\n",
       "      <th>count</th>\n",
       "      <td>284.000000</td>\n",
       "      <td>284.000000</td>\n",
       "      <td>284.000000</td>\n",
       "      <td>284.000000</td>\n",
       "    </tr>\n",
       "    <tr>\n",
       "      <th>mean</th>\n",
       "      <td>4.890845</td>\n",
       "      <td>7.061602</td>\n",
       "      <td>18.763956</td>\n",
       "      <td>78.276456</td>\n",
       "    </tr>\n",
       "    <tr>\n",
       "      <th>std</th>\n",
       "      <td>6.682506</td>\n",
       "      <td>8.301244</td>\n",
       "      <td>6.718018</td>\n",
       "      <td>212.572188</td>\n",
       "    </tr>\n",
       "    <tr>\n",
       "      <th>min</th>\n",
       "      <td>0.000000</td>\n",
       "      <td>0.000000</td>\n",
       "      <td>1.018501</td>\n",
       "      <td>0.000000</td>\n",
       "    </tr>\n",
       "    <tr>\n",
       "      <th>25%</th>\n",
       "      <td>0.000000</td>\n",
       "      <td>0.000000</td>\n",
       "      <td>14.768270</td>\n",
       "      <td>0.000000</td>\n",
       "    </tr>\n",
       "    <tr>\n",
       "      <th>50%</th>\n",
       "      <td>2.000000</td>\n",
       "      <td>3.022649</td>\n",
       "      <td>18.957268</td>\n",
       "      <td>30.316667</td>\n",
       "    </tr>\n",
       "    <tr>\n",
       "      <th>75%</th>\n",
       "      <td>7.250000</td>\n",
       "      <td>12.977679</td>\n",
       "      <td>25.002567</td>\n",
       "      <td>73.249803</td>\n",
       "    </tr>\n",
       "    <tr>\n",
       "      <th>max</th>\n",
       "      <td>27.000000</td>\n",
       "      <td>27.006715</td>\n",
       "      <td>27.006715</td>\n",
       "      <td>2812.000000</td>\n",
       "    </tr>\n",
       "  </tbody>\n",
       "</table>\n",
       "</div>"
      ],
      "text/plain": [
       "        frequency     recency           T  monetary_value\n",
       "count  284.000000  284.000000  284.000000      284.000000\n",
       "mean     4.890845    7.061602   18.763956       78.276456\n",
       "std      6.682506    8.301244    6.718018      212.572188\n",
       "min      0.000000    0.000000    1.018501        0.000000\n",
       "25%      0.000000    0.000000   14.768270        0.000000\n",
       "50%      2.000000    3.022649   18.957268       30.316667\n",
       "75%      7.250000   12.977679   25.002567       73.249803\n",
       "max     27.000000   27.006715   27.006715     2812.000000"
      ]
     },
     "execution_count": 20,
     "metadata": {},
     "output_type": "execute_result"
    }
   ],
   "source": [
    "summary.describe()"
   ]
  },
  {
   "cell_type": "code",
   "execution_count": 21,
   "metadata": {},
   "outputs": [
    {
     "data": {
      "text/plain": [
       "(284, 4)"
      ]
     },
     "execution_count": 21,
     "metadata": {},
     "output_type": "execute_result"
    }
   ],
   "source": [
    "summary.shape"
   ]
  },
  {
   "cell_type": "code",
   "execution_count": 22,
   "metadata": {},
   "outputs": [
    {
     "data": {
      "text/plain": [
       "Index(['frequency', 'recency', 'T', 'monetary_value'], dtype='object')"
      ]
     },
     "execution_count": 22,
     "metadata": {},
     "output_type": "execute_result"
    }
   ],
   "source": [
    "summary.columns"
   ]
  },
  {
   "cell_type": "code",
   "execution_count": 23,
   "metadata": {},
   "outputs": [
    {
     "data": {
      "text/plain": [
       "customerId\n",
       "1    120\n",
       "2     22\n",
       "3     23\n",
       "5     30\n",
       "6    522\n",
       "Name: monetary_value, dtype: int32"
      ]
     },
     "execution_count": 23,
     "metadata": {},
     "output_type": "execute_result"
    }
   ],
   "source": [
    "summary['monetary_value'].astype(int).head()"
   ]
  },
  {
   "cell_type": "markdown",
   "metadata": {
    "toc-hr-collapsed": true,
    "toc-nb-collapsed": true
   },
   "source": [
    "# BG/NBD model"
   ]
  },
  {
   "cell_type": "code",
   "execution_count": 24,
   "metadata": {},
   "outputs": [
    {
     "name": "stdout",
     "output_type": "stream",
     "text": [
      "<lifetimes.BetaGeoFitter: fitted with 284 subjects, a: 0.54, alpha: 1.19, b: 3.46, r: 0.49>\n"
     ]
    }
   ],
   "source": [
    "from lifetimes import BetaGeoFitter\n",
    "\n",
    "bgf = BetaGeoFitter(penalizer_coef=0.0)\n",
    "bgf.fit(summary['frequency'], summary['recency'], summary['T'])\n",
    "print(bgf)"
   ]
  },
  {
   "cell_type": "code",
   "execution_count": 25,
   "metadata": {},
   "outputs": [
    {
     "data": {
      "text/html": [
       "<div>\n",
       "<style scoped>\n",
       "    .dataframe tbody tr th:only-of-type {\n",
       "        vertical-align: middle;\n",
       "    }\n",
       "\n",
       "    .dataframe tbody tr th {\n",
       "        vertical-align: top;\n",
       "    }\n",
       "\n",
       "    .dataframe thead th {\n",
       "        text-align: right;\n",
       "    }\n",
       "</style>\n",
       "<table border=\"1\" class=\"dataframe\">\n",
       "  <thead>\n",
       "    <tr style=\"text-align: right;\">\n",
       "      <th></th>\n",
       "      <th>coef</th>\n",
       "      <th>se(coef)</th>\n",
       "      <th>lower 95% bound</th>\n",
       "      <th>upper 95% bound</th>\n",
       "    </tr>\n",
       "  </thead>\n",
       "  <tbody>\n",
       "    <tr>\n",
       "      <th>r</th>\n",
       "      <td>0.490890</td>\n",
       "      <td>0.052593</td>\n",
       "      <td>0.387807</td>\n",
       "      <td>0.593973</td>\n",
       "    </tr>\n",
       "    <tr>\n",
       "      <th>alpha</th>\n",
       "      <td>1.186714</td>\n",
       "      <td>0.171985</td>\n",
       "      <td>0.849623</td>\n",
       "      <td>1.523804</td>\n",
       "    </tr>\n",
       "    <tr>\n",
       "      <th>a</th>\n",
       "      <td>0.538189</td>\n",
       "      <td>0.164979</td>\n",
       "      <td>0.214830</td>\n",
       "      <td>0.861548</td>\n",
       "    </tr>\n",
       "    <tr>\n",
       "      <th>b</th>\n",
       "      <td>3.461991</td>\n",
       "      <td>1.646035</td>\n",
       "      <td>0.235762</td>\n",
       "      <td>6.688219</td>\n",
       "    </tr>\n",
       "  </tbody>\n",
       "</table>\n",
       "</div>"
      ],
      "text/plain": [
       "           coef  se(coef)  lower 95% bound  upper 95% bound\n",
       "r      0.490890  0.052593         0.387807         0.593973\n",
       "alpha  1.186714  0.171985         0.849623         1.523804\n",
       "a      0.538189  0.164979         0.214830         0.861548\n",
       "b      3.461991  1.646035         0.235762         6.688219"
      ]
     },
     "execution_count": 25,
     "metadata": {},
     "output_type": "execute_result"
    }
   ],
   "source": [
    "bgf.summary"
   ]
  },
  {
   "cell_type": "markdown",
   "metadata": {},
   "source": [
    "## Frequency/Recency Matrix"
   ]
  },
  {
   "cell_type": "code",
   "execution_count": 26,
   "metadata": {},
   "outputs": [
    {
     "data": {
      "image/png": "[encoded data removed]",
      "text/plain": [
       "<Figure size 720x720 with 2 Axes>"
      ]
     },
     "metadata": {
      "needs_background": "light"
     },
     "output_type": "display_data"
    }
   ],
   "source": [
    "from lifetimes.plotting import plot_frequency_recency_matrix\n",
    "import matplotlib.pyplot as plt\n",
    "\n",
    "plt.rcParams['figure.figsize']= [10,10]\n",
    "\n",
    "plot_frequency_recency_matrix(bgf,title=\"\");"
   ]
  },
  {
   "cell_type": "markdown",
   "metadata": {},
   "source": [
    "A customer that bought more than 60 times and the last purchase was when they were 140 months are the best customers. The tail also show that a customer that bought more than 10 times and with a age of 20 buys infrequently but he might buy again."
   ]
  },
  {
   "cell_type": "markdown",
   "metadata": {},
   "source": [
    "## Customer probability of being alive"
   ]
  },
  {
   "cell_type": "code",
   "execution_count": 27,
   "metadata": {},
   "outputs": [
    {
     "data": {
      "image/png": "[encoded data removed]",
      "text/plain": [
       "<Figure size 720x720 with 2 Axes>"
      ]
     },
     "metadata": {
      "needs_background": "light"
     },
     "output_type": "display_data"
    }
   ],
   "source": [
    "from lifetimes.plotting import plot_probability_alive_matrix\n",
    "\n",
    "plot_probability_alive_matrix(bgf,title=\"\");"
   ]
  },
  {
   "cell_type": "markdown",
   "metadata": {},
   "source": [
    "Probability of a customer being alive in non-contractual settings considering historical purchase data. Hot zone best customers. Customers with higher probabilities to buy again are the customers with a tail starting near the age of 5 months (time period between first purchase and last purchase). Customer with repeated purchases more than 15 and less 20 months have lower probabilities of being alive."
   ]
  },
  {
   "cell_type": "markdown",
   "metadata": {},
   "source": [
    "## Rank the customers"
   ]
  },
  {
   "cell_type": "markdown",
   "metadata": {},
   "source": [
    "Predicted purchases considering an month as time unit to 12 months"
   ]
  },
  {
   "cell_type": "code",
   "execution_count": 28,
   "metadata": {},
   "outputs": [
    {
     "data": {
      "text/html": [
       "<div>\n",
       "<style scoped>\n",
       "    .dataframe tbody tr th:only-of-type {\n",
       "        vertical-align: middle;\n",
       "    }\n",
       "\n",
       "    .dataframe tbody tr th {\n",
       "        vertical-align: top;\n",
       "    }\n",
       "\n",
       "    .dataframe thead th {\n",
       "        text-align: right;\n",
       "    }\n",
       "</style>\n",
       "<table border=\"1\" class=\"dataframe\">\n",
       "  <thead>\n",
       "    <tr style=\"text-align: right;\">\n",
       "      <th></th>\n",
       "      <th>frequency</th>\n",
       "      <th>recency</th>\n",
       "      <th>T</th>\n",
       "      <th>monetary_value</th>\n",
       "      <th>predicted_purchases</th>\n",
       "    </tr>\n",
       "    <tr>\n",
       "      <th>customerId</th>\n",
       "      <th></th>\n",
       "      <th></th>\n",
       "      <th></th>\n",
       "      <th></th>\n",
       "      <th></th>\n",
       "    </tr>\n",
       "  </thead>\n",
       "  <tbody>\n",
       "    <tr>\n",
       "      <th>92</th>\n",
       "      <td>23.0</td>\n",
       "      <td>22.965564</td>\n",
       "      <td>23.984065</td>\n",
       "      <td>244.800000</td>\n",
       "      <td>9.589603</td>\n",
       "    </tr>\n",
       "    <tr>\n",
       "      <th>85</th>\n",
       "      <td>23.0</td>\n",
       "      <td>22.965564</td>\n",
       "      <td>23.984065</td>\n",
       "      <td>865.397826</td>\n",
       "      <td>9.589603</td>\n",
       "    </tr>\n",
       "    <tr>\n",
       "      <th>6057</th>\n",
       "      <td>15.0</td>\n",
       "      <td>15.014682</td>\n",
       "      <td>15.014682</td>\n",
       "      <td>110.072667</td>\n",
       "      <td>9.662518</td>\n",
       "    </tr>\n",
       "    <tr>\n",
       "      <th>6053</th>\n",
       "      <td>15.0</td>\n",
       "      <td>15.014682</td>\n",
       "      <td>15.014682</td>\n",
       "      <td>324.835333</td>\n",
       "      <td>9.662518</td>\n",
       "    </tr>\n",
       "    <tr>\n",
       "      <th>6046</th>\n",
       "      <td>16.0</td>\n",
       "      <td>16.033183</td>\n",
       "      <td>16.033183</td>\n",
       "      <td>91.921875</td>\n",
       "      <td>9.753373</td>\n",
       "    </tr>\n",
       "    <tr>\n",
       "      <th>6031</th>\n",
       "      <td>17.0</td>\n",
       "      <td>17.018830</td>\n",
       "      <td>17.018830</td>\n",
       "      <td>107.545882</td>\n",
       "      <td>9.852382</td>\n",
       "    </tr>\n",
       "    <tr>\n",
       "      <th>6014</th>\n",
       "      <td>19.0</td>\n",
       "      <td>18.957268</td>\n",
       "      <td>18.957268</td>\n",
       "      <td>55.294737</td>\n",
       "      <td>10.042103</td>\n",
       "    </tr>\n",
       "    <tr>\n",
       "      <th>14</th>\n",
       "      <td>26.0</td>\n",
       "      <td>27.006715</td>\n",
       "      <td>27.006715</td>\n",
       "      <td>60.951923</td>\n",
       "      <td>10.092086</td>\n",
       "    </tr>\n",
       "    <tr>\n",
       "      <th>100</th>\n",
       "      <td>23.0</td>\n",
       "      <td>22.998419</td>\n",
       "      <td>22.998419</td>\n",
       "      <td>65.253913</td>\n",
       "      <td>10.282090</td>\n",
       "    </tr>\n",
       "    <tr>\n",
       "      <th>40</th>\n",
       "      <td>27.0</td>\n",
       "      <td>27.006715</td>\n",
       "      <td>27.006715</td>\n",
       "      <td>135.106667</td>\n",
       "      <td>10.477113</td>\n",
       "    </tr>\n",
       "  </tbody>\n",
       "</table>\n",
       "</div>"
      ],
      "text/plain": [
       "            frequency    recency          T  monetary_value  \\\n",
       "customerId                                                    \n",
       "92               23.0  22.965564  23.984065      244.800000   \n",
       "85               23.0  22.965564  23.984065      865.397826   \n",
       "6057             15.0  15.014682  15.014682      110.072667   \n",
       "6053             15.0  15.014682  15.014682      324.835333   \n",
       "6046             16.0  16.033183  16.033183       91.921875   \n",
       "6031             17.0  17.018830  17.018830      107.545882   \n",
       "6014             19.0  18.957268  18.957268       55.294737   \n",
       "14               26.0  27.006715  27.006715       60.951923   \n",
       "100              23.0  22.998419  22.998419       65.253913   \n",
       "40               27.0  27.006715  27.006715      135.106667   \n",
       "\n",
       "            predicted_purchases  \n",
       "customerId                       \n",
       "92                     9.589603  \n",
       "85                     9.589603  \n",
       "6057                   9.662518  \n",
       "6053                   9.662518  \n",
       "6046                   9.753373  \n",
       "6031                   9.852382  \n",
       "6014                  10.042103  \n",
       "14                    10.092086  \n",
       "100                   10.282090  \n",
       "40                    10.477113  "
      ]
     },
     "execution_count": 28,
     "metadata": {},
     "output_type": "execute_result"
    }
   ],
   "source": [
    "t=12\n",
    "summary['predicted_purchases'] = bgf.conditional_expected_number_of_purchases_up_to_time(t, summary['frequency'], summary['recency'], \n",
    "                                                        summary['T'])\n",
    "summary.sort_values(by='predicted_purchases').tail(10)"
   ]
  },
  {
   "cell_type": "markdown",
   "metadata": {},
   "source": [
    "## Model fit"
   ]
  },
  {
   "cell_type": "code",
   "execution_count": 29,
   "metadata": {},
   "outputs": [
    {
     "data": {
      "image/png": "[encoded data removed]",
      "text/plain": [
       "<Figure size 864x216 with 1 Axes>"
      ]
     },
     "metadata": {
      "needs_background": "light"
     },
     "output_type": "display_data"
    }
   ],
   "source": [
    "from lifetimes.plotting import plot_period_transactions\n",
    "plt.rcParams['figure.figsize']= [12,3]\n",
    "\n",
    "plot_period_transactions(bgf);"
   ]
  },
  {
   "cell_type": "code",
   "execution_count": 30,
   "metadata": {},
   "outputs": [],
   "source": [
    "from lifetimes.utils import calibration_and_holdout_data\n",
    "\n",
    "summary_cal_holdout = calibration_and_holdout_data(df, 'customerId', 'date',calibration_period_end='2019-03-31',\n",
    "                                                   observation_period_end='2019-09-12' )"
   ]
  },
  {
   "cell_type": "code",
   "execution_count": 31,
   "metadata": {},
   "outputs": [
    {
     "data": {
      "text/plain": [
       "Timestamp('2017-06-07 00:00:00')"
      ]
     },
     "execution_count": 31,
     "metadata": {},
     "output_type": "execute_result"
    }
   ],
   "source": [
    "df.date.min()"
   ]
  },
  {
   "cell_type": "code",
   "execution_count": 32,
   "metadata": {},
   "outputs": [
    {
     "data": {
      "text/plain": [
       "Timestamp('2019-09-11 00:00:00')"
      ]
     },
     "execution_count": 32,
     "metadata": {},
     "output_type": "execute_result"
    }
   ],
   "source": [
    "df.date.max()"
   ]
  },
  {
   "cell_type": "code",
   "execution_count": 33,
   "metadata": {},
   "outputs": [
    {
     "data": {
      "text/html": [
       "<div>\n",
       "<style scoped>\n",
       "    .dataframe tbody tr th:only-of-type {\n",
       "        vertical-align: middle;\n",
       "    }\n",
       "\n",
       "    .dataframe tbody tr th {\n",
       "        vertical-align: top;\n",
       "    }\n",
       "\n",
       "    .dataframe thead th {\n",
       "        text-align: right;\n",
       "    }\n",
       "</style>\n",
       "<table border=\"1\" class=\"dataframe\">\n",
       "  <thead>\n",
       "    <tr style=\"text-align: right;\">\n",
       "      <th></th>\n",
       "      <th>frequency_cal</th>\n",
       "      <th>recency_cal</th>\n",
       "      <th>T_cal</th>\n",
       "      <th>frequency_holdout</th>\n",
       "      <th>duration_holdout</th>\n",
       "    </tr>\n",
       "    <tr>\n",
       "      <th>customerId</th>\n",
       "      <th></th>\n",
       "      <th></th>\n",
       "      <th></th>\n",
       "      <th></th>\n",
       "      <th></th>\n",
       "    </tr>\n",
       "  </thead>\n",
       "  <tbody>\n",
       "    <tr>\n",
       "      <th>1</th>\n",
       "      <td>27.0</td>\n",
       "      <td>658.0</td>\n",
       "      <td>662.0</td>\n",
       "      <td>18.0</td>\n",
       "      <td>165</td>\n",
       "    </tr>\n",
       "    <tr>\n",
       "      <th>2</th>\n",
       "      <td>2.0</td>\n",
       "      <td>219.0</td>\n",
       "      <td>662.0</td>\n",
       "      <td>0.0</td>\n",
       "      <td>165</td>\n",
       "    </tr>\n",
       "    <tr>\n",
       "      <th>3</th>\n",
       "      <td>15.0</td>\n",
       "      <td>404.0</td>\n",
       "      <td>662.0</td>\n",
       "      <td>0.0</td>\n",
       "      <td>165</td>\n",
       "    </tr>\n",
       "    <tr>\n",
       "      <th>5</th>\n",
       "      <td>9.0</td>\n",
       "      <td>107.0</td>\n",
       "      <td>662.0</td>\n",
       "      <td>0.0</td>\n",
       "      <td>165</td>\n",
       "    </tr>\n",
       "    <tr>\n",
       "      <th>6</th>\n",
       "      <td>26.0</td>\n",
       "      <td>656.0</td>\n",
       "      <td>662.0</td>\n",
       "      <td>23.0</td>\n",
       "      <td>165</td>\n",
       "    </tr>\n",
       "  </tbody>\n",
       "</table>\n",
       "</div>"
      ],
      "text/plain": [
       "            frequency_cal  recency_cal  T_cal  frequency_holdout  \\\n",
       "customerId                                                         \n",
       "1                    27.0        658.0  662.0               18.0   \n",
       "2                     2.0        219.0  662.0                0.0   \n",
       "3                    15.0        404.0  662.0                0.0   \n",
       "5                     9.0        107.0  662.0                0.0   \n",
       "6                    26.0        656.0  662.0               23.0   \n",
       "\n",
       "            duration_holdout  \n",
       "customerId                    \n",
       "1                        165  \n",
       "2                        165  \n",
       "3                        165  \n",
       "5                        165  \n",
       "6                        165  "
      ]
     },
     "execution_count": 33,
     "metadata": {},
     "output_type": "execute_result"
    }
   ],
   "source": [
    "summary_cal_holdout.head()"
   ]
  },
  {
   "cell_type": "code",
   "execution_count": 34,
   "metadata": {},
   "outputs": [
    {
     "data": {
      "image/png": "[encoded data removed]",
      "text/plain": [
       "<Figure size 864x216 with 1 Axes>"
      ]
     },
     "metadata": {
      "needs_background": "light"
     },
     "output_type": "display_data"
    }
   ],
   "source": [
    "from lifetimes.plotting import plot_calibration_purchases_vs_holdout_purchases\n",
    "\n",
    "bgf.fit(summary_cal_holdout['frequency_cal'], summary_cal_holdout['recency_cal'], summary_cal_holdout['T_cal'])\n",
    "plot_calibration_purchases_vs_holdout_purchases(bgf, summary_cal_holdout,title=\"\");"
   ]
  },
  {
   "cell_type": "markdown",
   "metadata": {},
   "source": [
    "## Customer predictions"
   ]
  },
  {
   "cell_type": "code",
   "execution_count": 35,
   "metadata": {},
   "outputs": [
    {
     "data": {
      "text/html": [
       "<div>\n",
       "<style scoped>\n",
       "    .dataframe tbody tr th:only-of-type {\n",
       "        vertical-align: middle;\n",
       "    }\n",
       "\n",
       "    .dataframe tbody tr th {\n",
       "        vertical-align: top;\n",
       "    }\n",
       "\n",
       "    .dataframe thead th {\n",
       "        text-align: right;\n",
       "    }\n",
       "</style>\n",
       "<table border=\"1\" class=\"dataframe\">\n",
       "  <thead>\n",
       "    <tr style=\"text-align: right;\">\n",
       "      <th></th>\n",
       "      <th>frequency</th>\n",
       "      <th>recency</th>\n",
       "      <th>T</th>\n",
       "      <th>monetary_value</th>\n",
       "      <th>predicted_purchases</th>\n",
       "    </tr>\n",
       "    <tr>\n",
       "      <th>customerId</th>\n",
       "      <th></th>\n",
       "      <th></th>\n",
       "      <th></th>\n",
       "      <th></th>\n",
       "      <th></th>\n",
       "    </tr>\n",
       "  </thead>\n",
       "  <tbody>\n",
       "    <tr>\n",
       "      <th>1</th>\n",
       "      <td>17.0</td>\n",
       "      <td>27.006715</td>\n",
       "      <td>27.006715</td>\n",
       "      <td>120.438235</td>\n",
       "      <td>6.628143</td>\n",
       "    </tr>\n",
       "    <tr>\n",
       "      <th>2</th>\n",
       "      <td>2.0</td>\n",
       "      <td>7.030945</td>\n",
       "      <td>27.006715</td>\n",
       "      <td>22.480000</td>\n",
       "      <td>0.277178</td>\n",
       "    </tr>\n",
       "    <tr>\n",
       "      <th>3</th>\n",
       "      <td>12.0</td>\n",
       "      <td>12.977679</td>\n",
       "      <td>27.006715</td>\n",
       "      <td>23.946667</td>\n",
       "      <td>0.024071</td>\n",
       "    </tr>\n",
       "    <tr>\n",
       "      <th>5</th>\n",
       "      <td>3.0</td>\n",
       "      <td>3.022649</td>\n",
       "      <td>27.006715</td>\n",
       "      <td>30.600000</td>\n",
       "      <td>0.018222</td>\n",
       "    </tr>\n",
       "    <tr>\n",
       "      <th>6</th>\n",
       "      <td>14.0</td>\n",
       "      <td>27.006715</td>\n",
       "      <td>27.006715</td>\n",
       "      <td>522.901429</td>\n",
       "      <td>5.474433</td>\n",
       "    </tr>\n",
       "    <tr>\n",
       "      <th>7</th>\n",
       "      <td>18.0</td>\n",
       "      <td>18.004476</td>\n",
       "      <td>27.006715</td>\n",
       "      <td>30.033333</td>\n",
       "      <td>0.216322</td>\n",
       "    </tr>\n",
       "    <tr>\n",
       "      <th>8</th>\n",
       "      <td>23.0</td>\n",
       "      <td>25.988213</td>\n",
       "      <td>27.006715</td>\n",
       "      <td>32.710870</td>\n",
       "      <td>8.690088</td>\n",
       "    </tr>\n",
       "    <tr>\n",
       "      <th>9</th>\n",
       "      <td>6.0</td>\n",
       "      <td>23.984065</td>\n",
       "      <td>27.006715</td>\n",
       "      <td>88.353333</td>\n",
       "      <td>2.258805</td>\n",
       "    </tr>\n",
       "    <tr>\n",
       "      <th>10</th>\n",
       "      <td>16.0</td>\n",
       "      <td>27.006715</td>\n",
       "      <td>27.006715</td>\n",
       "      <td>124.520000</td>\n",
       "      <td>6.243492</td>\n",
       "    </tr>\n",
       "    <tr>\n",
       "      <th>11</th>\n",
       "      <td>2.0</td>\n",
       "      <td>3.022649</td>\n",
       "      <td>27.006715</td>\n",
       "      <td>89.100000</td>\n",
       "      <td>0.067597</td>\n",
       "    </tr>\n",
       "  </tbody>\n",
       "</table>\n",
       "</div>"
      ],
      "text/plain": [
       "            frequency    recency          T  monetary_value  \\\n",
       "customerId                                                    \n",
       "1                17.0  27.006715  27.006715      120.438235   \n",
       "2                 2.0   7.030945  27.006715       22.480000   \n",
       "3                12.0  12.977679  27.006715       23.946667   \n",
       "5                 3.0   3.022649  27.006715       30.600000   \n",
       "6                14.0  27.006715  27.006715      522.901429   \n",
       "7                18.0  18.004476  27.006715       30.033333   \n",
       "8                23.0  25.988213  27.006715       32.710870   \n",
       "9                 6.0  23.984065  27.006715       88.353333   \n",
       "10               16.0  27.006715  27.006715      124.520000   \n",
       "11                2.0   3.022649  27.006715       89.100000   \n",
       "\n",
       "            predicted_purchases  \n",
       "customerId                       \n",
       "1                      6.628143  \n",
       "2                      0.277178  \n",
       "3                      0.024071  \n",
       "5                      0.018222  \n",
       "6                      5.474433  \n",
       "7                      0.216322  \n",
       "8                      8.690088  \n",
       "9                      2.258805  \n",
       "10                     6.243492  \n",
       "11                     0.067597  "
      ]
     },
     "execution_count": 35,
     "metadata": {},
     "output_type": "execute_result"
    }
   ],
   "source": [
    "summary.head(10)"
   ]
  },
  {
   "cell_type": "code",
   "execution_count": 36,
   "metadata": {},
   "outputs": [
    {
     "data": {
      "text/html": [
       "<div>\n",
       "<style scoped>\n",
       "    .dataframe tbody tr th:only-of-type {\n",
       "        vertical-align: middle;\n",
       "    }\n",
       "\n",
       "    .dataframe tbody tr th {\n",
       "        vertical-align: top;\n",
       "    }\n",
       "\n",
       "    .dataframe thead th {\n",
       "        text-align: right;\n",
       "    }\n",
       "</style>\n",
       "<table border=\"1\" class=\"dataframe\">\n",
       "  <thead>\n",
       "    <tr style=\"text-align: right;\">\n",
       "      <th></th>\n",
       "      <th>frequency</th>\n",
       "      <th>recency</th>\n",
       "      <th>T</th>\n",
       "      <th>monetary_value</th>\n",
       "      <th>predicted_purchases</th>\n",
       "    </tr>\n",
       "  </thead>\n",
       "  <tbody>\n",
       "    <tr>\n",
       "      <th>count</th>\n",
       "      <td>284.000000</td>\n",
       "      <td>284.000000</td>\n",
       "      <td>284.000000</td>\n",
       "      <td>284.000000</td>\n",
       "      <td>284.000000</td>\n",
       "    </tr>\n",
       "    <tr>\n",
       "      <th>mean</th>\n",
       "      <td>4.890845</td>\n",
       "      <td>7.061602</td>\n",
       "      <td>18.763956</td>\n",
       "      <td>78.276456</td>\n",
       "      <td>1.924483</td>\n",
       "    </tr>\n",
       "    <tr>\n",
       "      <th>std</th>\n",
       "      <td>6.682506</td>\n",
       "      <td>8.301244</td>\n",
       "      <td>6.718018</td>\n",
       "      <td>212.572188</td>\n",
       "      <td>2.991001</td>\n",
       "    </tr>\n",
       "    <tr>\n",
       "      <th>min</th>\n",
       "      <td>0.000000</td>\n",
       "      <td>0.000000</td>\n",
       "      <td>1.018501</td>\n",
       "      <td>0.000000</td>\n",
       "      <td>0.007139</td>\n",
       "    </tr>\n",
       "    <tr>\n",
       "      <th>25%</th>\n",
       "      <td>0.000000</td>\n",
       "      <td>0.000000</td>\n",
       "      <td>14.768270</td>\n",
       "      <td>0.000000</td>\n",
       "      <td>0.207862</td>\n",
       "    </tr>\n",
       "    <tr>\n",
       "      <th>50%</th>\n",
       "      <td>2.000000</td>\n",
       "      <td>3.022649</td>\n",
       "      <td>18.957268</td>\n",
       "      <td>30.316667</td>\n",
       "      <td>0.361355</td>\n",
       "    </tr>\n",
       "    <tr>\n",
       "      <th>75%</th>\n",
       "      <td>7.250000</td>\n",
       "      <td>12.977679</td>\n",
       "      <td>25.002567</td>\n",
       "      <td>73.249803</td>\n",
       "      <td>1.821557</td>\n",
       "    </tr>\n",
       "    <tr>\n",
       "      <th>max</th>\n",
       "      <td>27.000000</td>\n",
       "      <td>27.006715</td>\n",
       "      <td>27.006715</td>\n",
       "      <td>2812.000000</td>\n",
       "      <td>10.477113</td>\n",
       "    </tr>\n",
       "  </tbody>\n",
       "</table>\n",
       "</div>"
      ],
      "text/plain": [
       "        frequency     recency           T  monetary_value  predicted_purchases\n",
       "count  284.000000  284.000000  284.000000      284.000000           284.000000\n",
       "mean     4.890845    7.061602   18.763956       78.276456             1.924483\n",
       "std      6.682506    8.301244    6.718018      212.572188             2.991001\n",
       "min      0.000000    0.000000    1.018501        0.000000             0.007139\n",
       "25%      0.000000    0.000000   14.768270        0.000000             0.207862\n",
       "50%      2.000000    3.022649   18.957268       30.316667             0.361355\n",
       "75%      7.250000   12.977679   25.002567       73.249803             1.821557\n",
       "max     27.000000   27.006715   27.006715     2812.000000            10.477113"
      ]
     },
     "execution_count": 36,
     "metadata": {},
     "output_type": "execute_result"
    }
   ],
   "source": [
    "summary.describe()"
   ]
  },
  {
   "cell_type": "code",
   "execution_count": 37,
   "metadata": {},
   "outputs": [
    {
     "data": {
      "text/plain": [
       "frequency               2.000000\n",
       "recency                 3.022649\n",
       "T                      27.006715\n",
       "monetary_value         89.100000\n",
       "predicted_purchases     0.067597\n",
       "Name: 11, dtype: float64"
      ]
     },
     "execution_count": 37,
     "metadata": {},
     "output_type": "execute_result"
    }
   ],
   "source": [
    "# Vamos prever o valor com o cliente número 11 está na posição 9\n",
    "summary.iloc[9]"
   ]
  },
  {
   "cell_type": "code",
   "execution_count": 38,
   "metadata": {},
   "outputs": [
    {
     "data": {
      "text/plain": [
       "0.8426420108103658"
      ]
     },
     "execution_count": 38,
     "metadata": {},
     "output_type": "execute_result"
    }
   ],
   "source": [
    "t = 12 #predict purchases in 10 periods\n",
    "individual = summary.iloc[20]\n",
    "# The below function is an alias to `bfg.conditional_expected_number_of_purchases_up_to_time`\n",
    "bgf.predict(t, individual['frequency'], individual['recency'], individual['T'])\n",
    "# 0.0576511"
   ]
  },
  {
   "cell_type": "markdown",
   "metadata": {},
   "source": [
    "## Customer history probability"
   ]
  },
  {
   "cell_type": "code",
   "execution_count": 39,
   "metadata": {},
   "outputs": [
    {
     "data": {
      "text/html": [
       "<div>\n",
       "<style scoped>\n",
       "    .dataframe tbody tr th:only-of-type {\n",
       "        vertical-align: middle;\n",
       "    }\n",
       "\n",
       "    .dataframe tbody tr th {\n",
       "        vertical-align: top;\n",
       "    }\n",
       "\n",
       "    .dataframe thead th {\n",
       "        text-align: right;\n",
       "    }\n",
       "</style>\n",
       "<table border=\"1\" class=\"dataframe\">\n",
       "  <thead>\n",
       "    <tr style=\"text-align: right;\">\n",
       "      <th></th>\n",
       "      <th>index</th>\n",
       "      <th>customerId</th>\n",
       "      <th>date</th>\n",
       "      <th>value</th>\n",
       "      <th>IVA</th>\n",
       "      <th>discountFinan</th>\n",
       "      <th>discountComer</th>\n",
       "      <th>valueWithIVA</th>\n",
       "      <th>year</th>\n",
       "    </tr>\n",
       "  </thead>\n",
       "  <tbody>\n",
       "    <tr>\n",
       "      <th>0</th>\n",
       "      <td>0</td>\n",
       "      <td>1</td>\n",
       "      <td>2017-06-07</td>\n",
       "      <td>118.14</td>\n",
       "      <td>17.40</td>\n",
       "      <td>0</td>\n",
       "      <td>0.0</td>\n",
       "      <td>135.54</td>\n",
       "      <td>2017</td>\n",
       "    </tr>\n",
       "    <tr>\n",
       "      <th>1</th>\n",
       "      <td>1</td>\n",
       "      <td>1</td>\n",
       "      <td>2017-09-08</td>\n",
       "      <td>57.18</td>\n",
       "      <td>7.43</td>\n",
       "      <td>0</td>\n",
       "      <td>0.0</td>\n",
       "      <td>64.61</td>\n",
       "      <td>2017</td>\n",
       "    </tr>\n",
       "    <tr>\n",
       "      <th>2</th>\n",
       "      <td>2</td>\n",
       "      <td>1</td>\n",
       "      <td>2018-02-27</td>\n",
       "      <td>40.50</td>\n",
       "      <td>5.27</td>\n",
       "      <td>0</td>\n",
       "      <td>0.0</td>\n",
       "      <td>45.77</td>\n",
       "      <td>2018</td>\n",
       "    </tr>\n",
       "    <tr>\n",
       "      <th>3</th>\n",
       "      <td>3</td>\n",
       "      <td>1</td>\n",
       "      <td>2018-04-30</td>\n",
       "      <td>32.94</td>\n",
       "      <td>4.28</td>\n",
       "      <td>0</td>\n",
       "      <td>0.0</td>\n",
       "      <td>37.22</td>\n",
       "      <td>2018</td>\n",
       "    </tr>\n",
       "    <tr>\n",
       "      <th>4</th>\n",
       "      <td>4</td>\n",
       "      <td>1</td>\n",
       "      <td>2018-06-06</td>\n",
       "      <td>30.60</td>\n",
       "      <td>7.04</td>\n",
       "      <td>0</td>\n",
       "      <td>0.0</td>\n",
       "      <td>37.64</td>\n",
       "      <td>2018</td>\n",
       "    </tr>\n",
       "  </tbody>\n",
       "</table>\n",
       "</div>"
      ],
      "text/plain": [
       "   index  customerId       date   value    IVA  discountFinan  discountComer  \\\n",
       "0      0           1 2017-06-07  118.14  17.40              0            0.0   \n",
       "1      1           1 2017-09-08   57.18   7.43              0            0.0   \n",
       "2      2           1 2018-02-27   40.50   5.27              0            0.0   \n",
       "3      3           1 2018-04-30   32.94   4.28              0            0.0   \n",
       "4      4           1 2018-06-06   30.60   7.04              0            0.0   \n",
       "\n",
       "   valueWithIVA  year  \n",
       "0        135.54  2017  \n",
       "1         64.61  2017  \n",
       "2         45.77  2018  \n",
       "3         37.22  2018  \n",
       "4         37.64  2018  "
      ]
     },
     "execution_count": 39,
     "metadata": {},
     "output_type": "execute_result"
    }
   ],
   "source": [
    "df.head()"
   ]
  },
  {
   "cell_type": "code",
   "execution_count": 40,
   "metadata": {},
   "outputs": [
    {
     "data": {
      "image/png": "[encoded data removed]",
      "text/plain": [
       "<Figure size 864x216 with 1 Axes>"
      ]
     },
     "metadata": {
      "needs_background": "light"
     },
     "output_type": "display_data"
    }
   ],
   "source": [
    "from lifetimes.plotting import plot_history_alive\n",
    "\n",
    "customerId = 3\n",
    "days_since_birth = 24 #the number of time units since the birth we want to draw the p_alive\n",
    "sp_trans = df.loc[df['customerId'] == customerId]\n",
    "plot_history_alive(bgf, days_since_birth, sp_trans, 'date',freq='M');"
   ]
  },
  {
   "cell_type": "code",
   "execution_count": 41,
   "metadata": {},
   "outputs": [
    {
     "data": {
      "text/plain": [
       "Index(['index', 'customerId', 'date', 'value', 'IVA', 'discountFinan',\n",
       "       'discountComer', 'valueWithIVA', 'year'],\n",
       "      dtype='object')"
      ]
     },
     "execution_count": 41,
     "metadata": {},
     "output_type": "execute_result"
    }
   ],
   "source": [
    "df.columns"
   ]
  },
  {
   "cell_type": "code",
   "execution_count": 42,
   "metadata": {},
   "outputs": [
    {
     "data": {
      "text/html": [
       "<div>\n",
       "<style scoped>\n",
       "    .dataframe tbody tr th:only-of-type {\n",
       "        vertical-align: middle;\n",
       "    }\n",
       "\n",
       "    .dataframe tbody tr th {\n",
       "        vertical-align: top;\n",
       "    }\n",
       "\n",
       "    .dataframe thead th {\n",
       "        text-align: right;\n",
       "    }\n",
       "</style>\n",
       "<table border=\"1\" class=\"dataframe\">\n",
       "  <thead>\n",
       "    <tr style=\"text-align: right;\">\n",
       "      <th></th>\n",
       "      <th>valueWithIVA</th>\n",
       "    </tr>\n",
       "  </thead>\n",
       "  <tbody>\n",
       "    <tr>\n",
       "      <th>sum</th>\n",
       "      <td>485.950000</td>\n",
       "    </tr>\n",
       "    <tr>\n",
       "      <th>count</th>\n",
       "      <td>17.000000</td>\n",
       "    </tr>\n",
       "    <tr>\n",
       "      <th>mean</th>\n",
       "      <td>28.585294</td>\n",
       "    </tr>\n",
       "    <tr>\n",
       "      <th>std</th>\n",
       "      <td>21.123103</td>\n",
       "    </tr>\n",
       "    <tr>\n",
       "      <th>min</th>\n",
       "      <td>6.760000</td>\n",
       "    </tr>\n",
       "    <tr>\n",
       "      <th>max</th>\n",
       "      <td>108.620000</td>\n",
       "    </tr>\n",
       "  </tbody>\n",
       "</table>\n",
       "</div>"
      ],
      "text/plain": [
       "       valueWithIVA\n",
       "sum      485.950000\n",
       "count     17.000000\n",
       "mean      28.585294\n",
       "std       21.123103\n",
       "min        6.760000\n",
       "max      108.620000"
      ]
     },
     "execution_count": 42,
     "metadata": {},
     "output_type": "execute_result"
    }
   ],
   "source": [
    "df.loc[df.customerId == 3].agg({'valueWithIVA':['sum','count','mean','std','min','max']})"
   ]
  },
  {
   "cell_type": "markdown",
   "metadata": {
    "toc-hr-collapsed": true,
    "toc-nb-collapsed": true
   },
   "source": [
    "# Gamma-Gamma model estimating lifetime value"
   ]
  },
  {
   "cell_type": "code",
   "execution_count": 43,
   "metadata": {},
   "outputs": [
    {
     "data": {
      "text/html": [
       "<div>\n",
       "<style scoped>\n",
       "    .dataframe tbody tr th:only-of-type {\n",
       "        vertical-align: middle;\n",
       "    }\n",
       "\n",
       "    .dataframe tbody tr th {\n",
       "        vertical-align: top;\n",
       "    }\n",
       "\n",
       "    .dataframe thead th {\n",
       "        text-align: right;\n",
       "    }\n",
       "</style>\n",
       "<table border=\"1\" class=\"dataframe\">\n",
       "  <thead>\n",
       "    <tr style=\"text-align: right;\">\n",
       "      <th></th>\n",
       "      <th>frequency</th>\n",
       "      <th>recency</th>\n",
       "      <th>T</th>\n",
       "      <th>monetary_value</th>\n",
       "      <th>predicted_purchases</th>\n",
       "    </tr>\n",
       "    <tr>\n",
       "      <th>customerId</th>\n",
       "      <th></th>\n",
       "      <th></th>\n",
       "      <th></th>\n",
       "      <th></th>\n",
       "      <th></th>\n",
       "    </tr>\n",
       "  </thead>\n",
       "  <tbody>\n",
       "    <tr>\n",
       "      <th>1</th>\n",
       "      <td>17.0</td>\n",
       "      <td>27.006715</td>\n",
       "      <td>27.006715</td>\n",
       "      <td>120.438235</td>\n",
       "      <td>6.628143</td>\n",
       "    </tr>\n",
       "    <tr>\n",
       "      <th>2</th>\n",
       "      <td>2.0</td>\n",
       "      <td>7.030945</td>\n",
       "      <td>27.006715</td>\n",
       "      <td>22.480000</td>\n",
       "      <td>0.277178</td>\n",
       "    </tr>\n",
       "    <tr>\n",
       "      <th>3</th>\n",
       "      <td>12.0</td>\n",
       "      <td>12.977679</td>\n",
       "      <td>27.006715</td>\n",
       "      <td>23.946667</td>\n",
       "      <td>0.024071</td>\n",
       "    </tr>\n",
       "    <tr>\n",
       "      <th>5</th>\n",
       "      <td>3.0</td>\n",
       "      <td>3.022649</td>\n",
       "      <td>27.006715</td>\n",
       "      <td>30.600000</td>\n",
       "      <td>0.018222</td>\n",
       "    </tr>\n",
       "    <tr>\n",
       "      <th>6</th>\n",
       "      <td>14.0</td>\n",
       "      <td>27.006715</td>\n",
       "      <td>27.006715</td>\n",
       "      <td>522.901429</td>\n",
       "      <td>5.474433</td>\n",
       "    </tr>\n",
       "    <tr>\n",
       "      <th>7</th>\n",
       "      <td>18.0</td>\n",
       "      <td>18.004476</td>\n",
       "      <td>27.006715</td>\n",
       "      <td>30.033333</td>\n",
       "      <td>0.216322</td>\n",
       "    </tr>\n",
       "    <tr>\n",
       "      <th>8</th>\n",
       "      <td>23.0</td>\n",
       "      <td>25.988213</td>\n",
       "      <td>27.006715</td>\n",
       "      <td>32.710870</td>\n",
       "      <td>8.690088</td>\n",
       "    </tr>\n",
       "    <tr>\n",
       "      <th>9</th>\n",
       "      <td>6.0</td>\n",
       "      <td>23.984065</td>\n",
       "      <td>27.006715</td>\n",
       "      <td>88.353333</td>\n",
       "      <td>2.258805</td>\n",
       "    </tr>\n",
       "    <tr>\n",
       "      <th>10</th>\n",
       "      <td>16.0</td>\n",
       "      <td>27.006715</td>\n",
       "      <td>27.006715</td>\n",
       "      <td>124.520000</td>\n",
       "      <td>6.243492</td>\n",
       "    </tr>\n",
       "    <tr>\n",
       "      <th>11</th>\n",
       "      <td>2.0</td>\n",
       "      <td>3.022649</td>\n",
       "      <td>27.006715</td>\n",
       "      <td>89.100000</td>\n",
       "      <td>0.067597</td>\n",
       "    </tr>\n",
       "  </tbody>\n",
       "</table>\n",
       "</div>"
      ],
      "text/plain": [
       "            frequency    recency          T  monetary_value  \\\n",
       "customerId                                                    \n",
       "1                17.0  27.006715  27.006715      120.438235   \n",
       "2                 2.0   7.030945  27.006715       22.480000   \n",
       "3                12.0  12.977679  27.006715       23.946667   \n",
       "5                 3.0   3.022649  27.006715       30.600000   \n",
       "6                14.0  27.006715  27.006715      522.901429   \n",
       "7                18.0  18.004476  27.006715       30.033333   \n",
       "8                23.0  25.988213  27.006715       32.710870   \n",
       "9                 6.0  23.984065  27.006715       88.353333   \n",
       "10               16.0  27.006715  27.006715      124.520000   \n",
       "11                2.0   3.022649  27.006715       89.100000   \n",
       "\n",
       "            predicted_purchases  \n",
       "customerId                       \n",
       "1                      6.628143  \n",
       "2                      0.277178  \n",
       "3                      0.024071  \n",
       "5                      0.018222  \n",
       "6                      5.474433  \n",
       "7                      0.216322  \n",
       "8                      8.690088  \n",
       "9                      2.258805  \n",
       "10                     6.243492  \n",
       "11                     0.067597  "
      ]
     },
     "execution_count": 43,
     "metadata": {},
     "output_type": "execute_result"
    }
   ],
   "source": [
    "summary.head(10)"
   ]
  },
  {
   "cell_type": "markdown",
   "metadata": {},
   "source": [
    "## Gamma-Gamma independence assumption\n",
    "Assumes that there is no relationship between the monetary value and the purchase frequency. We will check if the Pearson correlation is close to 0.\n",
    "\n",
    "http://www.brucehardie.com/notes/025/ The Gamma-Gamma Model of Monetary Value.\n",
    "\n",
    "Peter S. Fader, Bruce G. S. Hardie, and Ka Lok Lee (2005), \"RFM and CLV: Using iso-value curves for customer base analysis\", Journal of Marketing Research, 42 (November), 415-430"
   ]
  },
  {
   "cell_type": "code",
   "execution_count": 44,
   "metadata": {},
   "outputs": [],
   "source": [
    "summary_ggf = summary.loc[(summary.frequency > 0) & (summary.monetary_value > 0)]"
   ]
  },
  {
   "cell_type": "code",
   "execution_count": 45,
   "metadata": {},
   "outputs": [
    {
     "data": {
      "text/plain": [
       "Index(['frequency', 'recency', 'T', 'monetary_value', 'predicted_purchases'], dtype='object')"
      ]
     },
     "execution_count": 45,
     "metadata": {},
     "output_type": "execute_result"
    }
   ],
   "source": [
    "summary_ggf.columns"
   ]
  },
  {
   "cell_type": "code",
   "execution_count": 46,
   "metadata": {},
   "outputs": [
    {
     "data": {
      "text/html": [
       "<div>\n",
       "<style scoped>\n",
       "    .dataframe tbody tr th:only-of-type {\n",
       "        vertical-align: middle;\n",
       "    }\n",
       "\n",
       "    .dataframe tbody tr th {\n",
       "        vertical-align: top;\n",
       "    }\n",
       "\n",
       "    .dataframe thead th {\n",
       "        text-align: right;\n",
       "    }\n",
       "</style>\n",
       "<table border=\"1\" class=\"dataframe\">\n",
       "  <thead>\n",
       "    <tr style=\"text-align: right;\">\n",
       "      <th></th>\n",
       "      <th>frequency</th>\n",
       "      <th>monetary_value</th>\n",
       "    </tr>\n",
       "  </thead>\n",
       "  <tbody>\n",
       "    <tr>\n",
       "      <th>frequency</th>\n",
       "      <td>1.000000</td>\n",
       "      <td>0.063136</td>\n",
       "    </tr>\n",
       "    <tr>\n",
       "      <th>monetary_value</th>\n",
       "      <td>0.063136</td>\n",
       "      <td>1.000000</td>\n",
       "    </tr>\n",
       "  </tbody>\n",
       "</table>\n",
       "</div>"
      ],
      "text/plain": [
       "                frequency  monetary_value\n",
       "frequency        1.000000        0.063136\n",
       "monetary_value   0.063136        1.000000"
      ]
     },
     "execution_count": 46,
     "metadata": {},
     "output_type": "execute_result"
    }
   ],
   "source": [
    "summary_ggf[['frequency','monetary_value']].corr()"
   ]
  },
  {
   "cell_type": "code",
   "execution_count": 47,
   "metadata": {},
   "outputs": [
    {
     "data": {
      "text/plain": [
       "<matplotlib.axes._subplots.AxesSubplot at 0x225529e8588>"
      ]
     },
     "execution_count": 47,
     "metadata": {},
     "output_type": "execute_result"
    },
    {
     "data": {
      "image/png": "[encoded data removed]",
      "text/plain": [
       "<Figure size 864x216 with 1 Axes>"
      ]
     },
     "metadata": {
      "needs_background": "light"
     },
     "output_type": "display_data"
    }
   ],
   "source": [
    "summary_ggf.monetary_value.hist()"
   ]
  },
  {
   "cell_type": "code",
   "execution_count": 48,
   "metadata": {},
   "outputs": [
    {
     "data": {
      "text/plain": [
       "<lifetimes.GammaGammaFitter: fitted with 188 subjects, p: 3.71, q: 1.64, v: 21.20>"
      ]
     },
     "execution_count": 48,
     "metadata": {},
     "output_type": "execute_result"
    }
   ],
   "source": [
    "from lifetimes import GammaGammaFitter\n",
    "\n",
    "ggf = GammaGammaFitter(penalizer_coef=0.0)\n",
    "ggf.fit(summary_ggf['frequency'],summary_ggf['monetary_value'])"
   ]
  },
  {
   "cell_type": "code",
   "execution_count": 49,
   "metadata": {},
   "outputs": [
    {
     "data": {
      "text/plain": [
       "customerId\n",
       "1     120.455855\n",
       "2      30.438143\n",
       "3      25.346632\n",
       "5      35.606548\n",
       "6     517.996575\n",
       "7      30.912995\n",
       "8      33.380687\n",
       "9      89.303988\n",
       "10    124.494926\n",
       "11     91.740605\n",
       "dtype: float64"
      ]
     },
     "execution_count": 49,
     "metadata": {},
     "output_type": "execute_result"
    }
   ],
   "source": [
    "ggf.conditional_expected_average_profit(summary_ggf['frequency'],summary_ggf['monetary_value']).head(10)"
   ]
  },
  {
   "cell_type": "code",
   "execution_count": 50,
   "metadata": {},
   "outputs": [
    {
     "data": {
      "text/plain": [
       "<lifetimes.BetaGeoFitter: fitted with 188 subjects, a: 0.45, alpha: 8.14, b: 1.76, r: 5.40>"
      ]
     },
     "execution_count": 50,
     "metadata": {},
     "output_type": "execute_result"
    }
   ],
   "source": [
    "bgf.fit(summary_ggf['frequency'], summary_ggf['recency'], summary_ggf['T'])"
   ]
  },
  {
   "cell_type": "code",
   "execution_count": 51,
   "metadata": {},
   "outputs": [
    {
     "data": {
      "text/plain": [
       "customerId\n",
       "1     11885.015401\n",
       "2        10.256615\n",
       "3         7.869748\n",
       "5         0.644359\n",
       "6     43547.721198\n",
       "7       130.330344\n",
       "8      4164.611855\n",
       "9      3590.318877\n",
       "10    11678.400147\n",
       "11        3.233172\n",
       "Name: clv, dtype: float64"
      ]
     },
     "execution_count": 51,
     "metadata": {},
     "output_type": "execute_result"
    }
   ],
   "source": [
    "bgf.fit(summary_ggf['frequency'], summary_ggf['recency'], summary_ggf['T'])\n",
    "\n",
    "ggf.customer_lifetime_value(\n",
    "    bgf, #the model to use to predict the number of future transactions\n",
    "    summary_ggf['frequency'],\n",
    "    summary_ggf['recency'],\n",
    "    summary_ggf['T'],\n",
    "    summary_ggf['monetary_value'],\n",
    "    time=12, # months\n",
    "    discount_rate=0.01 # monthly discount rate ~ 12.7% annually\n",
    ").head(10)"
   ]
  },
  {
   "cell_type": "markdown",
   "metadata": {},
   "source": [
    "Vamos criar um dataframe com as previsoes"
   ]
  },
  {
   "cell_type": "code",
   "execution_count": 52,
   "metadata": {},
   "outputs": [],
   "source": [
    "ggf_CLV = ggf.customer_lifetime_value(\n",
    "    bgf, #the model to use to predict the number of future transactions\n",
    "    summary_ggf['frequency'],\n",
    "    summary_ggf['recency'],\n",
    "    summary_ggf['T'],\n",
    "    summary_ggf['monetary_value'],\n",
    "    time=12, # months\n",
    "    discount_rate=0.01 # monthly discount rate ~ 12.7% annually\n",
    ")"
   ]
  },
  {
   "cell_type": "code",
   "execution_count": 53,
   "metadata": {},
   "outputs": [
    {
     "data": {
      "text/plain": [
       "customerId\n",
       "1     11885.015401\n",
       "2        10.256615\n",
       "3         7.869748\n",
       "5         0.644359\n",
       "6     43547.721198\n",
       "7       130.330344\n",
       "8      4164.611855\n",
       "9      3590.318877\n",
       "10    11678.400147\n",
       "11        3.233172\n",
       "Name: clv, dtype: float64"
      ]
     },
     "execution_count": 53,
     "metadata": {},
     "output_type": "execute_result"
    }
   ],
   "source": [
    "ggf_CLV.head(10)"
   ]
  },
  {
   "cell_type": "markdown",
   "metadata": {},
   "source": [
    "# Cluster calculations based in the CLV"
   ]
  },
  {
   "cell_type": "markdown",
   "metadata": {},
   "source": [
    "Juntar o valor previsto com quadro RFM e criar os clusters"
   ]
  },
  {
   "cell_type": "markdown",
   "metadata": {},
   "source": [
    "Alterar o código a partir daqui"
   ]
  },
  {
   "cell_type": "code",
   "execution_count": 54,
   "metadata": {},
   "outputs": [],
   "source": [
    "# transformar Series em dataframe \n",
    "ggf_CLV=pd.DataFrame(ggf_CLV)\n",
    "#ggf=pd.DataFrame(ggf)"
   ]
  },
  {
   "cell_type": "code",
   "execution_count": 55,
   "metadata": {},
   "outputs": [],
   "source": [
    "dadosTodos=pd.merge(summary,ggf_CLV, left_index=True, right_index=True)"
   ]
  },
  {
   "cell_type": "code",
   "execution_count": 56,
   "metadata": {},
   "outputs": [
    {
     "data": {
      "text/plain": [
       "(188, 6)"
      ]
     },
     "execution_count": 56,
     "metadata": {},
     "output_type": "execute_result"
    }
   ],
   "source": [
    "dadosTodos.shape"
   ]
  },
  {
   "cell_type": "code",
   "execution_count": 57,
   "metadata": {},
   "outputs": [
    {
     "data": {
      "text/html": [
       "<div>\n",
       "<style scoped>\n",
       "    .dataframe tbody tr th:only-of-type {\n",
       "        vertical-align: middle;\n",
       "    }\n",
       "\n",
       "    .dataframe tbody tr th {\n",
       "        vertical-align: top;\n",
       "    }\n",
       "\n",
       "    .dataframe thead th {\n",
       "        text-align: right;\n",
       "    }\n",
       "</style>\n",
       "<table border=\"1\" class=\"dataframe\">\n",
       "  <thead>\n",
       "    <tr style=\"text-align: right;\">\n",
       "      <th></th>\n",
       "      <th>customerId</th>\n",
       "      <th>frequency</th>\n",
       "      <th>recency</th>\n",
       "      <th>T</th>\n",
       "      <th>monetary_value</th>\n",
       "      <th>predicted_purchases</th>\n",
       "      <th>clv</th>\n",
       "    </tr>\n",
       "  </thead>\n",
       "  <tbody>\n",
       "    <tr>\n",
       "      <th>0</th>\n",
       "      <td>1</td>\n",
       "      <td>17.0</td>\n",
       "      <td>27.006715</td>\n",
       "      <td>27.006715</td>\n",
       "      <td>120.438235</td>\n",
       "      <td>6.628143</td>\n",
       "      <td>11885.015401</td>\n",
       "    </tr>\n",
       "    <tr>\n",
       "      <th>1</th>\n",
       "      <td>2</td>\n",
       "      <td>2.0</td>\n",
       "      <td>7.030945</td>\n",
       "      <td>27.006715</td>\n",
       "      <td>22.480000</td>\n",
       "      <td>0.277178</td>\n",
       "      <td>10.256615</td>\n",
       "    </tr>\n",
       "    <tr>\n",
       "      <th>2</th>\n",
       "      <td>3</td>\n",
       "      <td>12.0</td>\n",
       "      <td>12.977679</td>\n",
       "      <td>27.006715</td>\n",
       "      <td>23.946667</td>\n",
       "      <td>0.024071</td>\n",
       "      <td>7.869748</td>\n",
       "    </tr>\n",
       "    <tr>\n",
       "      <th>3</th>\n",
       "      <td>5</td>\n",
       "      <td>3.0</td>\n",
       "      <td>3.022649</td>\n",
       "      <td>27.006715</td>\n",
       "      <td>30.600000</td>\n",
       "      <td>0.018222</td>\n",
       "      <td>0.644359</td>\n",
       "    </tr>\n",
       "    <tr>\n",
       "      <th>4</th>\n",
       "      <td>6</td>\n",
       "      <td>14.0</td>\n",
       "      <td>27.006715</td>\n",
       "      <td>27.006715</td>\n",
       "      <td>522.901429</td>\n",
       "      <td>5.474433</td>\n",
       "      <td>43547.721198</td>\n",
       "    </tr>\n",
       "  </tbody>\n",
       "</table>\n",
       "</div>"
      ],
      "text/plain": [
       "   customerId  frequency    recency          T  monetary_value  \\\n",
       "0           1       17.0  27.006715  27.006715      120.438235   \n",
       "1           2        2.0   7.030945  27.006715       22.480000   \n",
       "2           3       12.0  12.977679  27.006715       23.946667   \n",
       "3           5        3.0   3.022649  27.006715       30.600000   \n",
       "4           6       14.0  27.006715  27.006715      522.901429   \n",
       "\n",
       "   predicted_purchases           clv  \n",
       "0             6.628143  11885.015401  \n",
       "1             0.277178     10.256615  \n",
       "2             0.024071      7.869748  \n",
       "3             0.018222      0.644359  \n",
       "4             5.474433  43547.721198  "
      ]
     },
     "execution_count": 57,
     "metadata": {},
     "output_type": "execute_result"
    }
   ],
   "source": [
    "dadosTodos.head().reset_index()"
   ]
  },
  {
   "cell_type": "code",
   "execution_count": 58,
   "metadata": {},
   "outputs": [],
   "source": [
    "X = dadosTodos.copy()"
   ]
  },
  {
   "cell_type": "markdown",
   "metadata": {},
   "source": [
    "Calcular o número ótimo de clusters"
   ]
  },
  {
   "cell_type": "code",
   "execution_count": 59,
   "metadata": {},
   "outputs": [],
   "source": [
    "X=X.reset_index()"
   ]
  },
  {
   "cell_type": "code",
   "execution_count": 60,
   "metadata": {},
   "outputs": [
    {
     "data": {
      "text/html": [
       "<div>\n",
       "<style scoped>\n",
       "    .dataframe tbody tr th:only-of-type {\n",
       "        vertical-align: middle;\n",
       "    }\n",
       "\n",
       "    .dataframe tbody tr th {\n",
       "        vertical-align: top;\n",
       "    }\n",
       "\n",
       "    .dataframe thead th {\n",
       "        text-align: right;\n",
       "    }\n",
       "</style>\n",
       "<table border=\"1\" class=\"dataframe\">\n",
       "  <thead>\n",
       "    <tr style=\"text-align: right;\">\n",
       "      <th></th>\n",
       "      <th>customerId</th>\n",
       "      <th>frequency</th>\n",
       "      <th>recency</th>\n",
       "      <th>T</th>\n",
       "      <th>monetary_value</th>\n",
       "      <th>predicted_purchases</th>\n",
       "      <th>clv</th>\n",
       "    </tr>\n",
       "  </thead>\n",
       "  <tbody>\n",
       "    <tr>\n",
       "      <th>0</th>\n",
       "      <td>1</td>\n",
       "      <td>17.0</td>\n",
       "      <td>27.006715</td>\n",
       "      <td>27.006715</td>\n",
       "      <td>120.438235</td>\n",
       "      <td>6.628143</td>\n",
       "      <td>11885.015401</td>\n",
       "    </tr>\n",
       "    <tr>\n",
       "      <th>1</th>\n",
       "      <td>2</td>\n",
       "      <td>2.0</td>\n",
       "      <td>7.030945</td>\n",
       "      <td>27.006715</td>\n",
       "      <td>22.480000</td>\n",
       "      <td>0.277178</td>\n",
       "      <td>10.256615</td>\n",
       "    </tr>\n",
       "    <tr>\n",
       "      <th>2</th>\n",
       "      <td>3</td>\n",
       "      <td>12.0</td>\n",
       "      <td>12.977679</td>\n",
       "      <td>27.006715</td>\n",
       "      <td>23.946667</td>\n",
       "      <td>0.024071</td>\n",
       "      <td>7.869748</td>\n",
       "    </tr>\n",
       "    <tr>\n",
       "      <th>3</th>\n",
       "      <td>5</td>\n",
       "      <td>3.0</td>\n",
       "      <td>3.022649</td>\n",
       "      <td>27.006715</td>\n",
       "      <td>30.600000</td>\n",
       "      <td>0.018222</td>\n",
       "      <td>0.644359</td>\n",
       "    </tr>\n",
       "    <tr>\n",
       "      <th>4</th>\n",
       "      <td>6</td>\n",
       "      <td>14.0</td>\n",
       "      <td>27.006715</td>\n",
       "      <td>27.006715</td>\n",
       "      <td>522.901429</td>\n",
       "      <td>5.474433</td>\n",
       "      <td>43547.721198</td>\n",
       "    </tr>\n",
       "    <tr>\n",
       "      <th>...</th>\n",
       "      <td>...</td>\n",
       "      <td>...</td>\n",
       "      <td>...</td>\n",
       "      <td>...</td>\n",
       "      <td>...</td>\n",
       "      <td>...</td>\n",
       "      <td>...</td>\n",
       "    </tr>\n",
       "    <tr>\n",
       "      <th>183</th>\n",
       "      <td>6092</td>\n",
       "      <td>6.0</td>\n",
       "      <td>6.965235</td>\n",
       "      <td>6.965235</td>\n",
       "      <td>79.900000</td>\n",
       "      <td>7.235164</td>\n",
       "      <td>6218.292491</td>\n",
       "    </tr>\n",
       "    <tr>\n",
       "      <th>184</th>\n",
       "      <td>6094</td>\n",
       "      <td>4.0</td>\n",
       "      <td>5.026797</td>\n",
       "      <td>6.045299</td>\n",
       "      <td>72.085000</td>\n",
       "      <td>5.131003</td>\n",
       "      <td>4177.026406</td>\n",
       "    </tr>\n",
       "    <tr>\n",
       "      <th>185</th>\n",
       "      <td>6095</td>\n",
       "      <td>4.0</td>\n",
       "      <td>4.008296</td>\n",
       "      <td>6.045299</td>\n",
       "      <td>23.380000</td>\n",
       "      <td>4.368534</td>\n",
       "      <td>1312.412614</td>\n",
       "    </tr>\n",
       "    <tr>\n",
       "      <th>186</th>\n",
       "      <td>6096</td>\n",
       "      <td>3.0</td>\n",
       "      <td>4.008296</td>\n",
       "      <td>5.026797</td>\n",
       "      <td>23.800000</td>\n",
       "      <td>4.506140</td>\n",
       "      <td>1431.227061</td>\n",
       "    </tr>\n",
       "    <tr>\n",
       "      <th>187</th>\n",
       "      <td>6099</td>\n",
       "      <td>4.0</td>\n",
       "      <td>4.008296</td>\n",
       "      <td>5.026797</td>\n",
       "      <td>2812.000000</td>\n",
       "      <td>5.711604</td>\n",
       "      <td>157751.339597</td>\n",
       "    </tr>\n",
       "  </tbody>\n",
       "</table>\n",
       "<p>188 rows × 7 columns</p>\n",
       "</div>"
      ],
      "text/plain": [
       "     customerId  frequency    recency          T  monetary_value  \\\n",
       "0             1       17.0  27.006715  27.006715      120.438235   \n",
       "1             2        2.0   7.030945  27.006715       22.480000   \n",
       "2             3       12.0  12.977679  27.006715       23.946667   \n",
       "3             5        3.0   3.022649  27.006715       30.600000   \n",
       "4             6       14.0  27.006715  27.006715      522.901429   \n",
       "..          ...        ...        ...        ...             ...   \n",
       "183        6092        6.0   6.965235   6.965235       79.900000   \n",
       "184        6094        4.0   5.026797   6.045299       72.085000   \n",
       "185        6095        4.0   4.008296   6.045299       23.380000   \n",
       "186        6096        3.0   4.008296   5.026797       23.800000   \n",
       "187        6099        4.0   4.008296   5.026797     2812.000000   \n",
       "\n",
       "     predicted_purchases            clv  \n",
       "0               6.628143   11885.015401  \n",
       "1               0.277178      10.256615  \n",
       "2               0.024071       7.869748  \n",
       "3               0.018222       0.644359  \n",
       "4               5.474433   43547.721198  \n",
       "..                   ...            ...  \n",
       "183             7.235164    6218.292491  \n",
       "184             5.131003    4177.026406  \n",
       "185             4.368534    1312.412614  \n",
       "186             4.506140    1431.227061  \n",
       "187             5.711604  157751.339597  \n",
       "\n",
       "[188 rows x 7 columns]"
      ]
     },
     "execution_count": 60,
     "metadata": {},
     "output_type": "execute_result"
    }
   ],
   "source": [
    "X"
   ]
  },
  {
   "cell_type": "markdown",
   "metadata": {
    "toc-hr-collapsed": true,
    "toc-nb-collapsed": true
   },
   "source": [
    "## Using all variables RFM"
   ]
  },
  {
   "cell_type": "code",
   "execution_count": 61,
   "metadata": {},
   "outputs": [],
   "source": [
    "vars=['frequency','recency','monetary_value','clv']\n",
    "#vars=['monetary_value','clv']"
   ]
  },
  {
   "cell_type": "code",
   "execution_count": 62,
   "metadata": {},
   "outputs": [],
   "source": [
    "unscaled = X.copy()"
   ]
  },
  {
   "cell_type": "code",
   "execution_count": 63,
   "metadata": {},
   "outputs": [],
   "source": [
    "from sklearn import preprocessing\n",
    "from scipy.spatial.distance import cdist\n",
    "preprocessing.Normalizer()\n",
    "#Standardizar os valores\n",
    "scaled = preprocessing.Normalizer().fit_transform(X[vars]) #devolve numpy array\n",
    "X[['s_frequency','s_recency','s_monetary_value','s_clv']]=pd.DataFrame(scaled, columns=X[vars].columns) #converter novamente para um dataframe"
   ]
  },
  {
   "cell_type": "code",
   "execution_count": 64,
   "metadata": {},
   "outputs": [
    {
     "data": {
      "text/html": [
       "<div>\n",
       "<style scoped>\n",
       "    .dataframe tbody tr th:only-of-type {\n",
       "        vertical-align: middle;\n",
       "    }\n",
       "\n",
       "    .dataframe tbody tr th {\n",
       "        vertical-align: top;\n",
       "    }\n",
       "\n",
       "    .dataframe thead th {\n",
       "        text-align: right;\n",
       "    }\n",
       "</style>\n",
       "<table border=\"1\" class=\"dataframe\">\n",
       "  <thead>\n",
       "    <tr style=\"text-align: right;\">\n",
       "      <th></th>\n",
       "      <th>customerId</th>\n",
       "      <th>frequency</th>\n",
       "      <th>recency</th>\n",
       "      <th>T</th>\n",
       "      <th>monetary_value</th>\n",
       "      <th>predicted_purchases</th>\n",
       "      <th>clv</th>\n",
       "      <th>s_frequency</th>\n",
       "      <th>s_recency</th>\n",
       "      <th>s_monetary_value</th>\n",
       "      <th>s_clv</th>\n",
       "    </tr>\n",
       "  </thead>\n",
       "  <tbody>\n",
       "    <tr>\n",
       "      <th>0</th>\n",
       "      <td>1</td>\n",
       "      <td>17.0</td>\n",
       "      <td>27.006715</td>\n",
       "      <td>27.006715</td>\n",
       "      <td>120.438235</td>\n",
       "      <td>6.628143</td>\n",
       "      <td>11885.015401</td>\n",
       "      <td>0.001430</td>\n",
       "      <td>0.002272</td>\n",
       "      <td>0.010133</td>\n",
       "      <td>0.999945</td>\n",
       "    </tr>\n",
       "    <tr>\n",
       "      <th>1</th>\n",
       "      <td>2</td>\n",
       "      <td>2.0</td>\n",
       "      <td>7.030945</td>\n",
       "      <td>27.006715</td>\n",
       "      <td>22.480000</td>\n",
       "      <td>0.277178</td>\n",
       "      <td>10.256615</td>\n",
       "      <td>0.077616</td>\n",
       "      <td>0.272857</td>\n",
       "      <td>0.872405</td>\n",
       "      <td>0.398039</td>\n",
       "    </tr>\n",
       "    <tr>\n",
       "      <th>2</th>\n",
       "      <td>3</td>\n",
       "      <td>12.0</td>\n",
       "      <td>12.977679</td>\n",
       "      <td>27.006715</td>\n",
       "      <td>23.946667</td>\n",
       "      <td>0.024071</td>\n",
       "      <td>7.869748</td>\n",
       "      <td>0.389784</td>\n",
       "      <td>0.421541</td>\n",
       "      <td>0.777835</td>\n",
       "      <td>0.255625</td>\n",
       "    </tr>\n",
       "    <tr>\n",
       "      <th>3</th>\n",
       "      <td>5</td>\n",
       "      <td>3.0</td>\n",
       "      <td>3.022649</td>\n",
       "      <td>27.006715</td>\n",
       "      <td>30.600000</td>\n",
       "      <td>0.018222</td>\n",
       "      <td>0.644359</td>\n",
       "      <td>0.097082</td>\n",
       "      <td>0.097815</td>\n",
       "      <td>0.990239</td>\n",
       "      <td>0.020852</td>\n",
       "    </tr>\n",
       "    <tr>\n",
       "      <th>4</th>\n",
       "      <td>6</td>\n",
       "      <td>14.0</td>\n",
       "      <td>27.006715</td>\n",
       "      <td>27.006715</td>\n",
       "      <td>522.901429</td>\n",
       "      <td>5.474433</td>\n",
       "      <td>43547.721198</td>\n",
       "      <td>0.000321</td>\n",
       "      <td>0.000620</td>\n",
       "      <td>0.012007</td>\n",
       "      <td>0.999928</td>\n",
       "    </tr>\n",
       "  </tbody>\n",
       "</table>\n",
       "</div>"
      ],
      "text/plain": [
       "   customerId  frequency    recency          T  monetary_value  \\\n",
       "0           1       17.0  27.006715  27.006715      120.438235   \n",
       "1           2        2.0   7.030945  27.006715       22.480000   \n",
       "2           3       12.0  12.977679  27.006715       23.946667   \n",
       "3           5        3.0   3.022649  27.006715       30.600000   \n",
       "4           6       14.0  27.006715  27.006715      522.901429   \n",
       "\n",
       "   predicted_purchases           clv  s_frequency  s_recency  \\\n",
       "0             6.628143  11885.015401     0.001430   0.002272   \n",
       "1             0.277178     10.256615     0.077616   0.272857   \n",
       "2             0.024071      7.869748     0.389784   0.421541   \n",
       "3             0.018222      0.644359     0.097082   0.097815   \n",
       "4             5.474433  43547.721198     0.000321   0.000620   \n",
       "\n",
       "   s_monetary_value     s_clv  \n",
       "0          0.010133  0.999945  \n",
       "1          0.872405  0.398039  \n",
       "2          0.777835  0.255625  \n",
       "3          0.990239  0.020852  \n",
       "4          0.012007  0.999928  "
      ]
     },
     "execution_count": 64,
     "metadata": {},
     "output_type": "execute_result"
    }
   ],
   "source": [
    "X.head()"
   ]
  },
  {
   "cell_type": "code",
   "execution_count": 65,
   "metadata": {},
   "outputs": [],
   "source": [
    "varsNorm=['s_frequency','s_recency','s_monetary_value','s_clv']"
   ]
  },
  {
   "cell_type": "markdown",
   "metadata": {},
   "source": [
    "Coeficiente de fusão é a distância euclidiana mais pequena entre dois pontos"
   ]
  },
  {
   "cell_type": "code",
   "execution_count": 66,
   "metadata": {},
   "outputs": [
    {
     "data": {
      "text/plain": [
       "Text(0, 0.5, 'Average distortion')"
      ]
     },
     "execution_count": 66,
     "metadata": {},
     "output_type": "execute_result"
    },
    {
     "data": {
      "image/png": "[encoded data removed]",
      "text/plain": [
       "<Figure size 864x216 with 1 Axes>"
      ]
     },
     "metadata": {
      "needs_background": "light"
     },
     "output_type": "display_data"
    }
   ],
   "source": [
    "from sklearn.cluster import KMeans\n",
    "from sklearn import preprocessing\n",
    "from scipy.spatial.distance import cdist\n",
    "import numpy as np\n",
    "plt.rcParams['figure.figsize']= [12,3]\n",
    "#Finding optimal no. of clusters\n",
    "clusters=range(1,20)\n",
    "meanDistortions=[]\n",
    " \n",
    "for k in clusters:\n",
    "    model=KMeans(n_clusters=k)\n",
    "    model.fit(X[varsNorm])\n",
    "    prediction=model.predict(X[varsNorm])\n",
    "    meanDistortions.append(sum(np.min(cdist(X[varsNorm], model.cluster_centers_, 'euclidean'), axis=1)) / X.shape[0])\n",
    " \n",
    "#plt.cla()\n",
    "plt.plot(clusters, meanDistortions, 'bx-')\n",
    "plt.xlabel('k')\n",
    "plt.ylabel('Average distortion')\n",
    "#plt.title('Selecting k with the Elbow Method')"
   ]
  },
  {
   "cell_type": "markdown",
   "metadata": {},
   "source": [
    "Quantos clientes estáo em cada cluster"
   ]
  },
  {
   "cell_type": "code",
   "execution_count": 68,
   "metadata": {},
   "outputs": [
    {
     "name": "stdout",
     "output_type": "stream",
     "text": [
      "1    105\n",
      "2     54\n",
      "0     29\n",
      "Name: clusterKmeans, dtype: int64\n"
     ]
    }
   ],
   "source": [
    "cluster = KMeans(n_clusters=3)\n",
    "\n",
    "cluster.fit(X[varsNorm])\n",
    "X['clusterKmeans']=cluster.predict(X[varsNorm])\n",
    "print(X.clusterKmeans.value_counts())"
   ]
  },
  {
   "cell_type": "code",
   "execution_count": 69,
   "metadata": {},
   "outputs": [
    {
     "name": "stdout",
     "output_type": "stream",
     "text": [
      "1    107\n",
      "0     45\n",
      "2     36\n",
      "Name: clusterWard, dtype: int64\n"
     ]
    }
   ],
   "source": [
    "from sklearn.cluster import AgglomerativeClustering \n",
    "clusterWard = AgglomerativeClustering(n_clusters = 3, affinity = 'euclidean', linkage ='ward')\n",
    "clusterWard.fit(X[varsNorm])\n",
    "X['clusterWard']=clusterWard.fit_predict(X[varsNorm])\n",
    "print(X.clusterWard.value_counts())"
   ]
  },
  {
   "cell_type": "markdown",
   "metadata": {},
   "source": [
    "reduzir a duas dimensões para visualizar os clusters"
   ]
  },
  {
   "cell_type": "code",
   "execution_count": 70,
   "metadata": {},
   "outputs": [
    {
     "data": {
      "text/plain": [
       "Index(['customerId', 'frequency', 'recency', 'T', 'monetary_value',\n",
       "       'predicted_purchases', 'clv', 's_frequency', 's_recency',\n",
       "       's_monetary_value', 's_clv', 'clusterKmeans', 'clusterWard'],\n",
       "      dtype='object')"
      ]
     },
     "execution_count": 70,
     "metadata": {},
     "output_type": "execute_result"
    }
   ],
   "source": [
    "X.columns"
   ]
  },
  {
   "cell_type": "markdown",
   "metadata": {},
   "source": [
    "### Clusters KMeans"
   ]
  },
  {
   "cell_type": "code",
   "execution_count": 71,
   "metadata": {},
   "outputs": [],
   "source": [
    "from sklearn.decomposition import PCA\n",
    "\n",
    "plt.rcParams['figure.figsize'] = [13, 4]"
   ]
  },
  {
   "cell_type": "code",
   "execution_count": 283,
   "metadata": {},
   "outputs": [
    {
     "data": {
      "text/html": [
       "<div>\n",
       "<style scoped>\n",
       "    .dataframe tbody tr th:only-of-type {\n",
       "        vertical-align: middle;\n",
       "    }\n",
       "\n",
       "    .dataframe tbody tr th {\n",
       "        vertical-align: top;\n",
       "    }\n",
       "\n",
       "    .dataframe thead th {\n",
       "        text-align: right;\n",
       "    }\n",
       "</style>\n",
       "<table border=\"1\" class=\"dataframe\">\n",
       "  <thead>\n",
       "    <tr style=\"text-align: right;\">\n",
       "      <th></th>\n",
       "      <th>s_frequency</th>\n",
       "      <th>s_recency</th>\n",
       "    </tr>\n",
       "  </thead>\n",
       "  <tbody>\n",
       "    <tr>\n",
       "      <td>0</td>\n",
       "      <td>0.00143</td>\n",
       "      <td>0.002272</td>\n",
       "    </tr>\n",
       "  </tbody>\n",
       "</table>\n",
       "</div>"
      ],
      "text/plain": [
       "   s_frequency  s_recency\n",
       "0      0.00143   0.002272"
      ]
     },
     "execution_count": 283,
     "metadata": {},
     "output_type": "execute_result"
    }
   ],
   "source": [
    "X[varsNorm].iloc[:,0:2].head(1)"
   ]
  },
  {
   "cell_type": "code",
   "execution_count": 289,
   "metadata": {},
   "outputs": [
    {
     "data": {
      "text/html": [
       "<div>\n",
       "<style scoped>\n",
       "    .dataframe tbody tr th:only-of-type {\n",
       "        vertical-align: middle;\n",
       "    }\n",
       "\n",
       "    .dataframe tbody tr th {\n",
       "        vertical-align: top;\n",
       "    }\n",
       "\n",
       "    .dataframe thead th {\n",
       "        text-align: right;\n",
       "    }\n",
       "</style>\n",
       "<table border=\"1\" class=\"dataframe\">\n",
       "  <thead>\n",
       "    <tr style=\"text-align: right;\">\n",
       "      <th></th>\n",
       "      <th>s_monetary_value</th>\n",
       "      <th>s_clv</th>\n",
       "    </tr>\n",
       "  </thead>\n",
       "  <tbody>\n",
       "    <tr>\n",
       "      <td>0</td>\n",
       "      <td>0.010133</td>\n",
       "      <td>0.999945</td>\n",
       "    </tr>\n",
       "  </tbody>\n",
       "</table>\n",
       "</div>"
      ],
      "text/plain": [
       "   s_monetary_value     s_clv\n",
       "0          0.010133  0.999945"
      ]
     },
     "execution_count": 289,
     "metadata": {},
     "output_type": "execute_result"
    }
   ],
   "source": [
    "X[varsNorm].iloc[:,2:4].head(1)"
   ]
  },
  {
   "cell_type": "code",
   "execution_count": 294,
   "metadata": {},
   "outputs": [],
   "source": [
    "pca=PCA(n_components=2)\n",
    "pcaComponents = pca.fit_transform(X[varsNorm])\n",
    "principalDf = pd.DataFrame(data = pcaComponents, columns = ['principal component 1', 'principal component 2'])"
   ]
  },
  {
   "cell_type": "code",
   "execution_count": 296,
   "metadata": {},
   "outputs": [],
   "source": [
    "X[['X_pca','Y_pca']]=pca.fit_transform(X[varsNorm])"
   ]
  },
  {
   "cell_type": "code",
   "execution_count": 298,
   "metadata": {},
   "outputs": [
    {
     "data": {
      "image/png": "[encoded data removed]",
      "text/plain": [
       "<Figure size 864x216 with 1 Axes>"
      ]
     },
     "metadata": {
      "needs_background": "light"
     },
     "output_type": "display_data"
    }
   ],
   "source": [
    "pca=PCA(n_components=2)\n",
    "X[['X_pca','Y_pca']]=pca.fit_transform(X[varsNorm])\n",
    "\n",
    "fig, ax = plt.subplots()\n",
    "for cluster in X.clusterKmeans.unique():\n",
    "    x = X['X_pca'].loc[X.clusterKmeans == cluster]\n",
    "    y = X['Y_pca'].loc[X.clusterKmeans == cluster]\n",
    "    ax.scatter(x, y, label=cluster, alpha=1, edgecolors='none')\n",
    "\n",
    "'''\n",
    "fig, ax = plt.subplots()\n",
    "for cluster in X.clusterKmeans.unique():\n",
    "    x = X['monetary_value'].loc[X.clusterKmeans == cluster]\n",
    "    y = X['clv'].loc[X.clusterKmeans == cluster]\n",
    "    ax.scatter(x, y, label=cluster, alpha=1, edgecolors='none')\n",
    "'''\n",
    "\n",
    "ax.legend()\n",
    "ax.grid(True)\n",
    "ax.set_title('Clusters clientes K-Means')\n",
    "plt.show()"
   ]
  },
  {
   "cell_type": "markdown",
   "metadata": {},
   "source": [
    "### Clusters Ward"
   ]
  },
  {
   "cell_type": "code",
   "execution_count": 299,
   "metadata": {},
   "outputs": [
    {
     "data": {
      "text/html": [
       "<div>\n",
       "<style scoped>\n",
       "    .dataframe tbody tr th:only-of-type {\n",
       "        vertical-align: middle;\n",
       "    }\n",
       "\n",
       "    .dataframe tbody tr th {\n",
       "        vertical-align: top;\n",
       "    }\n",
       "\n",
       "    .dataframe thead th {\n",
       "        text-align: right;\n",
       "    }\n",
       "</style>\n",
       "<table border=\"1\" class=\"dataframe\">\n",
       "  <thead>\n",
       "    <tr style=\"text-align: right;\">\n",
       "      <th></th>\n",
       "      <th>customerId</th>\n",
       "      <th>frequency</th>\n",
       "      <th>recency</th>\n",
       "      <th>T</th>\n",
       "      <th>monetary_value</th>\n",
       "      <th>predicted_purchases</th>\n",
       "      <th>clv</th>\n",
       "      <th>s_frequency</th>\n",
       "      <th>s_recency</th>\n",
       "      <th>s_monetary_value</th>\n",
       "      <th>s_clv</th>\n",
       "      <th>clusterKmeans</th>\n",
       "      <th>clusterWard</th>\n",
       "      <th>X_pca</th>\n",
       "      <th>Y_pca</th>\n",
       "    </tr>\n",
       "  </thead>\n",
       "  <tbody>\n",
       "    <tr>\n",
       "      <td>0</td>\n",
       "      <td>1</td>\n",
       "      <td>17.0</td>\n",
       "      <td>27.006715</td>\n",
       "      <td>27.006715</td>\n",
       "      <td>120.438235</td>\n",
       "      <td>6.628143</td>\n",
       "      <td>11885.015401</td>\n",
       "      <td>0.001430</td>\n",
       "      <td>0.002272</td>\n",
       "      <td>0.010133</td>\n",
       "      <td>0.999945</td>\n",
       "      <td>0</td>\n",
       "      <td>1</td>\n",
       "      <td>-0.506020</td>\n",
       "      <td>-0.001380</td>\n",
       "    </tr>\n",
       "    <tr>\n",
       "      <td>1</td>\n",
       "      <td>2</td>\n",
       "      <td>2.0</td>\n",
       "      <td>7.030945</td>\n",
       "      <td>27.006715</td>\n",
       "      <td>22.480000</td>\n",
       "      <td>0.277178</td>\n",
       "      <td>10.256615</td>\n",
       "      <td>0.077616</td>\n",
       "      <td>0.272857</td>\n",
       "      <td>0.872405</td>\n",
       "      <td>0.398039</td>\n",
       "      <td>1</td>\n",
       "      <td>0</td>\n",
       "      <td>0.556442</td>\n",
       "      <td>0.100856</td>\n",
       "    </tr>\n",
       "    <tr>\n",
       "      <td>2</td>\n",
       "      <td>3</td>\n",
       "      <td>12.0</td>\n",
       "      <td>12.977679</td>\n",
       "      <td>27.006715</td>\n",
       "      <td>23.946667</td>\n",
       "      <td>0.024071</td>\n",
       "      <td>7.869748</td>\n",
       "      <td>0.389784</td>\n",
       "      <td>0.421541</td>\n",
       "      <td>0.777835</td>\n",
       "      <td>0.255625</td>\n",
       "      <td>1</td>\n",
       "      <td>0</td>\n",
       "      <td>0.616615</td>\n",
       "      <td>0.448219</td>\n",
       "    </tr>\n",
       "    <tr>\n",
       "      <td>3</td>\n",
       "      <td>5</td>\n",
       "      <td>3.0</td>\n",
       "      <td>3.022649</td>\n",
       "      <td>27.006715</td>\n",
       "      <td>30.600000</td>\n",
       "      <td>0.018222</td>\n",
       "      <td>0.644359</td>\n",
       "      <td>0.097082</td>\n",
       "      <td>0.097815</td>\n",
       "      <td>0.990239</td>\n",
       "      <td>0.020852</td>\n",
       "      <td>1</td>\n",
       "      <td>2</td>\n",
       "      <td>0.884752</td>\n",
       "      <td>0.002944</td>\n",
       "    </tr>\n",
       "    <tr>\n",
       "      <td>4</td>\n",
       "      <td>6</td>\n",
       "      <td>14.0</td>\n",
       "      <td>27.006715</td>\n",
       "      <td>27.006715</td>\n",
       "      <td>522.901429</td>\n",
       "      <td>5.474433</td>\n",
       "      <td>43547.721198</td>\n",
       "      <td>0.000321</td>\n",
       "      <td>0.000620</td>\n",
       "      <td>0.012007</td>\n",
       "      <td>0.999928</td>\n",
       "      <td>0</td>\n",
       "      <td>1</td>\n",
       "      <td>-0.504843</td>\n",
       "      <td>-0.003728</td>\n",
       "    </tr>\n",
       "  </tbody>\n",
       "</table>\n",
       "</div>"
      ],
      "text/plain": [
       "   customerId  frequency    recency          T  monetary_value  \\\n",
       "0           1       17.0  27.006715  27.006715      120.438235   \n",
       "1           2        2.0   7.030945  27.006715       22.480000   \n",
       "2           3       12.0  12.977679  27.006715       23.946667   \n",
       "3           5        3.0   3.022649  27.006715       30.600000   \n",
       "4           6       14.0  27.006715  27.006715      522.901429   \n",
       "\n",
       "   predicted_purchases           clv  s_frequency  s_recency  \\\n",
       "0             6.628143  11885.015401     0.001430   0.002272   \n",
       "1             0.277178     10.256615     0.077616   0.272857   \n",
       "2             0.024071      7.869748     0.389784   0.421541   \n",
       "3             0.018222      0.644359     0.097082   0.097815   \n",
       "4             5.474433  43547.721198     0.000321   0.000620   \n",
       "\n",
       "   s_monetary_value     s_clv  clusterKmeans  clusterWard     X_pca     Y_pca  \n",
       "0          0.010133  0.999945              0            1 -0.506020 -0.001380  \n",
       "1          0.872405  0.398039              1            0  0.556442  0.100856  \n",
       "2          0.777835  0.255625              1            0  0.616615  0.448219  \n",
       "3          0.990239  0.020852              1            2  0.884752  0.002944  \n",
       "4          0.012007  0.999928              0            1 -0.504843 -0.003728  "
      ]
     },
     "execution_count": 299,
     "metadata": {},
     "output_type": "execute_result"
    }
   ],
   "source": [
    "X.head()"
   ]
  },
  {
   "cell_type": "code",
   "execution_count": 419,
   "metadata": {},
   "outputs": [
    {
     "data": {
      "image/png": "[encoded data removed]",
      "text/plain": [
       "<Figure size 864x216 with 1 Axes>"
      ]
     },
     "metadata": {
      "needs_background": "light"
     },
     "output_type": "display_data"
    }
   ],
   "source": [
    "fig, ax = plt.subplots()\n",
    "for cluster in X.clusterWard.unique():\n",
    "    x = X['X_pca'].loc[X.clusterWard == cluster]\n",
    "    y = X['Y_pca'].loc[X.clusterWard == cluster]\n",
    "    ax.scatter(x, y, label=cluster, alpha=1, edgecolors='none')\n",
    "\n",
    "L=ax.legend()\n",
    "ax.grid(True)\n",
    "\n",
    "L.get_texts()[2].set_text('cluster 3')\n",
    "L.get_texts()[1].set_text('cluster 1')\n",
    "L.get_texts()[0].set_text('cluster 2')\n",
    "# ax.set_title('Clusters clientes Ward')\n",
    "plt.show()"
   ]
  },
  {
   "cell_type": "code",
   "execution_count": 411,
   "metadata": {},
   "outputs": [
    {
     "data": {
      "image/png": "[encoded data removed]",
      "text/plain": [
       "<Figure size 864x216 with 1 Axes>"
      ]
     },
     "metadata": {
      "needs_background": "light"
     },
     "output_type": "display_data"
    }
   ],
   "source": [
    "fig, ax = plt.subplots()\n",
    "for cluster in X.clusterWard.unique():\n",
    "    x = X['monetary_value'].loc[X.clusterWard == cluster]\n",
    "    y = X['clv'].loc[X.clusterWard == cluster]\n",
    "    ax.scatter(x, y, label=cluster, alpha=1, edgecolors='none')\n",
    "\n",
    "L=ax.legend()\n",
    "ax.grid(True)\n",
    "\n",
    "L.get_texts()[2].set_text('cluster 3')\n",
    "L.get_texts()[1].set_text('cluster 1')\n",
    "L.get_texts()[0].set_text('cluster 2')\n",
    "#ax.set_title('Clusters clientes Ward')\n",
    "plt.show()"
   ]
  },
  {
   "cell_type": "markdown",
   "metadata": {},
   "source": [
    "### Dendogram"
   ]
  },
  {
   "cell_type": "code",
   "execution_count": 390,
   "metadata": {},
   "outputs": [
    {
     "data": {
      "image/png": "[encoded data removed]",
      "text/plain": [
       "<Figure size 864x216 with 1 Axes>"
      ]
     },
     "metadata": {
      "needs_background": "light"
     },
     "output_type": "display_data"
    }
   ],
   "source": [
    "import scipy.cluster.hierarchy as sch\n",
    "#Lets create a dendrogram variable linkage is actually the algorithm \n",
    "#itself of hierarchical clustering and then in linkage we have to #specify on which data we apply and engage. This is X dataset\n",
    "plt.rcParams['figure.figsize'] = [12, 3]\n",
    "\n",
    "dendrogram = sch.dendrogram(sch.linkage(X[varsNorm], method  = \"ward\"))\n",
    "#plt.title('Dendrogram')\n",
    "plt.xlabel('Customers')\n",
    "plt.ylabel('Euclidean distances')\n",
    "plt.show()"
   ]
  },
  {
   "cell_type": "code",
   "execution_count": 307,
   "metadata": {},
   "outputs": [
    {
     "data": {
      "text/html": [
       "<div>\n",
       "<style scoped>\n",
       "    .dataframe tbody tr th:only-of-type {\n",
       "        vertical-align: middle;\n",
       "    }\n",
       "\n",
       "    .dataframe tbody tr th {\n",
       "        vertical-align: top;\n",
       "    }\n",
       "\n",
       "    .dataframe thead th {\n",
       "        text-align: right;\n",
       "    }\n",
       "</style>\n",
       "<table border=\"1\" class=\"dataframe\">\n",
       "  <thead>\n",
       "    <tr style=\"text-align: right;\">\n",
       "      <th></th>\n",
       "      <th>customerId</th>\n",
       "      <th>frequency</th>\n",
       "      <th>recency</th>\n",
       "      <th>T</th>\n",
       "      <th>monetary_value</th>\n",
       "      <th>predicted_purchases</th>\n",
       "      <th>clv</th>\n",
       "      <th>s_frequency</th>\n",
       "      <th>s_recency</th>\n",
       "      <th>s_monetary_value</th>\n",
       "      <th>s_clv</th>\n",
       "      <th>clusterKmeans</th>\n",
       "      <th>clusterWard</th>\n",
       "      <th>X_pca</th>\n",
       "      <th>Y_pca</th>\n",
       "    </tr>\n",
       "  </thead>\n",
       "  <tbody>\n",
       "    <tr>\n",
       "      <td>0</td>\n",
       "      <td>1</td>\n",
       "      <td>17.0</td>\n",
       "      <td>27.006715</td>\n",
       "      <td>27.006715</td>\n",
       "      <td>120.438235</td>\n",
       "      <td>6.628143</td>\n",
       "      <td>11885.015401</td>\n",
       "      <td>0.001430</td>\n",
       "      <td>0.002272</td>\n",
       "      <td>0.010133</td>\n",
       "      <td>0.999945</td>\n",
       "      <td>0</td>\n",
       "      <td>1</td>\n",
       "      <td>-0.506020</td>\n",
       "      <td>-0.001380</td>\n",
       "    </tr>\n",
       "    <tr>\n",
       "      <td>1</td>\n",
       "      <td>2</td>\n",
       "      <td>2.0</td>\n",
       "      <td>7.030945</td>\n",
       "      <td>27.006715</td>\n",
       "      <td>22.480000</td>\n",
       "      <td>0.277178</td>\n",
       "      <td>10.256615</td>\n",
       "      <td>0.077616</td>\n",
       "      <td>0.272857</td>\n",
       "      <td>0.872405</td>\n",
       "      <td>0.398039</td>\n",
       "      <td>1</td>\n",
       "      <td>0</td>\n",
       "      <td>0.556442</td>\n",
       "      <td>0.100856</td>\n",
       "    </tr>\n",
       "    <tr>\n",
       "      <td>2</td>\n",
       "      <td>3</td>\n",
       "      <td>12.0</td>\n",
       "      <td>12.977679</td>\n",
       "      <td>27.006715</td>\n",
       "      <td>23.946667</td>\n",
       "      <td>0.024071</td>\n",
       "      <td>7.869748</td>\n",
       "      <td>0.389784</td>\n",
       "      <td>0.421541</td>\n",
       "      <td>0.777835</td>\n",
       "      <td>0.255625</td>\n",
       "      <td>1</td>\n",
       "      <td>0</td>\n",
       "      <td>0.616615</td>\n",
       "      <td>0.448219</td>\n",
       "    </tr>\n",
       "    <tr>\n",
       "      <td>3</td>\n",
       "      <td>5</td>\n",
       "      <td>3.0</td>\n",
       "      <td>3.022649</td>\n",
       "      <td>27.006715</td>\n",
       "      <td>30.600000</td>\n",
       "      <td>0.018222</td>\n",
       "      <td>0.644359</td>\n",
       "      <td>0.097082</td>\n",
       "      <td>0.097815</td>\n",
       "      <td>0.990239</td>\n",
       "      <td>0.020852</td>\n",
       "      <td>1</td>\n",
       "      <td>2</td>\n",
       "      <td>0.884752</td>\n",
       "      <td>0.002944</td>\n",
       "    </tr>\n",
       "    <tr>\n",
       "      <td>4</td>\n",
       "      <td>6</td>\n",
       "      <td>14.0</td>\n",
       "      <td>27.006715</td>\n",
       "      <td>27.006715</td>\n",
       "      <td>522.901429</td>\n",
       "      <td>5.474433</td>\n",
       "      <td>43547.721198</td>\n",
       "      <td>0.000321</td>\n",
       "      <td>0.000620</td>\n",
       "      <td>0.012007</td>\n",
       "      <td>0.999928</td>\n",
       "      <td>0</td>\n",
       "      <td>1</td>\n",
       "      <td>-0.504843</td>\n",
       "      <td>-0.003728</td>\n",
       "    </tr>\n",
       "    <tr>\n",
       "      <td>...</td>\n",
       "      <td>...</td>\n",
       "      <td>...</td>\n",
       "      <td>...</td>\n",
       "      <td>...</td>\n",
       "      <td>...</td>\n",
       "      <td>...</td>\n",
       "      <td>...</td>\n",
       "      <td>...</td>\n",
       "      <td>...</td>\n",
       "      <td>...</td>\n",
       "      <td>...</td>\n",
       "      <td>...</td>\n",
       "      <td>...</td>\n",
       "      <td>...</td>\n",
       "      <td>...</td>\n",
       "    </tr>\n",
       "    <tr>\n",
       "      <td>183</td>\n",
       "      <td>6092</td>\n",
       "      <td>6.0</td>\n",
       "      <td>6.965235</td>\n",
       "      <td>6.965235</td>\n",
       "      <td>79.900000</td>\n",
       "      <td>7.235164</td>\n",
       "      <td>6218.292491</td>\n",
       "      <td>0.000965</td>\n",
       "      <td>0.001120</td>\n",
       "      <td>0.012848</td>\n",
       "      <td>0.999916</td>\n",
       "      <td>0</td>\n",
       "      <td>1</td>\n",
       "      <td>-0.504136</td>\n",
       "      <td>-0.003156</td>\n",
       "    </tr>\n",
       "    <tr>\n",
       "      <td>184</td>\n",
       "      <td>6094</td>\n",
       "      <td>4.0</td>\n",
       "      <td>5.026797</td>\n",
       "      <td>6.045299</td>\n",
       "      <td>72.085000</td>\n",
       "      <td>5.131003</td>\n",
       "      <td>4177.026406</td>\n",
       "      <td>0.000957</td>\n",
       "      <td>0.001203</td>\n",
       "      <td>0.017255</td>\n",
       "      <td>0.999850</td>\n",
       "      <td>0</td>\n",
       "      <td>1</td>\n",
       "      <td>-0.500862</td>\n",
       "      <td>-0.004160</td>\n",
       "    </tr>\n",
       "    <tr>\n",
       "      <td>185</td>\n",
       "      <td>6095</td>\n",
       "      <td>4.0</td>\n",
       "      <td>4.008296</td>\n",
       "      <td>6.045299</td>\n",
       "      <td>23.380000</td>\n",
       "      <td>4.368534</td>\n",
       "      <td>1312.412614</td>\n",
       "      <td>0.003047</td>\n",
       "      <td>0.003054</td>\n",
       "      <td>0.017812</td>\n",
       "      <td>0.999832</td>\n",
       "      <td>0</td>\n",
       "      <td>1</td>\n",
       "      <td>-0.500154</td>\n",
       "      <td>-0.001618</td>\n",
       "    </tr>\n",
       "    <tr>\n",
       "      <td>186</td>\n",
       "      <td>6096</td>\n",
       "      <td>3.0</td>\n",
       "      <td>4.008296</td>\n",
       "      <td>5.026797</td>\n",
       "      <td>23.800000</td>\n",
       "      <td>4.506140</td>\n",
       "      <td>1431.227061</td>\n",
       "      <td>0.002096</td>\n",
       "      <td>0.002800</td>\n",
       "      <td>0.016627</td>\n",
       "      <td>0.999856</td>\n",
       "      <td>0</td>\n",
       "      <td>1</td>\n",
       "      <td>-0.501123</td>\n",
       "      <td>-0.002132</td>\n",
       "    </tr>\n",
       "    <tr>\n",
       "      <td>187</td>\n",
       "      <td>6099</td>\n",
       "      <td>4.0</td>\n",
       "      <td>4.008296</td>\n",
       "      <td>5.026797</td>\n",
       "      <td>2812.000000</td>\n",
       "      <td>5.711604</td>\n",
       "      <td>157751.339597</td>\n",
       "      <td>0.000025</td>\n",
       "      <td>0.000025</td>\n",
       "      <td>0.017823</td>\n",
       "      <td>0.999841</td>\n",
       "      <td>0</td>\n",
       "      <td>1</td>\n",
       "      <td>-0.500597</td>\n",
       "      <td>-0.005740</td>\n",
       "    </tr>\n",
       "  </tbody>\n",
       "</table>\n",
       "<p>188 rows × 15 columns</p>\n",
       "</div>"
      ],
      "text/plain": [
       "     customerId  frequency    recency          T  monetary_value  \\\n",
       "0             1       17.0  27.006715  27.006715      120.438235   \n",
       "1             2        2.0   7.030945  27.006715       22.480000   \n",
       "2             3       12.0  12.977679  27.006715       23.946667   \n",
       "3             5        3.0   3.022649  27.006715       30.600000   \n",
       "4             6       14.0  27.006715  27.006715      522.901429   \n",
       "..          ...        ...        ...        ...             ...   \n",
       "183        6092        6.0   6.965235   6.965235       79.900000   \n",
       "184        6094        4.0   5.026797   6.045299       72.085000   \n",
       "185        6095        4.0   4.008296   6.045299       23.380000   \n",
       "186        6096        3.0   4.008296   5.026797       23.800000   \n",
       "187        6099        4.0   4.008296   5.026797     2812.000000   \n",
       "\n",
       "     predicted_purchases            clv  s_frequency  s_recency  \\\n",
       "0               6.628143   11885.015401     0.001430   0.002272   \n",
       "1               0.277178      10.256615     0.077616   0.272857   \n",
       "2               0.024071       7.869748     0.389784   0.421541   \n",
       "3               0.018222       0.644359     0.097082   0.097815   \n",
       "4               5.474433   43547.721198     0.000321   0.000620   \n",
       "..                   ...            ...          ...        ...   \n",
       "183             7.235164    6218.292491     0.000965   0.001120   \n",
       "184             5.131003    4177.026406     0.000957   0.001203   \n",
       "185             4.368534    1312.412614     0.003047   0.003054   \n",
       "186             4.506140    1431.227061     0.002096   0.002800   \n",
       "187             5.711604  157751.339597     0.000025   0.000025   \n",
       "\n",
       "     s_monetary_value     s_clv  clusterKmeans  clusterWard     X_pca  \\\n",
       "0            0.010133  0.999945              0            1 -0.506020   \n",
       "1            0.872405  0.398039              1            0  0.556442   \n",
       "2            0.777835  0.255625              1            0  0.616615   \n",
       "3            0.990239  0.020852              1            2  0.884752   \n",
       "4            0.012007  0.999928              0            1 -0.504843   \n",
       "..                ...       ...            ...          ...       ...   \n",
       "183          0.012848  0.999916              0            1 -0.504136   \n",
       "184          0.017255  0.999850              0            1 -0.500862   \n",
       "185          0.017812  0.999832              0            1 -0.500154   \n",
       "186          0.016627  0.999856              0            1 -0.501123   \n",
       "187          0.017823  0.999841              0            1 -0.500597   \n",
       "\n",
       "        Y_pca  \n",
       "0   -0.001380  \n",
       "1    0.100856  \n",
       "2    0.448219  \n",
       "3    0.002944  \n",
       "4   -0.003728  \n",
       "..        ...  \n",
       "183 -0.003156  \n",
       "184 -0.004160  \n",
       "185 -0.001618  \n",
       "186 -0.002132  \n",
       "187 -0.005740  \n",
       "\n",
       "[188 rows x 15 columns]"
      ]
     },
     "execution_count": 307,
     "metadata": {},
     "output_type": "execute_result"
    }
   ],
   "source": [
    "X"
   ]
  },
  {
   "cell_type": "code",
   "execution_count": 415,
   "metadata": {},
   "outputs": [
    {
     "data": {
      "text/html": [
       "<div>\n",
       "<style scoped>\n",
       "    .dataframe tbody tr th:only-of-type {\n",
       "        vertical-align: middle;\n",
       "    }\n",
       "\n",
       "    .dataframe tbody tr th {\n",
       "        vertical-align: top;\n",
       "    }\n",
       "\n",
       "    .dataframe thead tr th {\n",
       "        text-align: left;\n",
       "    }\n",
       "\n",
       "    .dataframe thead tr:last-of-type th {\n",
       "        text-align: right;\n",
       "    }\n",
       "</style>\n",
       "<table border=\"1\" class=\"dataframe\">\n",
       "  <thead>\n",
       "    <tr>\n",
       "      <th></th>\n",
       "      <th colspan=\"3\" halign=\"left\">frequency</th>\n",
       "      <th colspan=\"2\" halign=\"left\">recency</th>\n",
       "      <th colspan=\"2\" halign=\"left\">T</th>\n",
       "      <th colspan=\"2\" halign=\"left\">monetary_value</th>\n",
       "      <th colspan=\"2\" halign=\"left\">predicted_purchases</th>\n",
       "      <th colspan=\"2\" halign=\"left\">clv</th>\n",
       "    </tr>\n",
       "    <tr>\n",
       "      <th></th>\n",
       "      <th>count</th>\n",
       "      <th>mean</th>\n",
       "      <th>std</th>\n",
       "      <th>mean</th>\n",
       "      <th>std</th>\n",
       "      <th>mean</th>\n",
       "      <th>std</th>\n",
       "      <th>mean</th>\n",
       "      <th>std</th>\n",
       "      <th>mean</th>\n",
       "      <th>std</th>\n",
       "      <th>mean</th>\n",
       "      <th>std</th>\n",
       "    </tr>\n",
       "    <tr>\n",
       "      <th>clusterWard</th>\n",
       "      <th></th>\n",
       "      <th></th>\n",
       "      <th></th>\n",
       "      <th></th>\n",
       "      <th></th>\n",
       "      <th></th>\n",
       "      <th></th>\n",
       "      <th></th>\n",
       "      <th></th>\n",
       "      <th></th>\n",
       "      <th></th>\n",
       "      <th></th>\n",
       "      <th></th>\n",
       "    </tr>\n",
       "  </thead>\n",
       "  <tbody>\n",
       "    <tr>\n",
       "      <td>0</td>\n",
       "      <td>45</td>\n",
       "      <td>4.933333</td>\n",
       "      <td>4.366192</td>\n",
       "      <td>6.194971</td>\n",
       "      <td>4.675770</td>\n",
       "      <td>20.208674</td>\n",
       "      <td>4.913615</td>\n",
       "      <td>49.511668</td>\n",
       "      <td>45.281525</td>\n",
       "      <td>0.193585</td>\n",
       "      <td>0.127665</td>\n",
       "      <td>36.283619</td>\n",
       "      <td>40.368922</td>\n",
       "    </tr>\n",
       "    <tr>\n",
       "      <td>1</td>\n",
       "      <td>107</td>\n",
       "      <td>10.056075</td>\n",
       "      <td>7.714030</td>\n",
       "      <td>15.173122</td>\n",
       "      <td>7.464243</td>\n",
       "      <td>18.734960</td>\n",
       "      <td>6.761580</td>\n",
       "      <td>161.531939</td>\n",
       "      <td>322.697706</td>\n",
       "      <td>4.625115</td>\n",
       "      <td>3.455905</td>\n",
       "      <td>10371.573853</td>\n",
       "      <td>20966.386045</td>\n",
       "    </tr>\n",
       "    <tr>\n",
       "      <td>2</td>\n",
       "      <td>36</td>\n",
       "      <td>2.527778</td>\n",
       "      <td>1.992645</td>\n",
       "      <td>2.866589</td>\n",
       "      <td>1.994489</td>\n",
       "      <td>24.582754</td>\n",
       "      <td>2.632285</td>\n",
       "      <td>75.515861</td>\n",
       "      <td>91.356930</td>\n",
       "      <td>0.073963</td>\n",
       "      <td>0.055155</td>\n",
       "      <td>4.110149</td>\n",
       "      <td>4.721847</td>\n",
       "    </tr>\n",
       "  </tbody>\n",
       "</table>\n",
       "</div>"
      ],
      "text/plain": [
       "            frequency                         recency                    T  \\\n",
       "                count       mean       std       mean       std       mean   \n",
       "clusterWard                                                                  \n",
       "0                  45   4.933333  4.366192   6.194971  4.675770  20.208674   \n",
       "1                 107  10.056075  7.714030  15.173122  7.464243  18.734960   \n",
       "2                  36   2.527778  1.992645   2.866589  1.994489  24.582754   \n",
       "\n",
       "                      monetary_value             predicted_purchases  \\\n",
       "                  std           mean         std                mean   \n",
       "clusterWard                                                            \n",
       "0            4.913615      49.511668   45.281525            0.193585   \n",
       "1            6.761580     161.531939  322.697706            4.625115   \n",
       "2            2.632285      75.515861   91.356930            0.073963   \n",
       "\n",
       "                                clv                \n",
       "                  std          mean           std  \n",
       "clusterWard                                        \n",
       "0            0.127665     36.283619     40.368922  \n",
       "1            3.455905  10371.573853  20966.386045  \n",
       "2            0.055155      4.110149      4.721847  "
      ]
     },
     "execution_count": 415,
     "metadata": {},
     "output_type": "execute_result"
    }
   ],
   "source": [
    "X.groupby(['clusterWard']).agg({'frequency':['count','mean','std'],\n",
    "                            'recency':['mean','std'],\n",
    "                            'T':['mean','std'],\n",
    "                            'monetary_value':['mean','std'],\n",
    "                            'predicted_purchases':['mean','std'],\n",
    "                            'clv':['mean','std']})"
   ]
  },
  {
   "cell_type": "markdown",
   "metadata": {},
   "source": [
    "1 cluster 2; 0 cluster 1; 2 cluster 3"
   ]
  },
  {
   "cell_type": "code",
   "execution_count": 310,
   "metadata": {},
   "outputs": [
    {
     "data": {
      "text/html": [
       "<div>\n",
       "<style scoped>\n",
       "    .dataframe tbody tr th:only-of-type {\n",
       "        vertical-align: middle;\n",
       "    }\n",
       "\n",
       "    .dataframe tbody tr th {\n",
       "        vertical-align: top;\n",
       "    }\n",
       "\n",
       "    .dataframe thead tr th {\n",
       "        text-align: left;\n",
       "    }\n",
       "\n",
       "    .dataframe thead tr:last-of-type th {\n",
       "        text-align: right;\n",
       "    }\n",
       "</style>\n",
       "<table border=\"1\" class=\"dataframe\">\n",
       "  <thead>\n",
       "    <tr>\n",
       "      <th></th>\n",
       "      <th colspan=\"3\" halign=\"left\">frequency</th>\n",
       "      <th colspan=\"2\" halign=\"left\">recency</th>\n",
       "      <th colspan=\"2\" halign=\"left\">T</th>\n",
       "      <th colspan=\"2\" halign=\"left\">monetary_value</th>\n",
       "      <th colspan=\"2\" halign=\"left\">predicted_purchases</th>\n",
       "      <th colspan=\"2\" halign=\"left\">clv</th>\n",
       "    </tr>\n",
       "    <tr>\n",
       "      <th></th>\n",
       "      <th>count</th>\n",
       "      <th>mean</th>\n",
       "      <th>std</th>\n",
       "      <th>mean</th>\n",
       "      <th>std</th>\n",
       "      <th>mean</th>\n",
       "      <th>std</th>\n",
       "      <th>mean</th>\n",
       "      <th>std</th>\n",
       "      <th>mean</th>\n",
       "      <th>std</th>\n",
       "      <th>mean</th>\n",
       "      <th>std</th>\n",
       "    </tr>\n",
       "    <tr>\n",
       "      <th>clusterKmeans</th>\n",
       "      <th></th>\n",
       "      <th></th>\n",
       "      <th></th>\n",
       "      <th></th>\n",
       "      <th></th>\n",
       "      <th></th>\n",
       "      <th></th>\n",
       "      <th></th>\n",
       "      <th></th>\n",
       "      <th></th>\n",
       "      <th></th>\n",
       "      <th></th>\n",
       "      <th></th>\n",
       "    </tr>\n",
       "  </thead>\n",
       "  <tbody>\n",
       "    <tr>\n",
       "      <td>0</td>\n",
       "      <td>105</td>\n",
       "      <td>10.219048</td>\n",
       "      <td>7.694880</td>\n",
       "      <td>15.404873</td>\n",
       "      <td>7.339348</td>\n",
       "      <td>18.843997</td>\n",
       "      <td>6.773386</td>\n",
       "      <td>162.294261</td>\n",
       "      <td>325.626346</td>\n",
       "      <td>4.703312</td>\n",
       "      <td>3.441316</td>\n",
       "      <td>10564.332147</td>\n",
       "      <td>21119.557379</td>\n",
       "    </tr>\n",
       "    <tr>\n",
       "      <td>1</td>\n",
       "      <td>54</td>\n",
       "      <td>3.796296</td>\n",
       "      <td>3.723356</td>\n",
       "      <td>4.314333</td>\n",
       "      <td>3.816858</td>\n",
       "      <td>23.927482</td>\n",
       "      <td>3.388690</td>\n",
       "      <td>64.020564</td>\n",
       "      <td>78.690159</td>\n",
       "      <td>0.088082</td>\n",
       "      <td>0.079644</td>\n",
       "      <td>7.091786</td>\n",
       "      <td>9.011473</td>\n",
       "    </tr>\n",
       "    <tr>\n",
       "      <td>2</td>\n",
       "      <td>29</td>\n",
       "      <td>3.827586</td>\n",
       "      <td>3.635823</td>\n",
       "      <td>5.345150</td>\n",
       "      <td>4.384611</td>\n",
       "      <td>18.217467</td>\n",
       "      <td>4.761737</td>\n",
       "      <td>59.741573</td>\n",
       "      <td>54.114453</td>\n",
       "      <td>0.264039</td>\n",
       "      <td>0.129833</td>\n",
       "      <td>65.562022</td>\n",
       "      <td>76.107732</td>\n",
       "    </tr>\n",
       "  </tbody>\n",
       "</table>\n",
       "</div>"
      ],
      "text/plain": [
       "              frequency                         recency                    T  \\\n",
       "                  count       mean       std       mean       std       mean   \n",
       "clusterKmeans                                                                  \n",
       "0                   105  10.219048  7.694880  15.404873  7.339348  18.843997   \n",
       "1                    54   3.796296  3.723356   4.314333  3.816858  23.927482   \n",
       "2                    29   3.827586  3.635823   5.345150  4.384611  18.217467   \n",
       "\n",
       "                        monetary_value             predicted_purchases  \\\n",
       "                    std           mean         std                mean   \n",
       "clusterKmeans                                                            \n",
       "0              6.773386     162.294261  325.626346            4.703312   \n",
       "1              3.388690      64.020564   78.690159            0.088082   \n",
       "2              4.761737      59.741573   54.114453            0.264039   \n",
       "\n",
       "                                  clv                \n",
       "                    std          mean           std  \n",
       "clusterKmeans                                        \n",
       "0              3.441316  10564.332147  21119.557379  \n",
       "1              0.079644      7.091786      9.011473  \n",
       "2              0.129833     65.562022     76.107732  "
      ]
     },
     "execution_count": 310,
     "metadata": {},
     "output_type": "execute_result"
    }
   ],
   "source": [
    "X.groupby(['clusterKmeans']).agg({'frequency':['count','mean','std'],\n",
    "                            'recency':['mean','std'],\n",
    "                            'T':['mean','std'],\n",
    "                            'monetary_value':['mean','std'],\n",
    "                            'predicted_purchases':['mean','std'],\n",
    "                            'clv':['mean','std']})"
   ]
  },
  {
   "cell_type": "markdown",
   "metadata": {},
   "source": [
    "## Using frequency and CLV"
   ]
  },
  {
   "cell_type": "code",
   "execution_count": 305,
   "metadata": {},
   "outputs": [
    {
     "data": {
      "text/plain": [
       "Index(['frequency', 'recency', 'T', 'monetary_value', 'predicted_purchases',\n",
       "       'clv', 'cluster', 'X_pca', 'Y_pca'],\n",
       "      dtype='object')"
      ]
     },
     "execution_count": 305,
     "metadata": {},
     "output_type": "execute_result"
    }
   ],
   "source": [
    "X.columns"
   ]
  },
  {
   "cell_type": "code",
   "execution_count": 306,
   "metadata": {},
   "outputs": [],
   "source": [
    "Y = X.copy()"
   ]
  },
  {
   "cell_type": "code",
   "execution_count": 307,
   "metadata": {},
   "outputs": [],
   "source": [
    "cols = ['clv']"
   ]
  },
  {
   "cell_type": "markdown",
   "metadata": {},
   "source": [
    "Quantos clientes estáo em cada cluster"
   ]
  },
  {
   "cell_type": "markdown",
   "metadata": {},
   "source": [
    "- frequency: Count of time periods the customer had a purchase in, e.g. months units represent the number of months that the customer had purchases. Number of repeated purchase that the customer as made, one less than the total number of purchases.\n",
    "- T: represents the age of the customer in the selected time unit\n",
    "- recency: represents the age of the customer when they made the most recent purchases = duration first purchase to last purchase\n",
    "- predicted_purchases: how many purchases will the customer do within 12 months\n"
   ]
  },
  {
   "cell_type": "markdown",
   "metadata": {},
   "source": [
    "## RFM Table"
   ]
  },
  {
   "cell_type": "code",
   "execution_count": 316,
   "metadata": {},
   "outputs": [
    {
     "data": {
      "text/plain": [
       "Index(['customerId', 'frequency', 'recency', 'T', 'monetary_value',\n",
       "       'predicted_purchases', 'clv', 's_frequency', 's_recency',\n",
       "       's_monetary_value', 's_clv', 'clusterKmeans', 'clusterWard', 'X_pca',\n",
       "       'Y_pca'],\n",
       "      dtype='object')"
      ]
     },
     "execution_count": 316,
     "metadata": {},
     "output_type": "execute_result"
    }
   ],
   "source": [
    "X.columns"
   ]
  },
  {
   "cell_type": "code",
   "execution_count": 373,
   "metadata": {},
   "outputs": [
    {
     "data": {
      "text/plain": [
       "1    48\n",
       "5    38\n",
       "4    36\n",
       "3    33\n",
       "2    33\n",
       "Name: r_quartile, dtype: int64"
      ]
     },
     "execution_count": 373,
     "metadata": {},
     "output_type": "execute_result"
    }
   ],
   "source": [
    "X.r_quartile.value_counts()"
   ]
  },
  {
   "cell_type": "markdown",
   "metadata": {},
   "source": [
    "# Customers with the lowest recency, highest frequency and monetary amounts considered as top customers."
   ]
  },
  {
   "cell_type": "code",
   "execution_count": 385,
   "metadata": {},
   "outputs": [],
   "source": [
    "X['r_quartile'] = pd.qcut(X['recency'], q=[0,.2,.4,.6,.8,1], labels=['5','4','3','2','1'])\n",
    "X['f_quartile'] = pd.qcut(X['frequency'], q=[0,.2,.4,.6,.8,1], labels=['1','2','3','4'],duplicates='drop')\n",
    "X['m_quartile'] = pd.qcut(X['monetary_value'], q=[0,.2,.4,.6,.8,1], labels=['1','2','3','4','5'])"
   ]
  },
  {
   "cell_type": "code",
   "execution_count": 386,
   "metadata": {},
   "outputs": [
    {
     "data": {
      "text/html": [
       "<div>\n",
       "<style scoped>\n",
       "    .dataframe tbody tr th:only-of-type {\n",
       "        vertical-align: middle;\n",
       "    }\n",
       "\n",
       "    .dataframe tbody tr th {\n",
       "        vertical-align: top;\n",
       "    }\n",
       "\n",
       "    .dataframe thead th {\n",
       "        text-align: right;\n",
       "    }\n",
       "</style>\n",
       "<table border=\"1\" class=\"dataframe\">\n",
       "  <thead>\n",
       "    <tr style=\"text-align: right;\">\n",
       "      <th></th>\n",
       "      <th>customerId</th>\n",
       "      <th>frequency</th>\n",
       "      <th>recency</th>\n",
       "      <th>T</th>\n",
       "      <th>monetary_value</th>\n",
       "      <th>predicted_purchases</th>\n",
       "      <th>clv</th>\n",
       "      <th>s_frequency</th>\n",
       "      <th>s_recency</th>\n",
       "      <th>s_monetary_value</th>\n",
       "      <th>s_clv</th>\n",
       "      <th>clusterKmeans</th>\n",
       "      <th>clusterWard</th>\n",
       "      <th>X_pca</th>\n",
       "      <th>Y_pca</th>\n",
       "      <th>r_quartile</th>\n",
       "      <th>f_quartile</th>\n",
       "      <th>m_quartile</th>\n",
       "      <th>RFM_Score</th>\n",
       "    </tr>\n",
       "  </thead>\n",
       "  <tbody>\n",
       "    <tr>\n",
       "      <td>0</td>\n",
       "      <td>1</td>\n",
       "      <td>17.0</td>\n",
       "      <td>27.006715</td>\n",
       "      <td>27.006715</td>\n",
       "      <td>120.438235</td>\n",
       "      <td>6.628143</td>\n",
       "      <td>11885.015401</td>\n",
       "      <td>0.001430</td>\n",
       "      <td>0.002272</td>\n",
       "      <td>0.010133</td>\n",
       "      <td>0.999945</td>\n",
       "      <td>0</td>\n",
       "      <td>1</td>\n",
       "      <td>-0.506020</td>\n",
       "      <td>-0.001380</td>\n",
       "      <td>1</td>\n",
       "      <td>4</td>\n",
       "      <td>4</td>\n",
       "      <td>144</td>\n",
       "    </tr>\n",
       "    <tr>\n",
       "      <td>1</td>\n",
       "      <td>2</td>\n",
       "      <td>2.0</td>\n",
       "      <td>7.030945</td>\n",
       "      <td>27.006715</td>\n",
       "      <td>22.480000</td>\n",
       "      <td>0.277178</td>\n",
       "      <td>10.256615</td>\n",
       "      <td>0.077616</td>\n",
       "      <td>0.272857</td>\n",
       "      <td>0.872405</td>\n",
       "      <td>0.398039</td>\n",
       "      <td>1</td>\n",
       "      <td>0</td>\n",
       "      <td>0.556442</td>\n",
       "      <td>0.100856</td>\n",
       "      <td>3</td>\n",
       "      <td>1</td>\n",
       "      <td>1</td>\n",
       "      <td>311</td>\n",
       "    </tr>\n",
       "    <tr>\n",
       "      <td>2</td>\n",
       "      <td>3</td>\n",
       "      <td>12.0</td>\n",
       "      <td>12.977679</td>\n",
       "      <td>27.006715</td>\n",
       "      <td>23.946667</td>\n",
       "      <td>0.024071</td>\n",
       "      <td>7.869748</td>\n",
       "      <td>0.389784</td>\n",
       "      <td>0.421541</td>\n",
       "      <td>0.777835</td>\n",
       "      <td>0.255625</td>\n",
       "      <td>1</td>\n",
       "      <td>0</td>\n",
       "      <td>0.616615</td>\n",
       "      <td>0.448219</td>\n",
       "      <td>2</td>\n",
       "      <td>3</td>\n",
       "      <td>1</td>\n",
       "      <td>231</td>\n",
       "    </tr>\n",
       "    <tr>\n",
       "      <td>3</td>\n",
       "      <td>5</td>\n",
       "      <td>3.0</td>\n",
       "      <td>3.022649</td>\n",
       "      <td>27.006715</td>\n",
       "      <td>30.600000</td>\n",
       "      <td>0.018222</td>\n",
       "      <td>0.644359</td>\n",
       "      <td>0.097082</td>\n",
       "      <td>0.097815</td>\n",
       "      <td>0.990239</td>\n",
       "      <td>0.020852</td>\n",
       "      <td>1</td>\n",
       "      <td>2</td>\n",
       "      <td>0.884752</td>\n",
       "      <td>0.002944</td>\n",
       "      <td>5</td>\n",
       "      <td>1</td>\n",
       "      <td>2</td>\n",
       "      <td>512</td>\n",
       "    </tr>\n",
       "    <tr>\n",
       "      <td>4</td>\n",
       "      <td>6</td>\n",
       "      <td>14.0</td>\n",
       "      <td>27.006715</td>\n",
       "      <td>27.006715</td>\n",
       "      <td>522.901429</td>\n",
       "      <td>5.474433</td>\n",
       "      <td>43547.721198</td>\n",
       "      <td>0.000321</td>\n",
       "      <td>0.000620</td>\n",
       "      <td>0.012007</td>\n",
       "      <td>0.999928</td>\n",
       "      <td>0</td>\n",
       "      <td>1</td>\n",
       "      <td>-0.504843</td>\n",
       "      <td>-0.003728</td>\n",
       "      <td>1</td>\n",
       "      <td>4</td>\n",
       "      <td>5</td>\n",
       "      <td>145</td>\n",
       "    </tr>\n",
       "  </tbody>\n",
       "</table>\n",
       "</div>"
      ],
      "text/plain": [
       "   customerId  frequency    recency          T  monetary_value  \\\n",
       "0           1       17.0  27.006715  27.006715      120.438235   \n",
       "1           2        2.0   7.030945  27.006715       22.480000   \n",
       "2           3       12.0  12.977679  27.006715       23.946667   \n",
       "3           5        3.0   3.022649  27.006715       30.600000   \n",
       "4           6       14.0  27.006715  27.006715      522.901429   \n",
       "\n",
       "   predicted_purchases           clv  s_frequency  s_recency  \\\n",
       "0             6.628143  11885.015401     0.001430   0.002272   \n",
       "1             0.277178     10.256615     0.077616   0.272857   \n",
       "2             0.024071      7.869748     0.389784   0.421541   \n",
       "3             0.018222      0.644359     0.097082   0.097815   \n",
       "4             5.474433  43547.721198     0.000321   0.000620   \n",
       "\n",
       "   s_monetary_value     s_clv  clusterKmeans  clusterWard     X_pca     Y_pca  \\\n",
       "0          0.010133  0.999945              0            1 -0.506020 -0.001380   \n",
       "1          0.872405  0.398039              1            0  0.556442  0.100856   \n",
       "2          0.777835  0.255625              1            0  0.616615  0.448219   \n",
       "3          0.990239  0.020852              1            2  0.884752  0.002944   \n",
       "4          0.012007  0.999928              0            1 -0.504843 -0.003728   \n",
       "\n",
       "  r_quartile f_quartile m_quartile RFM_Score  \n",
       "0          1          4          4       144  \n",
       "1          3          1          1       311  \n",
       "2          2          3          1       231  \n",
       "3          5          1          2       512  \n",
       "4          1          4          5       145  "
      ]
     },
     "execution_count": 386,
     "metadata": {},
     "output_type": "execute_result"
    }
   ],
   "source": [
    "X['RFM_Score'] = X.r_quartile.astype(str)+ X.f_quartile.astype(str) + X.m_quartile.astype(str)\n",
    "X.head()"
   ]
  },
  {
   "cell_type": "code",
   "execution_count": 387,
   "metadata": {},
   "outputs": [
    {
     "data": {
      "text/html": [
       "<div>\n",
       "<style scoped>\n",
       "    .dataframe tbody tr th:only-of-type {\n",
       "        vertical-align: middle;\n",
       "    }\n",
       "\n",
       "    .dataframe tbody tr th {\n",
       "        vertical-align: top;\n",
       "    }\n",
       "\n",
       "    .dataframe thead th {\n",
       "        text-align: right;\n",
       "    }\n",
       "</style>\n",
       "<table border=\"1\" class=\"dataframe\">\n",
       "  <thead>\n",
       "    <tr style=\"text-align: right;\">\n",
       "      <th></th>\n",
       "      <th>customerId</th>\n",
       "      <th>frequency</th>\n",
       "      <th>recency</th>\n",
       "      <th>T</th>\n",
       "      <th>monetary_value</th>\n",
       "      <th>predicted_purchases</th>\n",
       "      <th>clv</th>\n",
       "      <th>s_frequency</th>\n",
       "      <th>s_recency</th>\n",
       "      <th>s_monetary_value</th>\n",
       "      <th>s_clv</th>\n",
       "      <th>clusterKmeans</th>\n",
       "      <th>clusterWard</th>\n",
       "      <th>X_pca</th>\n",
       "      <th>Y_pca</th>\n",
       "      <th>r_quartile</th>\n",
       "      <th>f_quartile</th>\n",
       "      <th>m_quartile</th>\n",
       "      <th>RFM_Score</th>\n",
       "    </tr>\n",
       "  </thead>\n",
       "  <tbody>\n",
       "  </tbody>\n",
       "</table>\n",
       "</div>"
      ],
      "text/plain": [
       "Empty DataFrame\n",
       "Columns: [customerId, frequency, recency, T, monetary_value, predicted_purchases, clv, s_frequency, s_recency, s_monetary_value, s_clv, clusterKmeans, clusterWard, X_pca, Y_pca, r_quartile, f_quartile, m_quartile, RFM_Score]\n",
       "Index: []"
      ]
     },
     "execution_count": 387,
     "metadata": {},
     "output_type": "execute_result"
    }
   ],
   "source": [
    "X[X.RFM_Score=='555'].sort_values('monetary_value',ascending=False).head()"
   ]
  },
  {
   "cell_type": "code",
   "execution_count": 420,
   "metadata": {},
   "outputs": [
    {
     "data": {
      "text/plain": [
       "52"
      ]
     },
     "execution_count": 420,
     "metadata": {},
     "output_type": "execute_result"
    }
   ],
   "source": [
    "X.RFM_Score.value_counts().count()"
   ]
  },
  {
   "cell_type": "code",
   "execution_count": 339,
   "metadata": {},
   "outputs": [
    {
     "data": {
      "text/plain": [
       "Index(['customerId', 'frequency', 'recency', 'T', 'monetary_value',\n",
       "       'predicted_purchases', 'clv', 's_frequency', 's_recency',\n",
       "       's_monetary_value', 's_clv', 'clusterKmeans', 'clusterWard', 'X_pca',\n",
       "       'Y_pca', 'r_quartile', 'f_quartile', 'm_quartile'],\n",
       "      dtype='object')"
      ]
     },
     "execution_count": 339,
     "metadata": {},
     "output_type": "execute_result"
    }
   ],
   "source": [
    "X.columns"
   ]
  },
  {
   "cell_type": "code",
   "execution_count": 329,
   "metadata": {},
   "outputs": [
    {
     "data": {
      "text/html": [
       "<div>\n",
       "<style scoped>\n",
       "    .dataframe tbody tr th:only-of-type {\n",
       "        vertical-align: middle;\n",
       "    }\n",
       "\n",
       "    .dataframe tbody tr th {\n",
       "        vertical-align: top;\n",
       "    }\n",
       "\n",
       "    .dataframe thead th {\n",
       "        text-align: right;\n",
       "    }\n",
       "</style>\n",
       "<table border=\"1\" class=\"dataframe\">\n",
       "  <thead>\n",
       "    <tr style=\"text-align: right;\">\n",
       "      <th>r_quartile</th>\n",
       "      <th>1</th>\n",
       "      <th>2</th>\n",
       "      <th>3</th>\n",
       "    </tr>\n",
       "    <tr>\n",
       "      <th>m_quartile</th>\n",
       "      <th></th>\n",
       "      <th></th>\n",
       "      <th></th>\n",
       "    </tr>\n",
       "  </thead>\n",
       "  <tbody>\n",
       "    <tr>\n",
       "      <td>3</td>\n",
       "      <td>31</td>\n",
       "      <td>24</td>\n",
       "      <td>8</td>\n",
       "    </tr>\n",
       "    <tr>\n",
       "      <td>2</td>\n",
       "      <td>21</td>\n",
       "      <td>21</td>\n",
       "      <td>20</td>\n",
       "    </tr>\n",
       "    <tr>\n",
       "      <td>1</td>\n",
       "      <td>12</td>\n",
       "      <td>18</td>\n",
       "      <td>33</td>\n",
       "    </tr>\n",
       "  </tbody>\n",
       "</table>\n",
       "</div>"
      ],
      "text/plain": [
       "r_quartile   1   2   3\n",
       "m_quartile            \n",
       "3           31  24   8\n",
       "2           21  21  20\n",
       "1           12  18  33"
      ]
     },
     "execution_count": 329,
     "metadata": {},
     "output_type": "execute_result"
    }
   ],
   "source": [
    "pd.crosstab(X.m_quartile,X.r_quartile)"
   ]
  },
  {
   "cell_type": "code",
   "execution_count": 350,
   "metadata": {},
   "outputs": [
    {
     "data": {
      "text/html": [
       "<div>\n",
       "<style scoped>\n",
       "    .dataframe tbody tr th:only-of-type {\n",
       "        vertical-align: middle;\n",
       "    }\n",
       "\n",
       "    .dataframe tbody tr th {\n",
       "        vertical-align: top;\n",
       "    }\n",
       "\n",
       "    .dataframe thead tr th {\n",
       "        text-align: left;\n",
       "    }\n",
       "\n",
       "    .dataframe thead tr:last-of-type th {\n",
       "        text-align: right;\n",
       "    }\n",
       "</style>\n",
       "<table border=\"1\" class=\"dataframe\">\n",
       "  <thead>\n",
       "    <tr>\n",
       "      <th></th>\n",
       "      <th colspan=\"9\" halign=\"left\">r_quartile</th>\n",
       "    </tr>\n",
       "    <tr>\n",
       "      <th>f_quartile</th>\n",
       "      <th colspan=\"3\" halign=\"left\">3</th>\n",
       "      <th colspan=\"3\" halign=\"left\">2</th>\n",
       "      <th colspan=\"3\" halign=\"left\">1</th>\n",
       "    </tr>\n",
       "    <tr>\n",
       "      <th>m_quartile</th>\n",
       "      <th>3</th>\n",
       "      <th>2</th>\n",
       "      <th>1</th>\n",
       "      <th>3</th>\n",
       "      <th>2</th>\n",
       "      <th>1</th>\n",
       "      <th>3</th>\n",
       "      <th>2</th>\n",
       "      <th>1</th>\n",
       "    </tr>\n",
       "    <tr>\n",
       "      <th>r_quartile</th>\n",
       "      <th></th>\n",
       "      <th></th>\n",
       "      <th></th>\n",
       "      <th></th>\n",
       "      <th></th>\n",
       "      <th></th>\n",
       "      <th></th>\n",
       "      <th></th>\n",
       "      <th></th>\n",
       "    </tr>\n",
       "  </thead>\n",
       "  <tbody>\n",
       "    <tr>\n",
       "      <td>1</td>\n",
       "      <td>23</td>\n",
       "      <td>15</td>\n",
       "      <td>7</td>\n",
       "      <td>8</td>\n",
       "      <td>6</td>\n",
       "      <td>5</td>\n",
       "      <td>0</td>\n",
       "      <td>0</td>\n",
       "      <td>0</td>\n",
       "    </tr>\n",
       "    <tr>\n",
       "      <td>2</td>\n",
       "      <td>7</td>\n",
       "      <td>3</td>\n",
       "      <td>6</td>\n",
       "      <td>10</td>\n",
       "      <td>13</td>\n",
       "      <td>10</td>\n",
       "      <td>7</td>\n",
       "      <td>5</td>\n",
       "      <td>2</td>\n",
       "    </tr>\n",
       "    <tr>\n",
       "      <td>3</td>\n",
       "      <td>1</td>\n",
       "      <td>2</td>\n",
       "      <td>1</td>\n",
       "      <td>1</td>\n",
       "      <td>2</td>\n",
       "      <td>6</td>\n",
       "      <td>6</td>\n",
       "      <td>16</td>\n",
       "      <td>26</td>\n",
       "    </tr>\n",
       "  </tbody>\n",
       "</table>\n",
       "</div>"
      ],
      "text/plain": [
       "           r_quartile                              \n",
       "f_quartile          3          2          1        \n",
       "m_quartile          3   2  1   3   2   1  3   2   1\n",
       "r_quartile                                         \n",
       "1                  23  15  7   8   6   5  0   0   0\n",
       "2                   7   3  6  10  13  10  7   5   2\n",
       "3                   1   2  1   1   2   6  6  16  26"
      ]
     },
     "execution_count": 350,
     "metadata": {},
     "output_type": "execute_result"
    }
   ],
   "source": [
    "X.pivot_table(index='r_quartile', columns=['f_quartile','m_quartile'],aggfunc={'r_quartile':len}, fill_value=0)"
   ]
  },
  {
   "cell_type": "code",
   "execution_count": null,
   "metadata": {},
   "outputs": [],
   "source": [
    "X.groupby(['clusterKmeans']).agg({'frequency':['count','mean','std'],\n",
    "                            'recency':['mean','std'],\n",
    "                            'T':['mean','std'],\n",
    "                            'monetary_value':['mean','std'],\n",
    "                            'predicted_purchases':['mean','std'],\n",
    "                            'clv':['mean','std']})"
   ]
  },
  {
   "cell_type": "code",
   "execution_count": 324,
   "metadata": {},
   "outputs": [
    {
     "data": {
      "text/html": [
       "<div>\n",
       "<style scoped>\n",
       "    .dataframe tbody tr th:only-of-type {\n",
       "        vertical-align: middle;\n",
       "    }\n",
       "\n",
       "    .dataframe tbody tr th {\n",
       "        vertical-align: top;\n",
       "    }\n",
       "\n",
       "    .dataframe thead th {\n",
       "        text-align: right;\n",
       "    }\n",
       "</style>\n",
       "<table border=\"1\" class=\"dataframe\">\n",
       "  <thead>\n",
       "    <tr style=\"text-align: right;\">\n",
       "      <th></th>\n",
       "      <th>r_quartile</th>\n",
       "      <th>f_quartile</th>\n",
       "      <th>m_quartile</th>\n",
       "    </tr>\n",
       "  </thead>\n",
       "  <tbody>\n",
       "    <tr>\n",
       "      <td>count</td>\n",
       "      <td>188</td>\n",
       "      <td>188.0</td>\n",
       "      <td>188.0</td>\n",
       "    </tr>\n",
       "    <tr>\n",
       "      <td>max</td>\n",
       "      <td>3</td>\n",
       "      <td>NaN</td>\n",
       "      <td>NaN</td>\n",
       "    </tr>\n",
       "    <tr>\n",
       "      <td>min</td>\n",
       "      <td>1</td>\n",
       "      <td>NaN</td>\n",
       "      <td>NaN</td>\n",
       "    </tr>\n",
       "  </tbody>\n",
       "</table>\n",
       "</div>"
      ],
      "text/plain": [
       "      r_quartile  f_quartile  m_quartile\n",
       "count        188       188.0       188.0\n",
       "max            3         NaN         NaN\n",
       "min            1         NaN         NaN"
      ]
     },
     "execution_count": 324,
     "metadata": {},
     "output_type": "execute_result"
    }
   ],
   "source": [
    "X.agg({'r_quartile':['count','mean','std','min','max'],\n",
    "        'f_quartile':['count','mean','std'],\n",
    "        'm_quartile':['count','mean','std']})"
   ]
  }
 ],
 "metadata": {
  "kernelspec": {
   "display_name": "Python 3",
   "language": "python",
   "name": "python3"
  },
  "language_info": {
   "codemirror_mode": {
    "name": "ipython",
    "version": 3
   },
   "file_extension": ".py",
   "mimetype": "text/x-python",
   "name": "python",
   "nbconvert_exporter": "python",
   "pygments_lexer": "ipython3",
   "version": "3.7.6"
  },
  "toc-autonumbering": true
 },
 "nbformat": 4,
 "nbformat_minor": 4
}
