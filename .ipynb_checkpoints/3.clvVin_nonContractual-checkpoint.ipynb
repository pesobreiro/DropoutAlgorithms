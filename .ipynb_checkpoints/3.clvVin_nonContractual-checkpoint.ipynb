{
 "cells": [
  {
   "cell_type": "markdown",
   "metadata": {},
   "source": [
    "# Wine company"
   ]
  },
  {
   "cell_type": "code",
   "execution_count": 245,
   "metadata": {},
   "outputs": [],
   "source": [
    "import pandas as pd\n",
    "from lifetimes.datasets import load_transaction_data\n",
    "from lifetimes.utils import summary_data_from_transaction_data\n",
    "\n",
    "%matplotlib inline"
   ]
  },
  {
   "cell_type": "markdown",
   "metadata": {},
   "source": [
    "# Import data"
   ]
  },
  {
   "cell_type": "code",
   "execution_count": 246,
   "metadata": {},
   "outputs": [],
   "source": [
    "df = pd.read_excel('../dados/vinhos/vendas.xlsx')"
   ]
  },
  {
   "cell_type": "code",
   "execution_count": 247,
   "metadata": {},
   "outputs": [
    {
     "data": {
      "text/html": [
       "<div>\n",
       "<style scoped>\n",
       "    .dataframe tbody tr th:only-of-type {\n",
       "        vertical-align: middle;\n",
       "    }\n",
       "\n",
       "    .dataframe tbody tr th {\n",
       "        vertical-align: top;\n",
       "    }\n",
       "\n",
       "    .dataframe thead th {\n",
       "        text-align: right;\n",
       "    }\n",
       "</style>\n",
       "<table border=\"1\" class=\"dataframe\">\n",
       "  <thead>\n",
       "    <tr style=\"text-align: right;\">\n",
       "      <th></th>\n",
       "      <th>index</th>\n",
       "      <th>Nº Cliente</th>\n",
       "      <th>Data da Fatura</th>\n",
       "      <th>Valor Base (Sem IVA)</th>\n",
       "      <th>IVA</th>\n",
       "      <th>Desconto Financeiro</th>\n",
       "      <th>Desconto Comercial</th>\n",
       "      <th>Total (Com IVA)</th>\n",
       "    </tr>\n",
       "  </thead>\n",
       "  <tbody>\n",
       "    <tr>\n",
       "      <td>0</td>\n",
       "      <td>0</td>\n",
       "      <td>1</td>\n",
       "      <td>2017-06-07</td>\n",
       "      <td>118.14</td>\n",
       "      <td>17.40</td>\n",
       "      <td>0</td>\n",
       "      <td>0.0</td>\n",
       "      <td>135.54</td>\n",
       "    </tr>\n",
       "    <tr>\n",
       "      <td>1</td>\n",
       "      <td>1</td>\n",
       "      <td>1</td>\n",
       "      <td>2017-09-08</td>\n",
       "      <td>57.18</td>\n",
       "      <td>7.43</td>\n",
       "      <td>0</td>\n",
       "      <td>0.0</td>\n",
       "      <td>64.61</td>\n",
       "    </tr>\n",
       "    <tr>\n",
       "      <td>2</td>\n",
       "      <td>2</td>\n",
       "      <td>1</td>\n",
       "      <td>2018-02-27</td>\n",
       "      <td>40.50</td>\n",
       "      <td>5.27</td>\n",
       "      <td>0</td>\n",
       "      <td>0.0</td>\n",
       "      <td>45.77</td>\n",
       "    </tr>\n",
       "    <tr>\n",
       "      <td>3</td>\n",
       "      <td>3</td>\n",
       "      <td>1</td>\n",
       "      <td>2018-04-30</td>\n",
       "      <td>32.94</td>\n",
       "      <td>4.28</td>\n",
       "      <td>0</td>\n",
       "      <td>0.0</td>\n",
       "      <td>37.22</td>\n",
       "    </tr>\n",
       "    <tr>\n",
       "      <td>4</td>\n",
       "      <td>4</td>\n",
       "      <td>1</td>\n",
       "      <td>2018-06-06</td>\n",
       "      <td>30.60</td>\n",
       "      <td>7.04</td>\n",
       "      <td>0</td>\n",
       "      <td>0.0</td>\n",
       "      <td>37.64</td>\n",
       "    </tr>\n",
       "  </tbody>\n",
       "</table>\n",
       "</div>"
      ],
      "text/plain": [
       "   index  Nº Cliente Data da Fatura  Valor Base (Sem IVA)    IVA  \\\n",
       "0      0           1     2017-06-07                118.14  17.40   \n",
       "1      1           1     2017-09-08                 57.18   7.43   \n",
       "2      2           1     2018-02-27                 40.50   5.27   \n",
       "3      3           1     2018-04-30                 32.94   4.28   \n",
       "4      4           1     2018-06-06                 30.60   7.04   \n",
       "\n",
       "   Desconto Financeiro  Desconto Comercial  Total (Com IVA)  \n",
       "0                    0                 0.0           135.54  \n",
       "1                    0                 0.0            64.61  \n",
       "2                    0                 0.0            45.77  \n",
       "3                    0                 0.0            37.22  \n",
       "4                    0                 0.0            37.64  "
      ]
     },
     "execution_count": 247,
     "metadata": {},
     "output_type": "execute_result"
    }
   ],
   "source": [
    "# criar um id\n",
    "df = df.reset_index()\n",
    "df.head()"
   ]
  },
  {
   "cell_type": "code",
   "execution_count": 248,
   "metadata": {},
   "outputs": [
    {
     "data": {
      "text/plain": [
       "Index(['index', 'Nº Cliente', 'Data da Fatura', 'Valor Base (Sem IVA)', 'IVA',\n",
       "       'Desconto Financeiro', 'Desconto Comercial', 'Total (Com IVA)'],\n",
       "      dtype='object')"
      ]
     },
     "execution_count": 248,
     "metadata": {},
     "output_type": "execute_result"
    }
   ],
   "source": [
    "df.columns"
   ]
  },
  {
   "cell_type": "code",
   "execution_count": 249,
   "metadata": {},
   "outputs": [],
   "source": [
    "df.columns = ['index', 'customerId', 'date', 'value','IVA', 'discountFinan', 'discountComer','valueWithIVA']"
   ]
  },
  {
   "cell_type": "code",
   "execution_count": 250,
   "metadata": {},
   "outputs": [
    {
     "data": {
      "text/html": [
       "<div>\n",
       "<style scoped>\n",
       "    .dataframe tbody tr th:only-of-type {\n",
       "        vertical-align: middle;\n",
       "    }\n",
       "\n",
       "    .dataframe tbody tr th {\n",
       "        vertical-align: top;\n",
       "    }\n",
       "\n",
       "    .dataframe thead th {\n",
       "        text-align: right;\n",
       "    }\n",
       "</style>\n",
       "<table border=\"1\" class=\"dataframe\">\n",
       "  <thead>\n",
       "    <tr style=\"text-align: right;\">\n",
       "      <th></th>\n",
       "      <th>index</th>\n",
       "      <th>customerId</th>\n",
       "      <th>date</th>\n",
       "      <th>value</th>\n",
       "      <th>IVA</th>\n",
       "      <th>discountFinan</th>\n",
       "      <th>discountComer</th>\n",
       "      <th>valueWithIVA</th>\n",
       "    </tr>\n",
       "  </thead>\n",
       "  <tbody>\n",
       "    <tr>\n",
       "      <td>0</td>\n",
       "      <td>0</td>\n",
       "      <td>1</td>\n",
       "      <td>2017-06-07</td>\n",
       "      <td>118.14</td>\n",
       "      <td>17.40</td>\n",
       "      <td>0</td>\n",
       "      <td>0.0</td>\n",
       "      <td>135.54</td>\n",
       "    </tr>\n",
       "    <tr>\n",
       "      <td>1</td>\n",
       "      <td>1</td>\n",
       "      <td>1</td>\n",
       "      <td>2017-09-08</td>\n",
       "      <td>57.18</td>\n",
       "      <td>7.43</td>\n",
       "      <td>0</td>\n",
       "      <td>0.0</td>\n",
       "      <td>64.61</td>\n",
       "    </tr>\n",
       "    <tr>\n",
       "      <td>2</td>\n",
       "      <td>2</td>\n",
       "      <td>1</td>\n",
       "      <td>2018-02-27</td>\n",
       "      <td>40.50</td>\n",
       "      <td>5.27</td>\n",
       "      <td>0</td>\n",
       "      <td>0.0</td>\n",
       "      <td>45.77</td>\n",
       "    </tr>\n",
       "    <tr>\n",
       "      <td>3</td>\n",
       "      <td>3</td>\n",
       "      <td>1</td>\n",
       "      <td>2018-04-30</td>\n",
       "      <td>32.94</td>\n",
       "      <td>4.28</td>\n",
       "      <td>0</td>\n",
       "      <td>0.0</td>\n",
       "      <td>37.22</td>\n",
       "    </tr>\n",
       "    <tr>\n",
       "      <td>4</td>\n",
       "      <td>4</td>\n",
       "      <td>1</td>\n",
       "      <td>2018-06-06</td>\n",
       "      <td>30.60</td>\n",
       "      <td>7.04</td>\n",
       "      <td>0</td>\n",
       "      <td>0.0</td>\n",
       "      <td>37.64</td>\n",
       "    </tr>\n",
       "  </tbody>\n",
       "</table>\n",
       "</div>"
      ],
      "text/plain": [
       "   index  customerId       date   value    IVA  discountFinan  discountComer  \\\n",
       "0      0           1 2017-06-07  118.14  17.40              0            0.0   \n",
       "1      1           1 2017-09-08   57.18   7.43              0            0.0   \n",
       "2      2           1 2018-02-27   40.50   5.27              0            0.0   \n",
       "3      3           1 2018-04-30   32.94   4.28              0            0.0   \n",
       "4      4           1 2018-06-06   30.60   7.04              0            0.0   \n",
       "\n",
       "   valueWithIVA  \n",
       "0        135.54  \n",
       "1         64.61  \n",
       "2         45.77  \n",
       "3         37.22  \n",
       "4         37.64  "
      ]
     },
     "execution_count": 250,
     "metadata": {},
     "output_type": "execute_result"
    }
   ],
   "source": [
    "df.head()"
   ]
  },
  {
   "cell_type": "code",
   "execution_count": 251,
   "metadata": {},
   "outputs": [
    {
     "data": {
      "text/plain": [
       "Timestamp('2019-09-11 00:00:00')"
      ]
     },
     "execution_count": 251,
     "metadata": {},
     "output_type": "execute_result"
    }
   ],
   "source": [
    "#calcular a data maior\n",
    "df.date.max()"
   ]
  },
  {
   "cell_type": "code",
   "execution_count": 252,
   "metadata": {},
   "outputs": [
    {
     "data": {
      "text/html": [
       "<div>\n",
       "<style scoped>\n",
       "    .dataframe tbody tr th:only-of-type {\n",
       "        vertical-align: middle;\n",
       "    }\n",
       "\n",
       "    .dataframe tbody tr th {\n",
       "        vertical-align: top;\n",
       "    }\n",
       "\n",
       "    .dataframe thead th {\n",
       "        text-align: right;\n",
       "    }\n",
       "</style>\n",
       "<table border=\"1\" class=\"dataframe\">\n",
       "  <thead>\n",
       "    <tr style=\"text-align: right;\">\n",
       "      <th></th>\n",
       "      <th>index</th>\n",
       "      <th>customerId</th>\n",
       "      <th>date</th>\n",
       "      <th>value</th>\n",
       "      <th>IVA</th>\n",
       "      <th>discountFinan</th>\n",
       "      <th>discountComer</th>\n",
       "      <th>valueWithIVA</th>\n",
       "    </tr>\n",
       "  </thead>\n",
       "  <tbody>\n",
       "    <tr>\n",
       "      <td>127</td>\n",
       "      <td>127</td>\n",
       "      <td>7</td>\n",
       "      <td>2017-06-08</td>\n",
       "      <td>20.4</td>\n",
       "      <td>4.69</td>\n",
       "      <td>0</td>\n",
       "      <td>0.0</td>\n",
       "      <td>25.09</td>\n",
       "    </tr>\n",
       "    <tr>\n",
       "      <td>128</td>\n",
       "      <td>128</td>\n",
       "      <td>7</td>\n",
       "      <td>2017-06-26</td>\n",
       "      <td>20.4</td>\n",
       "      <td>4.69</td>\n",
       "      <td>0</td>\n",
       "      <td>0.0</td>\n",
       "      <td>25.09</td>\n",
       "    </tr>\n",
       "    <tr>\n",
       "      <td>129</td>\n",
       "      <td>129</td>\n",
       "      <td>7</td>\n",
       "      <td>2017-07-10</td>\n",
       "      <td>20.4</td>\n",
       "      <td>4.69</td>\n",
       "      <td>0</td>\n",
       "      <td>0.0</td>\n",
       "      <td>25.09</td>\n",
       "    </tr>\n",
       "    <tr>\n",
       "      <td>130</td>\n",
       "      <td>130</td>\n",
       "      <td>7</td>\n",
       "      <td>2017-08-18</td>\n",
       "      <td>10.2</td>\n",
       "      <td>2.35</td>\n",
       "      <td>0</td>\n",
       "      <td>0.0</td>\n",
       "      <td>12.55</td>\n",
       "    </tr>\n",
       "    <tr>\n",
       "      <td>131</td>\n",
       "      <td>131</td>\n",
       "      <td>7</td>\n",
       "      <td>2017-09-08</td>\n",
       "      <td>20.4</td>\n",
       "      <td>4.69</td>\n",
       "      <td>0</td>\n",
       "      <td>0.0</td>\n",
       "      <td>25.09</td>\n",
       "    </tr>\n",
       "  </tbody>\n",
       "</table>\n",
       "</div>"
      ],
      "text/plain": [
       "     index  customerId       date  value   IVA  discountFinan  discountComer  \\\n",
       "127    127           7 2017-06-08   20.4  4.69              0            0.0   \n",
       "128    128           7 2017-06-26   20.4  4.69              0            0.0   \n",
       "129    129           7 2017-07-10   20.4  4.69              0            0.0   \n",
       "130    130           7 2017-08-18   10.2  2.35              0            0.0   \n",
       "131    131           7 2017-09-08   20.4  4.69              0            0.0   \n",
       "\n",
       "     valueWithIVA  \n",
       "127         25.09  \n",
       "128         25.09  \n",
       "129         25.09  \n",
       "130         12.55  \n",
       "131         25.09  "
      ]
     },
     "execution_count": 252,
     "metadata": {},
     "output_type": "execute_result"
    }
   ],
   "source": [
    "df[df.customerId==7].head()"
   ]
  },
  {
   "cell_type": "code",
   "execution_count": 253,
   "metadata": {},
   "outputs": [
    {
     "data": {
      "text/plain": [
       "186.63"
      ]
     },
     "execution_count": 253,
     "metadata": {},
     "output_type": "execute_result"
    }
   ],
   "source": [
    "df[df.customerId==2].value.sum()"
   ]
  },
  {
   "cell_type": "markdown",
   "metadata": {},
   "source": [
    "## Customer descriptives statistics\n"
   ]
  },
  {
   "cell_type": "code",
   "execution_count": 254,
   "metadata": {},
   "outputs": [
    {
     "data": {
      "text/html": [
       "<div>\n",
       "<style scoped>\n",
       "    .dataframe tbody tr th:only-of-type {\n",
       "        vertical-align: middle;\n",
       "    }\n",
       "\n",
       "    .dataframe tbody tr th {\n",
       "        vertical-align: top;\n",
       "    }\n",
       "\n",
       "    .dataframe thead th {\n",
       "        text-align: right;\n",
       "    }\n",
       "</style>\n",
       "<table border=\"1\" class=\"dataframe\">\n",
       "  <thead>\n",
       "    <tr style=\"text-align: right;\">\n",
       "      <th></th>\n",
       "      <th>index</th>\n",
       "      <th>customerId</th>\n",
       "      <th>value</th>\n",
       "      <th>IVA</th>\n",
       "      <th>discountFinan</th>\n",
       "      <th>discountComer</th>\n",
       "      <th>valueWithIVA</th>\n",
       "    </tr>\n",
       "  </thead>\n",
       "  <tbody>\n",
       "    <tr>\n",
       "      <td>count</td>\n",
       "      <td>3435.000000</td>\n",
       "      <td>3435.000000</td>\n",
       "      <td>3435.000000</td>\n",
       "      <td>3435.000000</td>\n",
       "      <td>3435.0</td>\n",
       "      <td>3435.000000</td>\n",
       "      <td>3435.000000</td>\n",
       "    </tr>\n",
       "    <tr>\n",
       "      <td>mean</td>\n",
       "      <td>1717.000000</td>\n",
       "      <td>1867.832023</td>\n",
       "      <td>62.313502</td>\n",
       "      <td>9.675642</td>\n",
       "      <td>0.0</td>\n",
       "      <td>0.033290</td>\n",
       "      <td>71.989144</td>\n",
       "    </tr>\n",
       "    <tr>\n",
       "      <td>std</td>\n",
       "      <td>991.743414</td>\n",
       "      <td>2695.038246</td>\n",
       "      <td>113.613042</td>\n",
       "      <td>14.459302</td>\n",
       "      <td>0.0</td>\n",
       "      <td>0.806394</td>\n",
       "      <td>126.598534</td>\n",
       "    </tr>\n",
       "    <tr>\n",
       "      <td>min</td>\n",
       "      <td>0.000000</td>\n",
       "      <td>1.000000</td>\n",
       "      <td>-80.800000</td>\n",
       "      <td>-6.070000</td>\n",
       "      <td>0.0</td>\n",
       "      <td>0.000000</td>\n",
       "      <td>-85.650000</td>\n",
       "    </tr>\n",
       "    <tr>\n",
       "      <td>25%</td>\n",
       "      <td>858.500000</td>\n",
       "      <td>40.000000</td>\n",
       "      <td>20.400000</td>\n",
       "      <td>3.610000</td>\n",
       "      <td>0.0</td>\n",
       "      <td>0.000000</td>\n",
       "      <td>25.090000</td>\n",
       "    </tr>\n",
       "    <tr>\n",
       "      <td>50%</td>\n",
       "      <td>1717.000000</td>\n",
       "      <td>77.000000</td>\n",
       "      <td>33.360000</td>\n",
       "      <td>5.200000</td>\n",
       "      <td>0.0</td>\n",
       "      <td>0.000000</td>\n",
       "      <td>37.700000</td>\n",
       "    </tr>\n",
       "    <tr>\n",
       "      <td>75%</td>\n",
       "      <td>2575.500000</td>\n",
       "      <td>6001.000000</td>\n",
       "      <td>63.120000</td>\n",
       "      <td>10.840000</td>\n",
       "      <td>0.0</td>\n",
       "      <td>0.000000</td>\n",
       "      <td>75.280000</td>\n",
       "    </tr>\n",
       "    <tr>\n",
       "      <td>max</td>\n",
       "      <td>3434.000000</td>\n",
       "      <td>6105.000000</td>\n",
       "      <td>2280.000000</td>\n",
       "      <td>262.750000</td>\n",
       "      <td>0.0</td>\n",
       "      <td>30.000000</td>\n",
       "      <td>2416.800000</td>\n",
       "    </tr>\n",
       "  </tbody>\n",
       "</table>\n",
       "</div>"
      ],
      "text/plain": [
       "             index   customerId        value          IVA  discountFinan  \\\n",
       "count  3435.000000  3435.000000  3435.000000  3435.000000         3435.0   \n",
       "mean   1717.000000  1867.832023    62.313502     9.675642            0.0   \n",
       "std     991.743414  2695.038246   113.613042    14.459302            0.0   \n",
       "min       0.000000     1.000000   -80.800000    -6.070000            0.0   \n",
       "25%     858.500000    40.000000    20.400000     3.610000            0.0   \n",
       "50%    1717.000000    77.000000    33.360000     5.200000            0.0   \n",
       "75%    2575.500000  6001.000000    63.120000    10.840000            0.0   \n",
       "max    3434.000000  6105.000000  2280.000000   262.750000            0.0   \n",
       "\n",
       "       discountComer  valueWithIVA  \n",
       "count    3435.000000   3435.000000  \n",
       "mean        0.033290     71.989144  \n",
       "std         0.806394    126.598534  \n",
       "min         0.000000    -85.650000  \n",
       "25%         0.000000     25.090000  \n",
       "50%         0.000000     37.700000  \n",
       "75%         0.000000     75.280000  \n",
       "max        30.000000   2416.800000  "
      ]
     },
     "execution_count": 254,
     "metadata": {},
     "output_type": "execute_result"
    }
   ],
   "source": [
    "df.describe()"
   ]
  },
  {
   "cell_type": "code",
   "execution_count": 255,
   "metadata": {},
   "outputs": [
    {
     "data": {
      "text/html": [
       "<div>\n",
       "<style scoped>\n",
       "    .dataframe tbody tr th:only-of-type {\n",
       "        vertical-align: middle;\n",
       "    }\n",
       "\n",
       "    .dataframe tbody tr th {\n",
       "        vertical-align: top;\n",
       "    }\n",
       "\n",
       "    .dataframe thead th {\n",
       "        text-align: right;\n",
       "    }\n",
       "</style>\n",
       "<table border=\"1\" class=\"dataframe\">\n",
       "  <thead>\n",
       "    <tr style=\"text-align: right;\">\n",
       "      <th></th>\n",
       "      <th>customerId</th>\n",
       "    </tr>\n",
       "  </thead>\n",
       "  <tbody>\n",
       "    <tr>\n",
       "      <td>count</td>\n",
       "      <td>3435.000000</td>\n",
       "    </tr>\n",
       "    <tr>\n",
       "      <td>mean</td>\n",
       "      <td>1867.832023</td>\n",
       "    </tr>\n",
       "    <tr>\n",
       "      <td>std</td>\n",
       "      <td>2695.038246</td>\n",
       "    </tr>\n",
       "    <tr>\n",
       "      <td>min</td>\n",
       "      <td>1.000000</td>\n",
       "    </tr>\n",
       "    <tr>\n",
       "      <td>max</td>\n",
       "      <td>6105.000000</td>\n",
       "    </tr>\n",
       "  </tbody>\n",
       "</table>\n",
       "</div>"
      ],
      "text/plain": [
       "        customerId\n",
       "count  3435.000000\n",
       "mean   1867.832023\n",
       "std    2695.038246\n",
       "min       1.000000\n",
       "max    6105.000000"
      ]
     },
     "execution_count": 255,
     "metadata": {},
     "output_type": "execute_result"
    }
   ],
   "source": [
    "df.agg({'customerId':['count','mean','std','min','max']})"
   ]
  },
  {
   "cell_type": "code",
   "execution_count": 256,
   "metadata": {},
   "outputs": [
    {
     "data": {
      "text/plain": [
       "Timestamp('2017-06-07 00:00:00')"
      ]
     },
     "execution_count": 256,
     "metadata": {},
     "output_type": "execute_result"
    }
   ],
   "source": [
    "df.date.min()"
   ]
  },
  {
   "cell_type": "code",
   "execution_count": 257,
   "metadata": {},
   "outputs": [
    {
     "data": {
      "text/plain": [
       "Timestamp('2019-09-11 00:00:00')"
      ]
     },
     "execution_count": 257,
     "metadata": {},
     "output_type": "execute_result"
    }
   ],
   "source": [
    "df.date.max()"
   ]
  },
  {
   "cell_type": "markdown",
   "metadata": {},
   "source": [
    "## shapping data\n",
    "- frequency: Count of time periods the customer had a purchase in, e.g. months units represent the number of months that the customer had purchases\n",
    "- T: represents the age of the customer in the selected time unit\n",
    "- recency: represents the age of the customer when they made the most recent purchases = duration first purchase to last purchase\n",
    "\n",
    "\n",
    "Time units: 'D' for days, 'W' for weeks, 'M' for months, 'H' hours... https://pandas.pydata.org/pandas-docs/stable/user_guide/timeseries.html"
   ]
  },
  {
   "cell_type": "code",
   "execution_count": 258,
   "metadata": {},
   "outputs": [
    {
     "data": {
      "text/html": [
       "<div>\n",
       "<style scoped>\n",
       "    .dataframe tbody tr th:only-of-type {\n",
       "        vertical-align: middle;\n",
       "    }\n",
       "\n",
       "    .dataframe tbody tr th {\n",
       "        vertical-align: top;\n",
       "    }\n",
       "\n",
       "    .dataframe thead th {\n",
       "        text-align: right;\n",
       "    }\n",
       "</style>\n",
       "<table border=\"1\" class=\"dataframe\">\n",
       "  <thead>\n",
       "    <tr style=\"text-align: right;\">\n",
       "      <th></th>\n",
       "      <th>frequency</th>\n",
       "      <th>recency</th>\n",
       "      <th>T</th>\n",
       "      <th>monetary_value</th>\n",
       "    </tr>\n",
       "    <tr>\n",
       "      <th>customerId</th>\n",
       "      <th></th>\n",
       "      <th></th>\n",
       "      <th></th>\n",
       "      <th></th>\n",
       "    </tr>\n",
       "  </thead>\n",
       "  <tbody>\n",
       "    <tr>\n",
       "      <td>1</td>\n",
       "      <td>17.0</td>\n",
       "      <td>27.006715</td>\n",
       "      <td>27.006715</td>\n",
       "      <td>120.438235</td>\n",
       "    </tr>\n",
       "    <tr>\n",
       "      <td>2</td>\n",
       "      <td>2.0</td>\n",
       "      <td>7.030945</td>\n",
       "      <td>27.006715</td>\n",
       "      <td>22.480000</td>\n",
       "    </tr>\n",
       "    <tr>\n",
       "      <td>3</td>\n",
       "      <td>12.0</td>\n",
       "      <td>12.977679</td>\n",
       "      <td>27.006715</td>\n",
       "      <td>23.946667</td>\n",
       "    </tr>\n",
       "    <tr>\n",
       "      <td>5</td>\n",
       "      <td>3.0</td>\n",
       "      <td>3.022649</td>\n",
       "      <td>27.006715</td>\n",
       "      <td>30.600000</td>\n",
       "    </tr>\n",
       "    <tr>\n",
       "      <td>6</td>\n",
       "      <td>14.0</td>\n",
       "      <td>27.006715</td>\n",
       "      <td>27.006715</td>\n",
       "      <td>522.901429</td>\n",
       "    </tr>\n",
       "  </tbody>\n",
       "</table>\n",
       "</div>"
      ],
      "text/plain": [
       "            frequency    recency          T  monetary_value\n",
       "customerId                                                 \n",
       "1                17.0  27.006715  27.006715      120.438235\n",
       "2                 2.0   7.030945  27.006715       22.480000\n",
       "3                12.0  12.977679  27.006715       23.946667\n",
       "5                 3.0   3.022649  27.006715       30.600000\n",
       "6                14.0  27.006715  27.006715      522.901429"
      ]
     },
     "execution_count": 258,
     "metadata": {},
     "output_type": "execute_result"
    }
   ],
   "source": [
    "summary = summary_data_from_transaction_data(df,customer_id_col='customerId',datetime_col='date',freq='M',\n",
    "                                             monetary_value_col='value',observation_period_end='2019-09-11')\n",
    "summary.head()"
   ]
  },
  {
   "cell_type": "code",
   "execution_count": 259,
   "metadata": {},
   "outputs": [
    {
     "data": {
      "text/html": [
       "<div>\n",
       "<style scoped>\n",
       "    .dataframe tbody tr th:only-of-type {\n",
       "        vertical-align: middle;\n",
       "    }\n",
       "\n",
       "    .dataframe tbody tr th {\n",
       "        vertical-align: top;\n",
       "    }\n",
       "\n",
       "    .dataframe thead th {\n",
       "        text-align: right;\n",
       "    }\n",
       "</style>\n",
       "<table border=\"1\" class=\"dataframe\">\n",
       "  <thead>\n",
       "    <tr style=\"text-align: right;\">\n",
       "      <th></th>\n",
       "      <th>frequency</th>\n",
       "      <th>recency</th>\n",
       "      <th>T</th>\n",
       "      <th>monetary_value</th>\n",
       "    </tr>\n",
       "  </thead>\n",
       "  <tbody>\n",
       "    <tr>\n",
       "      <td>count</td>\n",
       "      <td>284.000000</td>\n",
       "      <td>284.000000</td>\n",
       "      <td>284.000000</td>\n",
       "      <td>284.000000</td>\n",
       "    </tr>\n",
       "    <tr>\n",
       "      <td>mean</td>\n",
       "      <td>4.890845</td>\n",
       "      <td>7.061602</td>\n",
       "      <td>18.763956</td>\n",
       "      <td>78.276456</td>\n",
       "    </tr>\n",
       "    <tr>\n",
       "      <td>std</td>\n",
       "      <td>6.682506</td>\n",
       "      <td>8.301244</td>\n",
       "      <td>6.718018</td>\n",
       "      <td>212.572188</td>\n",
       "    </tr>\n",
       "    <tr>\n",
       "      <td>min</td>\n",
       "      <td>0.000000</td>\n",
       "      <td>0.000000</td>\n",
       "      <td>1.018501</td>\n",
       "      <td>0.000000</td>\n",
       "    </tr>\n",
       "    <tr>\n",
       "      <td>25%</td>\n",
       "      <td>0.000000</td>\n",
       "      <td>0.000000</td>\n",
       "      <td>14.768270</td>\n",
       "      <td>0.000000</td>\n",
       "    </tr>\n",
       "    <tr>\n",
       "      <td>50%</td>\n",
       "      <td>2.000000</td>\n",
       "      <td>3.022649</td>\n",
       "      <td>18.957268</td>\n",
       "      <td>30.316667</td>\n",
       "    </tr>\n",
       "    <tr>\n",
       "      <td>75%</td>\n",
       "      <td>7.250000</td>\n",
       "      <td>12.977679</td>\n",
       "      <td>25.002567</td>\n",
       "      <td>73.249803</td>\n",
       "    </tr>\n",
       "    <tr>\n",
       "      <td>max</td>\n",
       "      <td>27.000000</td>\n",
       "      <td>27.006715</td>\n",
       "      <td>27.006715</td>\n",
       "      <td>2812.000000</td>\n",
       "    </tr>\n",
       "  </tbody>\n",
       "</table>\n",
       "</div>"
      ],
      "text/plain": [
       "        frequency     recency           T  monetary_value\n",
       "count  284.000000  284.000000  284.000000      284.000000\n",
       "mean     4.890845    7.061602   18.763956       78.276456\n",
       "std      6.682506    8.301244    6.718018      212.572188\n",
       "min      0.000000    0.000000    1.018501        0.000000\n",
       "25%      0.000000    0.000000   14.768270        0.000000\n",
       "50%      2.000000    3.022649   18.957268       30.316667\n",
       "75%      7.250000   12.977679   25.002567       73.249803\n",
       "max     27.000000   27.006715   27.006715     2812.000000"
      ]
     },
     "execution_count": 259,
     "metadata": {},
     "output_type": "execute_result"
    }
   ],
   "source": [
    "summary.describe()"
   ]
  },
  {
   "cell_type": "code",
   "execution_count": 260,
   "metadata": {},
   "outputs": [
    {
     "data": {
      "text/plain": [
       "(284, 4)"
      ]
     },
     "execution_count": 260,
     "metadata": {},
     "output_type": "execute_result"
    }
   ],
   "source": [
    "summary.shape"
   ]
  },
  {
   "cell_type": "code",
   "execution_count": 261,
   "metadata": {},
   "outputs": [
    {
     "data": {
      "text/plain": [
       "Index(['frequency', 'recency', 'T', 'monetary_value'], dtype='object')"
      ]
     },
     "execution_count": 261,
     "metadata": {},
     "output_type": "execute_result"
    }
   ],
   "source": [
    "summary.columns"
   ]
  },
  {
   "cell_type": "code",
   "execution_count": 262,
   "metadata": {},
   "outputs": [
    {
     "data": {
      "text/plain": [
       "customerId\n",
       "1    120\n",
       "2     22\n",
       "3     23\n",
       "5     30\n",
       "6    522\n",
       "Name: monetary_value, dtype: int32"
      ]
     },
     "execution_count": 262,
     "metadata": {},
     "output_type": "execute_result"
    }
   ],
   "source": [
    "summary['monetary_value'].astype(int).head()"
   ]
  },
  {
   "cell_type": "markdown",
   "metadata": {},
   "source": [
    "# BG/NBD model"
   ]
  },
  {
   "cell_type": "code",
   "execution_count": 263,
   "metadata": {},
   "outputs": [
    {
     "name": "stdout",
     "output_type": "stream",
     "text": [
      "<lifetimes.BetaGeoFitter: fitted with 284 subjects, a: 0.54, alpha: 1.19, b: 3.46, r: 0.49>\n"
     ]
    }
   ],
   "source": [
    "from lifetimes import BetaGeoFitter\n",
    "\n",
    "bgf = BetaGeoFitter(penalizer_coef=0.0)\n",
    "bgf.fit(summary['frequency'], summary['recency'], summary['T'])\n",
    "print(bgf)"
   ]
  },
  {
   "cell_type": "code",
   "execution_count": 264,
   "metadata": {},
   "outputs": [
    {
     "data": {
      "text/html": [
       "<div>\n",
       "<style scoped>\n",
       "    .dataframe tbody tr th:only-of-type {\n",
       "        vertical-align: middle;\n",
       "    }\n",
       "\n",
       "    .dataframe tbody tr th {\n",
       "        vertical-align: top;\n",
       "    }\n",
       "\n",
       "    .dataframe thead th {\n",
       "        text-align: right;\n",
       "    }\n",
       "</style>\n",
       "<table border=\"1\" class=\"dataframe\">\n",
       "  <thead>\n",
       "    <tr style=\"text-align: right;\">\n",
       "      <th></th>\n",
       "      <th>coef</th>\n",
       "      <th>se(coef)</th>\n",
       "      <th>lower 95% bound</th>\n",
       "      <th>upper 95% bound</th>\n",
       "    </tr>\n",
       "  </thead>\n",
       "  <tbody>\n",
       "    <tr>\n",
       "      <td>r</td>\n",
       "      <td>0.490890</td>\n",
       "      <td>0.052593</td>\n",
       "      <td>0.387807</td>\n",
       "      <td>0.593973</td>\n",
       "    </tr>\n",
       "    <tr>\n",
       "      <td>alpha</td>\n",
       "      <td>1.186714</td>\n",
       "      <td>0.171985</td>\n",
       "      <td>0.849623</td>\n",
       "      <td>1.523804</td>\n",
       "    </tr>\n",
       "    <tr>\n",
       "      <td>a</td>\n",
       "      <td>0.538189</td>\n",
       "      <td>0.164979</td>\n",
       "      <td>0.214830</td>\n",
       "      <td>0.861548</td>\n",
       "    </tr>\n",
       "    <tr>\n",
       "      <td>b</td>\n",
       "      <td>3.461991</td>\n",
       "      <td>1.646035</td>\n",
       "      <td>0.235762</td>\n",
       "      <td>6.688219</td>\n",
       "    </tr>\n",
       "  </tbody>\n",
       "</table>\n",
       "</div>"
      ],
      "text/plain": [
       "           coef  se(coef)  lower 95% bound  upper 95% bound\n",
       "r      0.490890  0.052593         0.387807         0.593973\n",
       "alpha  1.186714  0.171985         0.849623         1.523804\n",
       "a      0.538189  0.164979         0.214830         0.861548\n",
       "b      3.461991  1.646035         0.235762         6.688219"
      ]
     },
     "execution_count": 264,
     "metadata": {},
     "output_type": "execute_result"
    }
   ],
   "source": [
    "bgf.summary"
   ]
  },
  {
   "cell_type": "markdown",
   "metadata": {},
   "source": [
    "## Frequency/Recency Matrix"
   ]
  },
  {
   "cell_type": "code",
   "execution_count": 265,
   "metadata": {},
   "outputs": [
    {
     "data": {
      "image/png": "[encoded data removed]",
      "text/plain": [
       "<Figure size 720x720 with 2 Axes>"
      ]
     },
     "metadata": {
      "needs_background": "light"
     },
     "output_type": "display_data"
    }
   ],
   "source": [
    "from lifetimes.plotting import plot_frequency_recency_matrix\n",
    "import matplotlib.pyplot as plt\n",
    "\n",
    "plt.rcParams['figure.figsize']= [10,10]\n",
    "\n",
    "plot_frequency_recency_matrix(bgf,title=\"\");"
   ]
  },
  {
   "cell_type": "markdown",
   "metadata": {},
   "source": [
    "A customer that bought more than 60 times and the last purchase was when they were 140 months are the best customers. The tail also show that a customer that bought more than 10 times and with a age of 20 buys infrequently but he might buy again."
   ]
  },
  {
   "cell_type": "markdown",
   "metadata": {},
   "source": [
    "## Customer probability of being alive"
   ]
  },
  {
   "cell_type": "code",
   "execution_count": 266,
   "metadata": {},
   "outputs": [
    {
     "data": {
      "image/png": "[encoded data removed]",
      "text/plain": [
       "<Figure size 720x720 with 2 Axes>"
      ]
     },
     "metadata": {
      "needs_background": "light"
     },
     "output_type": "display_data"
    }
   ],
   "source": [
    "from lifetimes.plotting import plot_probability_alive_matrix\n",
    "\n",
    "plot_probability_alive_matrix(bgf,title=\"\");"
   ]
  },
  {
   "cell_type": "markdown",
   "metadata": {},
   "source": [
    "Probability of a customer being alive in non-contractual settings considering historical purchase data. Hot zone best customers. Customers with higher probabilities to buy again are the customers with a tail starting near the age of 5 months (time period between first purchase and last purchase). Customer with repeated purchases more than 15 and less 20 months have lower probabilities of being alive."
   ]
  },
  {
   "cell_type": "markdown",
   "metadata": {},
   "source": [
    "## Rank the customers"
   ]
  },
  {
   "cell_type": "markdown",
   "metadata": {},
   "source": [
    "Predicted purchases considering an month as time unit to 12 months"
   ]
  },
  {
   "cell_type": "code",
   "execution_count": 267,
   "metadata": {},
   "outputs": [
    {
     "data": {
      "text/html": [
       "<div>\n",
       "<style scoped>\n",
       "    .dataframe tbody tr th:only-of-type {\n",
       "        vertical-align: middle;\n",
       "    }\n",
       "\n",
       "    .dataframe tbody tr th {\n",
       "        vertical-align: top;\n",
       "    }\n",
       "\n",
       "    .dataframe thead th {\n",
       "        text-align: right;\n",
       "    }\n",
       "</style>\n",
       "<table border=\"1\" class=\"dataframe\">\n",
       "  <thead>\n",
       "    <tr style=\"text-align: right;\">\n",
       "      <th></th>\n",
       "      <th>frequency</th>\n",
       "      <th>recency</th>\n",
       "      <th>T</th>\n",
       "      <th>monetary_value</th>\n",
       "      <th>predicted_purchases</th>\n",
       "    </tr>\n",
       "    <tr>\n",
       "      <th>customerId</th>\n",
       "      <th></th>\n",
       "      <th></th>\n",
       "      <th></th>\n",
       "      <th></th>\n",
       "      <th></th>\n",
       "    </tr>\n",
       "  </thead>\n",
       "  <tbody>\n",
       "    <tr>\n",
       "      <td>92</td>\n",
       "      <td>23.0</td>\n",
       "      <td>22.965564</td>\n",
       "      <td>23.984065</td>\n",
       "      <td>244.800000</td>\n",
       "      <td>9.589603</td>\n",
       "    </tr>\n",
       "    <tr>\n",
       "      <td>85</td>\n",
       "      <td>23.0</td>\n",
       "      <td>22.965564</td>\n",
       "      <td>23.984065</td>\n",
       "      <td>865.397826</td>\n",
       "      <td>9.589603</td>\n",
       "    </tr>\n",
       "    <tr>\n",
       "      <td>6057</td>\n",
       "      <td>15.0</td>\n",
       "      <td>15.014682</td>\n",
       "      <td>15.014682</td>\n",
       "      <td>110.072667</td>\n",
       "      <td>9.662518</td>\n",
       "    </tr>\n",
       "    <tr>\n",
       "      <td>6053</td>\n",
       "      <td>15.0</td>\n",
       "      <td>15.014682</td>\n",
       "      <td>15.014682</td>\n",
       "      <td>324.835333</td>\n",
       "      <td>9.662518</td>\n",
       "    </tr>\n",
       "    <tr>\n",
       "      <td>6046</td>\n",
       "      <td>16.0</td>\n",
       "      <td>16.033183</td>\n",
       "      <td>16.033183</td>\n",
       "      <td>91.921875</td>\n",
       "      <td>9.753373</td>\n",
       "    </tr>\n",
       "    <tr>\n",
       "      <td>6031</td>\n",
       "      <td>17.0</td>\n",
       "      <td>17.018830</td>\n",
       "      <td>17.018830</td>\n",
       "      <td>107.545882</td>\n",
       "      <td>9.852382</td>\n",
       "    </tr>\n",
       "    <tr>\n",
       "      <td>6014</td>\n",
       "      <td>19.0</td>\n",
       "      <td>18.957268</td>\n",
       "      <td>18.957268</td>\n",
       "      <td>55.294737</td>\n",
       "      <td>10.042103</td>\n",
       "    </tr>\n",
       "    <tr>\n",
       "      <td>14</td>\n",
       "      <td>26.0</td>\n",
       "      <td>27.006715</td>\n",
       "      <td>27.006715</td>\n",
       "      <td>60.951923</td>\n",
       "      <td>10.092086</td>\n",
       "    </tr>\n",
       "    <tr>\n",
       "      <td>100</td>\n",
       "      <td>23.0</td>\n",
       "      <td>22.998419</td>\n",
       "      <td>22.998419</td>\n",
       "      <td>65.253913</td>\n",
       "      <td>10.282090</td>\n",
       "    </tr>\n",
       "    <tr>\n",
       "      <td>40</td>\n",
       "      <td>27.0</td>\n",
       "      <td>27.006715</td>\n",
       "      <td>27.006715</td>\n",
       "      <td>135.106667</td>\n",
       "      <td>10.477113</td>\n",
       "    </tr>\n",
       "  </tbody>\n",
       "</table>\n",
       "</div>"
      ],
      "text/plain": [
       "            frequency    recency          T  monetary_value  \\\n",
       "customerId                                                    \n",
       "92               23.0  22.965564  23.984065      244.800000   \n",
       "85               23.0  22.965564  23.984065      865.397826   \n",
       "6057             15.0  15.014682  15.014682      110.072667   \n",
       "6053             15.0  15.014682  15.014682      324.835333   \n",
       "6046             16.0  16.033183  16.033183       91.921875   \n",
       "6031             17.0  17.018830  17.018830      107.545882   \n",
       "6014             19.0  18.957268  18.957268       55.294737   \n",
       "14               26.0  27.006715  27.006715       60.951923   \n",
       "100              23.0  22.998419  22.998419       65.253913   \n",
       "40               27.0  27.006715  27.006715      135.106667   \n",
       "\n",
       "            predicted_purchases  \n",
       "customerId                       \n",
       "92                     9.589603  \n",
       "85                     9.589603  \n",
       "6057                   9.662518  \n",
       "6053                   9.662518  \n",
       "6046                   9.753373  \n",
       "6031                   9.852382  \n",
       "6014                  10.042103  \n",
       "14                    10.092086  \n",
       "100                   10.282090  \n",
       "40                    10.477113  "
      ]
     },
     "execution_count": 267,
     "metadata": {},
     "output_type": "execute_result"
    }
   ],
   "source": [
    "t=12\n",
    "summary['predicted_purchases'] = bgf.conditional_expected_number_of_purchases_up_to_time(t, summary['frequency'], summary['recency'], \n",
    "                                                        summary['T'])\n",
    "summary.sort_values(by='predicted_purchases').tail(10)"
   ]
  },
  {
   "cell_type": "markdown",
   "metadata": {},
   "source": [
    "## Model fit"
   ]
  },
  {
   "cell_type": "code",
   "execution_count": 268,
   "metadata": {},
   "outputs": [
    {
     "data": {
      "image/png": "[encoded data removed]",
      "text/plain": [
       "<Figure size 864x216 with 1 Axes>"
      ]
     },
     "metadata": {
      "needs_background": "light"
     },
     "output_type": "display_data"
    }
   ],
   "source": [
    "from lifetimes.plotting import plot_period_transactions\n",
    "plt.rcParams['figure.figsize']= [12,3]\n",
    "\n",
    "plot_period_transactions(bgf);"
   ]
  },
  {
   "cell_type": "code",
   "execution_count": 269,
   "metadata": {},
   "outputs": [],
   "source": [
    "from lifetimes.utils import calibration_and_holdout_data\n",
    "\n",
    "summary_cal_holdout = calibration_and_holdout_data(df, 'customerId', 'date',calibration_period_end='2019-03-31',\n",
    "                                                   observation_period_end='2019-09-12' )"
   ]
  },
  {
   "cell_type": "code",
   "execution_count": 270,
   "metadata": {},
   "outputs": [
    {
     "data": {
      "text/plain": [
       "Timestamp('2017-06-07 00:00:00')"
      ]
     },
     "execution_count": 270,
     "metadata": {},
     "output_type": "execute_result"
    }
   ],
   "source": [
    "df.date.min()"
   ]
  },
  {
   "cell_type": "code",
   "execution_count": 271,
   "metadata": {},
   "outputs": [
    {
     "data": {
      "text/plain": [
       "Timestamp('2019-09-11 00:00:00')"
      ]
     },
     "execution_count": 271,
     "metadata": {},
     "output_type": "execute_result"
    }
   ],
   "source": [
    "df.date.max()"
   ]
  },
  {
   "cell_type": "code",
   "execution_count": 272,
   "metadata": {},
   "outputs": [
    {
     "data": {
      "text/html": [
       "<div>\n",
       "<style scoped>\n",
       "    .dataframe tbody tr th:only-of-type {\n",
       "        vertical-align: middle;\n",
       "    }\n",
       "\n",
       "    .dataframe tbody tr th {\n",
       "        vertical-align: top;\n",
       "    }\n",
       "\n",
       "    .dataframe thead th {\n",
       "        text-align: right;\n",
       "    }\n",
       "</style>\n",
       "<table border=\"1\" class=\"dataframe\">\n",
       "  <thead>\n",
       "    <tr style=\"text-align: right;\">\n",
       "      <th></th>\n",
       "      <th>frequency_cal</th>\n",
       "      <th>recency_cal</th>\n",
       "      <th>T_cal</th>\n",
       "      <th>frequency_holdout</th>\n",
       "      <th>duration_holdout</th>\n",
       "    </tr>\n",
       "    <tr>\n",
       "      <th>customerId</th>\n",
       "      <th></th>\n",
       "      <th></th>\n",
       "      <th></th>\n",
       "      <th></th>\n",
       "      <th></th>\n",
       "    </tr>\n",
       "  </thead>\n",
       "  <tbody>\n",
       "    <tr>\n",
       "      <td>1</td>\n",
       "      <td>27.0</td>\n",
       "      <td>658.0</td>\n",
       "      <td>662.0</td>\n",
       "      <td>18.0</td>\n",
       "      <td>165</td>\n",
       "    </tr>\n",
       "    <tr>\n",
       "      <td>2</td>\n",
       "      <td>2.0</td>\n",
       "      <td>219.0</td>\n",
       "      <td>662.0</td>\n",
       "      <td>0.0</td>\n",
       "      <td>165</td>\n",
       "    </tr>\n",
       "    <tr>\n",
       "      <td>3</td>\n",
       "      <td>15.0</td>\n",
       "      <td>404.0</td>\n",
       "      <td>662.0</td>\n",
       "      <td>0.0</td>\n",
       "      <td>165</td>\n",
       "    </tr>\n",
       "    <tr>\n",
       "      <td>5</td>\n",
       "      <td>9.0</td>\n",
       "      <td>107.0</td>\n",
       "      <td>662.0</td>\n",
       "      <td>0.0</td>\n",
       "      <td>165</td>\n",
       "    </tr>\n",
       "    <tr>\n",
       "      <td>6</td>\n",
       "      <td>26.0</td>\n",
       "      <td>656.0</td>\n",
       "      <td>662.0</td>\n",
       "      <td>23.0</td>\n",
       "      <td>165</td>\n",
       "    </tr>\n",
       "  </tbody>\n",
       "</table>\n",
       "</div>"
      ],
      "text/plain": [
       "            frequency_cal  recency_cal  T_cal  frequency_holdout  \\\n",
       "customerId                                                         \n",
       "1                    27.0        658.0  662.0               18.0   \n",
       "2                     2.0        219.0  662.0                0.0   \n",
       "3                    15.0        404.0  662.0                0.0   \n",
       "5                     9.0        107.0  662.0                0.0   \n",
       "6                    26.0        656.0  662.0               23.0   \n",
       "\n",
       "            duration_holdout  \n",
       "customerId                    \n",
       "1                        165  \n",
       "2                        165  \n",
       "3                        165  \n",
       "5                        165  \n",
       "6                        165  "
      ]
     },
     "execution_count": 272,
     "metadata": {},
     "output_type": "execute_result"
    }
   ],
   "source": [
    "summary_cal_holdout.head()"
   ]
  },
  {
   "cell_type": "code",
   "execution_count": 273,
   "metadata": {},
   "outputs": [
    {
     "data": {
      "image/png": "[encoded data removed]",
      "text/plain": [
       "<Figure size 864x216 with 1 Axes>"
      ]
     },
     "metadata": {
      "needs_background": "light"
     },
     "output_type": "display_data"
    }
   ],
   "source": [
    "from lifetimes.plotting import plot_calibration_purchases_vs_holdout_purchases\n",
    "\n",
    "bgf.fit(summary_cal_holdout['frequency_cal'], summary_cal_holdout['recency_cal'], summary_cal_holdout['T_cal'])\n",
    "plot_calibration_purchases_vs_holdout_purchases(bgf, summary_cal_holdout,title=\"\");"
   ]
  },
  {
   "cell_type": "markdown",
   "metadata": {},
   "source": [
    "## Customer predictions"
   ]
  },
  {
   "cell_type": "code",
   "execution_count": 274,
   "metadata": {},
   "outputs": [
    {
     "data": {
      "text/html": [
       "<div>\n",
       "<style scoped>\n",
       "    .dataframe tbody tr th:only-of-type {\n",
       "        vertical-align: middle;\n",
       "    }\n",
       "\n",
       "    .dataframe tbody tr th {\n",
       "        vertical-align: top;\n",
       "    }\n",
       "\n",
       "    .dataframe thead th {\n",
       "        text-align: right;\n",
       "    }\n",
       "</style>\n",
       "<table border=\"1\" class=\"dataframe\">\n",
       "  <thead>\n",
       "    <tr style=\"text-align: right;\">\n",
       "      <th></th>\n",
       "      <th>frequency</th>\n",
       "      <th>recency</th>\n",
       "      <th>T</th>\n",
       "      <th>monetary_value</th>\n",
       "      <th>predicted_purchases</th>\n",
       "    </tr>\n",
       "    <tr>\n",
       "      <th>customerId</th>\n",
       "      <th></th>\n",
       "      <th></th>\n",
       "      <th></th>\n",
       "      <th></th>\n",
       "      <th></th>\n",
       "    </tr>\n",
       "  </thead>\n",
       "  <tbody>\n",
       "    <tr>\n",
       "      <td>1</td>\n",
       "      <td>17.0</td>\n",
       "      <td>27.006715</td>\n",
       "      <td>27.006715</td>\n",
       "      <td>120.438235</td>\n",
       "      <td>6.628143</td>\n",
       "    </tr>\n",
       "    <tr>\n",
       "      <td>2</td>\n",
       "      <td>2.0</td>\n",
       "      <td>7.030945</td>\n",
       "      <td>27.006715</td>\n",
       "      <td>22.480000</td>\n",
       "      <td>0.277178</td>\n",
       "    </tr>\n",
       "    <tr>\n",
       "      <td>3</td>\n",
       "      <td>12.0</td>\n",
       "      <td>12.977679</td>\n",
       "      <td>27.006715</td>\n",
       "      <td>23.946667</td>\n",
       "      <td>0.024071</td>\n",
       "    </tr>\n",
       "    <tr>\n",
       "      <td>5</td>\n",
       "      <td>3.0</td>\n",
       "      <td>3.022649</td>\n",
       "      <td>27.006715</td>\n",
       "      <td>30.600000</td>\n",
       "      <td>0.018222</td>\n",
       "    </tr>\n",
       "    <tr>\n",
       "      <td>6</td>\n",
       "      <td>14.0</td>\n",
       "      <td>27.006715</td>\n",
       "      <td>27.006715</td>\n",
       "      <td>522.901429</td>\n",
       "      <td>5.474433</td>\n",
       "    </tr>\n",
       "    <tr>\n",
       "      <td>7</td>\n",
       "      <td>18.0</td>\n",
       "      <td>18.004476</td>\n",
       "      <td>27.006715</td>\n",
       "      <td>30.033333</td>\n",
       "      <td>0.216322</td>\n",
       "    </tr>\n",
       "    <tr>\n",
       "      <td>8</td>\n",
       "      <td>23.0</td>\n",
       "      <td>25.988213</td>\n",
       "      <td>27.006715</td>\n",
       "      <td>32.710870</td>\n",
       "      <td>8.690088</td>\n",
       "    </tr>\n",
       "    <tr>\n",
       "      <td>9</td>\n",
       "      <td>6.0</td>\n",
       "      <td>23.984065</td>\n",
       "      <td>27.006715</td>\n",
       "      <td>88.353333</td>\n",
       "      <td>2.258805</td>\n",
       "    </tr>\n",
       "    <tr>\n",
       "      <td>10</td>\n",
       "      <td>16.0</td>\n",
       "      <td>27.006715</td>\n",
       "      <td>27.006715</td>\n",
       "      <td>124.520000</td>\n",
       "      <td>6.243492</td>\n",
       "    </tr>\n",
       "    <tr>\n",
       "      <td>11</td>\n",
       "      <td>2.0</td>\n",
       "      <td>3.022649</td>\n",
       "      <td>27.006715</td>\n",
       "      <td>89.100000</td>\n",
       "      <td>0.067597</td>\n",
       "    </tr>\n",
       "  </tbody>\n",
       "</table>\n",
       "</div>"
      ],
      "text/plain": [
       "            frequency    recency          T  monetary_value  \\\n",
       "customerId                                                    \n",
       "1                17.0  27.006715  27.006715      120.438235   \n",
       "2                 2.0   7.030945  27.006715       22.480000   \n",
       "3                12.0  12.977679  27.006715       23.946667   \n",
       "5                 3.0   3.022649  27.006715       30.600000   \n",
       "6                14.0  27.006715  27.006715      522.901429   \n",
       "7                18.0  18.004476  27.006715       30.033333   \n",
       "8                23.0  25.988213  27.006715       32.710870   \n",
       "9                 6.0  23.984065  27.006715       88.353333   \n",
       "10               16.0  27.006715  27.006715      124.520000   \n",
       "11                2.0   3.022649  27.006715       89.100000   \n",
       "\n",
       "            predicted_purchases  \n",
       "customerId                       \n",
       "1                      6.628143  \n",
       "2                      0.277178  \n",
       "3                      0.024071  \n",
       "5                      0.018222  \n",
       "6                      5.474433  \n",
       "7                      0.216322  \n",
       "8                      8.690088  \n",
       "9                      2.258805  \n",
       "10                     6.243492  \n",
       "11                     0.067597  "
      ]
     },
     "execution_count": 274,
     "metadata": {},
     "output_type": "execute_result"
    }
   ],
   "source": [
    "summary.head(10)"
   ]
  },
  {
   "cell_type": "code",
   "execution_count": 275,
   "metadata": {},
   "outputs": [
    {
     "data": {
      "text/html": [
       "<div>\n",
       "<style scoped>\n",
       "    .dataframe tbody tr th:only-of-type {\n",
       "        vertical-align: middle;\n",
       "    }\n",
       "\n",
       "    .dataframe tbody tr th {\n",
       "        vertical-align: top;\n",
       "    }\n",
       "\n",
       "    .dataframe thead th {\n",
       "        text-align: right;\n",
       "    }\n",
       "</style>\n",
       "<table border=\"1\" class=\"dataframe\">\n",
       "  <thead>\n",
       "    <tr style=\"text-align: right;\">\n",
       "      <th></th>\n",
       "      <th>frequency</th>\n",
       "      <th>recency</th>\n",
       "      <th>T</th>\n",
       "      <th>monetary_value</th>\n",
       "      <th>predicted_purchases</th>\n",
       "    </tr>\n",
       "  </thead>\n",
       "  <tbody>\n",
       "    <tr>\n",
       "      <td>count</td>\n",
       "      <td>284.000000</td>\n",
       "      <td>284.000000</td>\n",
       "      <td>284.000000</td>\n",
       "      <td>284.000000</td>\n",
       "      <td>284.000000</td>\n",
       "    </tr>\n",
       "    <tr>\n",
       "      <td>mean</td>\n",
       "      <td>4.890845</td>\n",
       "      <td>7.061602</td>\n",
       "      <td>18.763956</td>\n",
       "      <td>78.276456</td>\n",
       "      <td>1.924483</td>\n",
       "    </tr>\n",
       "    <tr>\n",
       "      <td>std</td>\n",
       "      <td>6.682506</td>\n",
       "      <td>8.301244</td>\n",
       "      <td>6.718018</td>\n",
       "      <td>212.572188</td>\n",
       "      <td>2.991001</td>\n",
       "    </tr>\n",
       "    <tr>\n",
       "      <td>min</td>\n",
       "      <td>0.000000</td>\n",
       "      <td>0.000000</td>\n",
       "      <td>1.018501</td>\n",
       "      <td>0.000000</td>\n",
       "      <td>0.007139</td>\n",
       "    </tr>\n",
       "    <tr>\n",
       "      <td>25%</td>\n",
       "      <td>0.000000</td>\n",
       "      <td>0.000000</td>\n",
       "      <td>14.768270</td>\n",
       "      <td>0.000000</td>\n",
       "      <td>0.207862</td>\n",
       "    </tr>\n",
       "    <tr>\n",
       "      <td>50%</td>\n",
       "      <td>2.000000</td>\n",
       "      <td>3.022649</td>\n",
       "      <td>18.957268</td>\n",
       "      <td>30.316667</td>\n",
       "      <td>0.361355</td>\n",
       "    </tr>\n",
       "    <tr>\n",
       "      <td>75%</td>\n",
       "      <td>7.250000</td>\n",
       "      <td>12.977679</td>\n",
       "      <td>25.002567</td>\n",
       "      <td>73.249803</td>\n",
       "      <td>1.821557</td>\n",
       "    </tr>\n",
       "    <tr>\n",
       "      <td>max</td>\n",
       "      <td>27.000000</td>\n",
       "      <td>27.006715</td>\n",
       "      <td>27.006715</td>\n",
       "      <td>2812.000000</td>\n",
       "      <td>10.477113</td>\n",
       "    </tr>\n",
       "  </tbody>\n",
       "</table>\n",
       "</div>"
      ],
      "text/plain": [
       "        frequency     recency           T  monetary_value  predicted_purchases\n",
       "count  284.000000  284.000000  284.000000      284.000000           284.000000\n",
       "mean     4.890845    7.061602   18.763956       78.276456             1.924483\n",
       "std      6.682506    8.301244    6.718018      212.572188             2.991001\n",
       "min      0.000000    0.000000    1.018501        0.000000             0.007139\n",
       "25%      0.000000    0.000000   14.768270        0.000000             0.207862\n",
       "50%      2.000000    3.022649   18.957268       30.316667             0.361355\n",
       "75%      7.250000   12.977679   25.002567       73.249803             1.821557\n",
       "max     27.000000   27.006715   27.006715     2812.000000            10.477113"
      ]
     },
     "execution_count": 275,
     "metadata": {},
     "output_type": "execute_result"
    }
   ],
   "source": [
    "summary.describe()"
   ]
  },
  {
   "cell_type": "code",
   "execution_count": 276,
   "metadata": {},
   "outputs": [
    {
     "data": {
      "text/plain": [
       "frequency               2.000000\n",
       "recency                 3.022649\n",
       "T                      27.006715\n",
       "monetary_value         89.100000\n",
       "predicted_purchases     0.067597\n",
       "Name: 11, dtype: float64"
      ]
     },
     "execution_count": 276,
     "metadata": {},
     "output_type": "execute_result"
    }
   ],
   "source": [
    "# Vamos prever o valor com o cliente número 11 está na posição 9\n",
    "summary.iloc[9]"
   ]
  },
  {
   "cell_type": "code",
   "execution_count": 277,
   "metadata": {},
   "outputs": [
    {
     "data": {
      "text/plain": [
       "0.8426420108103658"
      ]
     },
     "execution_count": 277,
     "metadata": {},
     "output_type": "execute_result"
    }
   ],
   "source": [
    "t = 12 #predict purchases in 10 periods\n",
    "individual = summary.iloc[20]\n",
    "# The below function is an alias to `bfg.conditional_expected_number_of_purchases_up_to_time`\n",
    "bgf.predict(t, individual['frequency'], individual['recency'], individual['T'])\n",
    "# 0.0576511"
   ]
  },
  {
   "cell_type": "markdown",
   "metadata": {},
   "source": [
    "## Customer history probability"
   ]
  },
  {
   "cell_type": "code",
   "execution_count": 278,
   "metadata": {},
   "outputs": [
    {
     "data": {
      "text/html": [
       "<div>\n",
       "<style scoped>\n",
       "    .dataframe tbody tr th:only-of-type {\n",
       "        vertical-align: middle;\n",
       "    }\n",
       "\n",
       "    .dataframe tbody tr th {\n",
       "        vertical-align: top;\n",
       "    }\n",
       "\n",
       "    .dataframe thead th {\n",
       "        text-align: right;\n",
       "    }\n",
       "</style>\n",
       "<table border=\"1\" class=\"dataframe\">\n",
       "  <thead>\n",
       "    <tr style=\"text-align: right;\">\n",
       "      <th></th>\n",
       "      <th>index</th>\n",
       "      <th>customerId</th>\n",
       "      <th>date</th>\n",
       "      <th>value</th>\n",
       "      <th>IVA</th>\n",
       "      <th>discountFinan</th>\n",
       "      <th>discountComer</th>\n",
       "      <th>valueWithIVA</th>\n",
       "    </tr>\n",
       "  </thead>\n",
       "  <tbody>\n",
       "    <tr>\n",
       "      <td>0</td>\n",
       "      <td>0</td>\n",
       "      <td>1</td>\n",
       "      <td>2017-06-07</td>\n",
       "      <td>118.14</td>\n",
       "      <td>17.40</td>\n",
       "      <td>0</td>\n",
       "      <td>0.0</td>\n",
       "      <td>135.54</td>\n",
       "    </tr>\n",
       "    <tr>\n",
       "      <td>1</td>\n",
       "      <td>1</td>\n",
       "      <td>1</td>\n",
       "      <td>2017-09-08</td>\n",
       "      <td>57.18</td>\n",
       "      <td>7.43</td>\n",
       "      <td>0</td>\n",
       "      <td>0.0</td>\n",
       "      <td>64.61</td>\n",
       "    </tr>\n",
       "    <tr>\n",
       "      <td>2</td>\n",
       "      <td>2</td>\n",
       "      <td>1</td>\n",
       "      <td>2018-02-27</td>\n",
       "      <td>40.50</td>\n",
       "      <td>5.27</td>\n",
       "      <td>0</td>\n",
       "      <td>0.0</td>\n",
       "      <td>45.77</td>\n",
       "    </tr>\n",
       "    <tr>\n",
       "      <td>3</td>\n",
       "      <td>3</td>\n",
       "      <td>1</td>\n",
       "      <td>2018-04-30</td>\n",
       "      <td>32.94</td>\n",
       "      <td>4.28</td>\n",
       "      <td>0</td>\n",
       "      <td>0.0</td>\n",
       "      <td>37.22</td>\n",
       "    </tr>\n",
       "    <tr>\n",
       "      <td>4</td>\n",
       "      <td>4</td>\n",
       "      <td>1</td>\n",
       "      <td>2018-06-06</td>\n",
       "      <td>30.60</td>\n",
       "      <td>7.04</td>\n",
       "      <td>0</td>\n",
       "      <td>0.0</td>\n",
       "      <td>37.64</td>\n",
       "    </tr>\n",
       "  </tbody>\n",
       "</table>\n",
       "</div>"
      ],
      "text/plain": [
       "   index  customerId       date   value    IVA  discountFinan  discountComer  \\\n",
       "0      0           1 2017-06-07  118.14  17.40              0            0.0   \n",
       "1      1           1 2017-09-08   57.18   7.43              0            0.0   \n",
       "2      2           1 2018-02-27   40.50   5.27              0            0.0   \n",
       "3      3           1 2018-04-30   32.94   4.28              0            0.0   \n",
       "4      4           1 2018-06-06   30.60   7.04              0            0.0   \n",
       "\n",
       "   valueWithIVA  \n",
       "0        135.54  \n",
       "1         64.61  \n",
       "2         45.77  \n",
       "3         37.22  \n",
       "4         37.64  "
      ]
     },
     "execution_count": 278,
     "metadata": {},
     "output_type": "execute_result"
    }
   ],
   "source": [
    "df.head()"
   ]
  },
  {
   "cell_type": "code",
   "execution_count": 279,
   "metadata": {},
   "outputs": [
    {
     "data": {
      "image/png": "[encoded data removed]",
      "text/plain": [
       "<Figure size 864x216 with 1 Axes>"
      ]
     },
     "metadata": {
      "needs_background": "light"
     },
     "output_type": "display_data"
    }
   ],
   "source": [
    "from lifetimes.plotting import plot_history_alive\n",
    "\n",
    "customerId = 3\n",
    "days_since_birth = 24 #the number of time units since the birth we want to draw the p_alive\n",
    "sp_trans = df.loc[df['customerId'] == customerId]\n",
    "plot_history_alive(bgf, days_since_birth, sp_trans, 'date',freq='M');"
   ]
  },
  {
   "cell_type": "code",
   "execution_count": 280,
   "metadata": {},
   "outputs": [
    {
     "data": {
      "text/plain": [
       "Index(['index', 'customerId', 'date', 'value', 'IVA', 'discountFinan',\n",
       "       'discountComer', 'valueWithIVA'],\n",
       "      dtype='object')"
      ]
     },
     "execution_count": 280,
     "metadata": {},
     "output_type": "execute_result"
    }
   ],
   "source": [
    "df.columns"
   ]
  },
  {
   "cell_type": "code",
   "execution_count": 281,
   "metadata": {},
   "outputs": [
    {
     "data": {
      "text/html": [
       "<div>\n",
       "<style scoped>\n",
       "    .dataframe tbody tr th:only-of-type {\n",
       "        vertical-align: middle;\n",
       "    }\n",
       "\n",
       "    .dataframe tbody tr th {\n",
       "        vertical-align: top;\n",
       "    }\n",
       "\n",
       "    .dataframe thead th {\n",
       "        text-align: right;\n",
       "    }\n",
       "</style>\n",
       "<table border=\"1\" class=\"dataframe\">\n",
       "  <thead>\n",
       "    <tr style=\"text-align: right;\">\n",
       "      <th></th>\n",
       "      <th>valueWithIVA</th>\n",
       "    </tr>\n",
       "  </thead>\n",
       "  <tbody>\n",
       "    <tr>\n",
       "      <td>sum</td>\n",
       "      <td>485.950000</td>\n",
       "    </tr>\n",
       "    <tr>\n",
       "      <td>count</td>\n",
       "      <td>17.000000</td>\n",
       "    </tr>\n",
       "    <tr>\n",
       "      <td>mean</td>\n",
       "      <td>28.585294</td>\n",
       "    </tr>\n",
       "    <tr>\n",
       "      <td>std</td>\n",
       "      <td>21.123103</td>\n",
       "    </tr>\n",
       "    <tr>\n",
       "      <td>min</td>\n",
       "      <td>6.760000</td>\n",
       "    </tr>\n",
       "    <tr>\n",
       "      <td>max</td>\n",
       "      <td>108.620000</td>\n",
       "    </tr>\n",
       "  </tbody>\n",
       "</table>\n",
       "</div>"
      ],
      "text/plain": [
       "       valueWithIVA\n",
       "sum      485.950000\n",
       "count     17.000000\n",
       "mean      28.585294\n",
       "std       21.123103\n",
       "min        6.760000\n",
       "max      108.620000"
      ]
     },
     "execution_count": 281,
     "metadata": {},
     "output_type": "execute_result"
    }
   ],
   "source": [
    "df.loc[df.customerId == 3].agg({'valueWithIVA':['sum','count','mean','std','min','max']})"
   ]
  },
  {
   "cell_type": "markdown",
   "metadata": {},
   "source": [
    "# Gamma-Gamma model estimating lifetime value"
   ]
  },
  {
   "cell_type": "code",
   "execution_count": 282,
   "metadata": {},
   "outputs": [
    {
     "data": {
      "text/html": [
       "<div>\n",
       "<style scoped>\n",
       "    .dataframe tbody tr th:only-of-type {\n",
       "        vertical-align: middle;\n",
       "    }\n",
       "\n",
       "    .dataframe tbody tr th {\n",
       "        vertical-align: top;\n",
       "    }\n",
       "\n",
       "    .dataframe thead th {\n",
       "        text-align: right;\n",
       "    }\n",
       "</style>\n",
       "<table border=\"1\" class=\"dataframe\">\n",
       "  <thead>\n",
       "    <tr style=\"text-align: right;\">\n",
       "      <th></th>\n",
       "      <th>frequency</th>\n",
       "      <th>recency</th>\n",
       "      <th>T</th>\n",
       "      <th>monetary_value</th>\n",
       "      <th>predicted_purchases</th>\n",
       "    </tr>\n",
       "    <tr>\n",
       "      <th>customerId</th>\n",
       "      <th></th>\n",
       "      <th></th>\n",
       "      <th></th>\n",
       "      <th></th>\n",
       "      <th></th>\n",
       "    </tr>\n",
       "  </thead>\n",
       "  <tbody>\n",
       "    <tr>\n",
       "      <td>1</td>\n",
       "      <td>17.0</td>\n",
       "      <td>27.006715</td>\n",
       "      <td>27.006715</td>\n",
       "      <td>120.438235</td>\n",
       "      <td>6.628143</td>\n",
       "    </tr>\n",
       "    <tr>\n",
       "      <td>2</td>\n",
       "      <td>2.0</td>\n",
       "      <td>7.030945</td>\n",
       "      <td>27.006715</td>\n",
       "      <td>22.480000</td>\n",
       "      <td>0.277178</td>\n",
       "    </tr>\n",
       "    <tr>\n",
       "      <td>3</td>\n",
       "      <td>12.0</td>\n",
       "      <td>12.977679</td>\n",
       "      <td>27.006715</td>\n",
       "      <td>23.946667</td>\n",
       "      <td>0.024071</td>\n",
       "    </tr>\n",
       "    <tr>\n",
       "      <td>5</td>\n",
       "      <td>3.0</td>\n",
       "      <td>3.022649</td>\n",
       "      <td>27.006715</td>\n",
       "      <td>30.600000</td>\n",
       "      <td>0.018222</td>\n",
       "    </tr>\n",
       "    <tr>\n",
       "      <td>6</td>\n",
       "      <td>14.0</td>\n",
       "      <td>27.006715</td>\n",
       "      <td>27.006715</td>\n",
       "      <td>522.901429</td>\n",
       "      <td>5.474433</td>\n",
       "    </tr>\n",
       "    <tr>\n",
       "      <td>7</td>\n",
       "      <td>18.0</td>\n",
       "      <td>18.004476</td>\n",
       "      <td>27.006715</td>\n",
       "      <td>30.033333</td>\n",
       "      <td>0.216322</td>\n",
       "    </tr>\n",
       "    <tr>\n",
       "      <td>8</td>\n",
       "      <td>23.0</td>\n",
       "      <td>25.988213</td>\n",
       "      <td>27.006715</td>\n",
       "      <td>32.710870</td>\n",
       "      <td>8.690088</td>\n",
       "    </tr>\n",
       "    <tr>\n",
       "      <td>9</td>\n",
       "      <td>6.0</td>\n",
       "      <td>23.984065</td>\n",
       "      <td>27.006715</td>\n",
       "      <td>88.353333</td>\n",
       "      <td>2.258805</td>\n",
       "    </tr>\n",
       "    <tr>\n",
       "      <td>10</td>\n",
       "      <td>16.0</td>\n",
       "      <td>27.006715</td>\n",
       "      <td>27.006715</td>\n",
       "      <td>124.520000</td>\n",
       "      <td>6.243492</td>\n",
       "    </tr>\n",
       "    <tr>\n",
       "      <td>11</td>\n",
       "      <td>2.0</td>\n",
       "      <td>3.022649</td>\n",
       "      <td>27.006715</td>\n",
       "      <td>89.100000</td>\n",
       "      <td>0.067597</td>\n",
       "    </tr>\n",
       "  </tbody>\n",
       "</table>\n",
       "</div>"
      ],
      "text/plain": [
       "            frequency    recency          T  monetary_value  \\\n",
       "customerId                                                    \n",
       "1                17.0  27.006715  27.006715      120.438235   \n",
       "2                 2.0   7.030945  27.006715       22.480000   \n",
       "3                12.0  12.977679  27.006715       23.946667   \n",
       "5                 3.0   3.022649  27.006715       30.600000   \n",
       "6                14.0  27.006715  27.006715      522.901429   \n",
       "7                18.0  18.004476  27.006715       30.033333   \n",
       "8                23.0  25.988213  27.006715       32.710870   \n",
       "9                 6.0  23.984065  27.006715       88.353333   \n",
       "10               16.0  27.006715  27.006715      124.520000   \n",
       "11                2.0   3.022649  27.006715       89.100000   \n",
       "\n",
       "            predicted_purchases  \n",
       "customerId                       \n",
       "1                      6.628143  \n",
       "2                      0.277178  \n",
       "3                      0.024071  \n",
       "5                      0.018222  \n",
       "6                      5.474433  \n",
       "7                      0.216322  \n",
       "8                      8.690088  \n",
       "9                      2.258805  \n",
       "10                     6.243492  \n",
       "11                     0.067597  "
      ]
     },
     "execution_count": 282,
     "metadata": {},
     "output_type": "execute_result"
    }
   ],
   "source": [
    "summary.head(10)"
   ]
  },
  {
   "cell_type": "markdown",
   "metadata": {},
   "source": [
    "## Gamma-Gamma independence assumption\n",
    "Assumes that there is no relationship between the monetary value and the purchase frequency. We will check if the Pearson correlation is close to 0.\n",
    "\n",
    "http://www.brucehardie.com/notes/025/ The Gamma-Gamma Model of Monetary Value.\n",
    "\n",
    "Peter S. Fader, Bruce G. S. Hardie, and Ka Lok Lee (2005), \"RFM and CLV: Using iso-value curves for customer base analysis\", Journal of Marketing Research, 42 (November), 415-430"
   ]
  },
  {
   "cell_type": "code",
   "execution_count": 283,
   "metadata": {},
   "outputs": [],
   "source": [
    "summary_ggf = summary.loc[(summary.frequency > 0) & (summary.monetary_value > 0)]"
   ]
  },
  {
   "cell_type": "code",
   "execution_count": 284,
   "metadata": {},
   "outputs": [
    {
     "data": {
      "text/plain": [
       "Index(['frequency', 'recency', 'T', 'monetary_value', 'predicted_purchases'], dtype='object')"
      ]
     },
     "execution_count": 284,
     "metadata": {},
     "output_type": "execute_result"
    }
   ],
   "source": [
    "summary_ggf.columns"
   ]
  },
  {
   "cell_type": "code",
   "execution_count": 285,
   "metadata": {},
   "outputs": [
    {
     "data": {
      "text/html": [
       "<div>\n",
       "<style scoped>\n",
       "    .dataframe tbody tr th:only-of-type {\n",
       "        vertical-align: middle;\n",
       "    }\n",
       "\n",
       "    .dataframe tbody tr th {\n",
       "        vertical-align: top;\n",
       "    }\n",
       "\n",
       "    .dataframe thead th {\n",
       "        text-align: right;\n",
       "    }\n",
       "</style>\n",
       "<table border=\"1\" class=\"dataframe\">\n",
       "  <thead>\n",
       "    <tr style=\"text-align: right;\">\n",
       "      <th></th>\n",
       "      <th>frequency</th>\n",
       "      <th>monetary_value</th>\n",
       "    </tr>\n",
       "  </thead>\n",
       "  <tbody>\n",
       "    <tr>\n",
       "      <td>frequency</td>\n",
       "      <td>1.000000</td>\n",
       "      <td>0.063136</td>\n",
       "    </tr>\n",
       "    <tr>\n",
       "      <td>monetary_value</td>\n",
       "      <td>0.063136</td>\n",
       "      <td>1.000000</td>\n",
       "    </tr>\n",
       "  </tbody>\n",
       "</table>\n",
       "</div>"
      ],
      "text/plain": [
       "                frequency  monetary_value\n",
       "frequency        1.000000        0.063136\n",
       "monetary_value   0.063136        1.000000"
      ]
     },
     "execution_count": 285,
     "metadata": {},
     "output_type": "execute_result"
    }
   ],
   "source": [
    "summary_ggf[['frequency','monetary_value']].corr()"
   ]
  },
  {
   "cell_type": "code",
   "execution_count": 286,
   "metadata": {},
   "outputs": [
    {
     "data": {
      "text/plain": [
       "<matplotlib.axes._subplots.AxesSubplot at 0x155a91a9a58>"
      ]
     },
     "execution_count": 286,
     "metadata": {},
     "output_type": "execute_result"
    },
    {
     "data": {
      "image/png": "[encoded data removed]",
      "text/plain": [
       "<Figure size 864x216 with 1 Axes>"
      ]
     },
     "metadata": {
      "needs_background": "light"
     },
     "output_type": "display_data"
    }
   ],
   "source": [
    "summary_ggf.monetary_value.hist()"
   ]
  },
  {
   "cell_type": "code",
   "execution_count": 287,
   "metadata": {},
   "outputs": [
    {
     "data": {
      "text/plain": [
       "<lifetimes.GammaGammaFitter: fitted with 188 subjects, p: 3.71, q: 1.64, v: 21.20>"
      ]
     },
     "execution_count": 287,
     "metadata": {},
     "output_type": "execute_result"
    }
   ],
   "source": [
    "from lifetimes import GammaGammaFitter\n",
    "\n",
    "ggf = GammaGammaFitter(penalizer_coef=0.0)\n",
    "ggf.fit(summary_ggf['frequency'],summary_ggf['monetary_value'])"
   ]
  },
  {
   "cell_type": "code",
   "execution_count": 288,
   "metadata": {},
   "outputs": [
    {
     "data": {
      "text/plain": [
       "customerId\n",
       "1     120.455855\n",
       "2      30.438143\n",
       "3      25.346632\n",
       "5      35.606548\n",
       "6     517.996575\n",
       "7      30.912995\n",
       "8      33.380687\n",
       "9      89.303988\n",
       "10    124.494926\n",
       "11     91.740605\n",
       "dtype: float64"
      ]
     },
     "execution_count": 288,
     "metadata": {},
     "output_type": "execute_result"
    }
   ],
   "source": [
    "ggf.conditional_expected_average_profit(summary_ggf['frequency'],summary_ggf['monetary_value']).head(10)"
   ]
  },
  {
   "cell_type": "code",
   "execution_count": 289,
   "metadata": {},
   "outputs": [
    {
     "data": {
      "text/plain": [
       "<lifetimes.BetaGeoFitter: fitted with 188 subjects, a: 0.45, alpha: 8.14, b: 1.76, r: 5.40>"
      ]
     },
     "execution_count": 289,
     "metadata": {},
     "output_type": "execute_result"
    }
   ],
   "source": [
    "bgf.fit(summary_ggf['frequency'], summary_ggf['recency'], summary_ggf['T'])"
   ]
  },
  {
   "cell_type": "code",
   "execution_count": 290,
   "metadata": {},
   "outputs": [
    {
     "data": {
      "text/plain": [
       "customerId\n",
       "1     11885.015401\n",
       "2        10.256615\n",
       "3         7.869748\n",
       "5         0.644359\n",
       "6     43547.721198\n",
       "7       130.330344\n",
       "8      4164.611855\n",
       "9      3590.318877\n",
       "10    11678.400147\n",
       "11        3.233172\n",
       "Name: clv, dtype: float64"
      ]
     },
     "execution_count": 290,
     "metadata": {},
     "output_type": "execute_result"
    }
   ],
   "source": [
    "bgf.fit(summary_ggf['frequency'], summary_ggf['recency'], summary_ggf['T'])\n",
    "\n",
    "ggf.customer_lifetime_value(\n",
    "    bgf, #the model to use to predict the number of future transactions\n",
    "    summary_ggf['frequency'],\n",
    "    summary_ggf['recency'],\n",
    "    summary_ggf['T'],\n",
    "    summary_ggf['monetary_value'],\n",
    "    time=12, # months\n",
    "    discount_rate=0.01 # monthly discount rate ~ 12.7% annually\n",
    ").head(10)"
   ]
  },
  {
   "cell_type": "markdown",
   "metadata": {},
   "source": [
    "Vamos criar um dataframe com as previsoes"
   ]
  },
  {
   "cell_type": "code",
   "execution_count": 291,
   "metadata": {},
   "outputs": [],
   "source": [
    "ggf_CLV = ggf.customer_lifetime_value(\n",
    "    bgf, #the model to use to predict the number of future transactions\n",
    "    summary_ggf['frequency'],\n",
    "    summary_ggf['recency'],\n",
    "    summary_ggf['T'],\n",
    "    summary_ggf['monetary_value'],\n",
    "    time=12, # months\n",
    "    discount_rate=0.01 # monthly discount rate ~ 12.7% annually\n",
    ")"
   ]
  },
  {
   "cell_type": "code",
   "execution_count": 292,
   "metadata": {},
   "outputs": [
    {
     "data": {
      "text/plain": [
       "customerId\n",
       "1     11885.015401\n",
       "2        10.256615\n",
       "3         7.869748\n",
       "5         0.644359\n",
       "6     43547.721198\n",
       "7       130.330344\n",
       "8      4164.611855\n",
       "9      3590.318877\n",
       "10    11678.400147\n",
       "11        3.233172\n",
       "Name: clv, dtype: float64"
      ]
     },
     "execution_count": 292,
     "metadata": {},
     "output_type": "execute_result"
    }
   ],
   "source": [
    "ggf_CLV.head(10)"
   ]
  },
  {
   "cell_type": "markdown",
   "metadata": {},
   "source": [
    "# Cluster calculations based in the CLV"
   ]
  },
  {
   "cell_type": "markdown",
   "metadata": {},
   "source": [
    "Juntar o valor previsto com quadro RFM e criar os clusters"
   ]
  },
  {
   "cell_type": "markdown",
   "metadata": {},
   "source": [
    "Alterar o código a partir daqui"
   ]
  },
  {
   "cell_type": "code",
   "execution_count": 293,
   "metadata": {},
   "outputs": [],
   "source": [
    "# transformar Series em dataframe \n",
    "ggf_CLV=pd.DataFrame(ggf_CLV)\n",
    "#ggf=pd.DataFrame(ggf)"
   ]
  },
  {
   "cell_type": "code",
   "execution_count": 294,
   "metadata": {},
   "outputs": [],
   "source": [
    "dadosTodos=pd.merge(summary,ggf_CLV, left_index=True, right_index=True)"
   ]
  },
  {
   "cell_type": "code",
   "execution_count": 295,
   "metadata": {},
   "outputs": [
    {
     "data": {
      "text/plain": [
       "(188, 6)"
      ]
     },
     "execution_count": 295,
     "metadata": {},
     "output_type": "execute_result"
    }
   ],
   "source": [
    "dadosTodos.shape"
   ]
  },
  {
   "cell_type": "code",
   "execution_count": 296,
   "metadata": {},
   "outputs": [
    {
     "data": {
      "text/html": [
       "<div>\n",
       "<style scoped>\n",
       "    .dataframe tbody tr th:only-of-type {\n",
       "        vertical-align: middle;\n",
       "    }\n",
       "\n",
       "    .dataframe tbody tr th {\n",
       "        vertical-align: top;\n",
       "    }\n",
       "\n",
       "    .dataframe thead th {\n",
       "        text-align: right;\n",
       "    }\n",
       "</style>\n",
       "<table border=\"1\" class=\"dataframe\">\n",
       "  <thead>\n",
       "    <tr style=\"text-align: right;\">\n",
       "      <th></th>\n",
       "      <th>customerId</th>\n",
       "      <th>frequency</th>\n",
       "      <th>recency</th>\n",
       "      <th>T</th>\n",
       "      <th>monetary_value</th>\n",
       "      <th>predicted_purchases</th>\n",
       "      <th>clv</th>\n",
       "    </tr>\n",
       "  </thead>\n",
       "  <tbody>\n",
       "    <tr>\n",
       "      <td>0</td>\n",
       "      <td>1</td>\n",
       "      <td>17.0</td>\n",
       "      <td>27.006715</td>\n",
       "      <td>27.006715</td>\n",
       "      <td>120.438235</td>\n",
       "      <td>6.628143</td>\n",
       "      <td>11885.015401</td>\n",
       "    </tr>\n",
       "    <tr>\n",
       "      <td>1</td>\n",
       "      <td>2</td>\n",
       "      <td>2.0</td>\n",
       "      <td>7.030945</td>\n",
       "      <td>27.006715</td>\n",
       "      <td>22.480000</td>\n",
       "      <td>0.277178</td>\n",
       "      <td>10.256615</td>\n",
       "    </tr>\n",
       "    <tr>\n",
       "      <td>2</td>\n",
       "      <td>3</td>\n",
       "      <td>12.0</td>\n",
       "      <td>12.977679</td>\n",
       "      <td>27.006715</td>\n",
       "      <td>23.946667</td>\n",
       "      <td>0.024071</td>\n",
       "      <td>7.869748</td>\n",
       "    </tr>\n",
       "    <tr>\n",
       "      <td>3</td>\n",
       "      <td>5</td>\n",
       "      <td>3.0</td>\n",
       "      <td>3.022649</td>\n",
       "      <td>27.006715</td>\n",
       "      <td>30.600000</td>\n",
       "      <td>0.018222</td>\n",
       "      <td>0.644359</td>\n",
       "    </tr>\n",
       "    <tr>\n",
       "      <td>4</td>\n",
       "      <td>6</td>\n",
       "      <td>14.0</td>\n",
       "      <td>27.006715</td>\n",
       "      <td>27.006715</td>\n",
       "      <td>522.901429</td>\n",
       "      <td>5.474433</td>\n",
       "      <td>43547.721198</td>\n",
       "    </tr>\n",
       "  </tbody>\n",
       "</table>\n",
       "</div>"
      ],
      "text/plain": [
       "   customerId  frequency    recency          T  monetary_value  \\\n",
       "0           1       17.0  27.006715  27.006715      120.438235   \n",
       "1           2        2.0   7.030945  27.006715       22.480000   \n",
       "2           3       12.0  12.977679  27.006715       23.946667   \n",
       "3           5        3.0   3.022649  27.006715       30.600000   \n",
       "4           6       14.0  27.006715  27.006715      522.901429   \n",
       "\n",
       "   predicted_purchases           clv  \n",
       "0             6.628143  11885.015401  \n",
       "1             0.277178     10.256615  \n",
       "2             0.024071      7.869748  \n",
       "3             0.018222      0.644359  \n",
       "4             5.474433  43547.721198  "
      ]
     },
     "execution_count": 296,
     "metadata": {},
     "output_type": "execute_result"
    }
   ],
   "source": [
    "dadosTodos.head().reset_index()"
   ]
  },
  {
   "cell_type": "code",
   "execution_count": 297,
   "metadata": {},
   "outputs": [],
   "source": [
    "X = dadosTodos.copy()"
   ]
  },
  {
   "cell_type": "markdown",
   "metadata": {},
   "source": [
    "Calcular o número ótimo de clusters"
   ]
  },
  {
   "cell_type": "markdown",
   "metadata": {},
   "source": [
    "## Using all variables RFM"
   ]
  },
  {
   "cell_type": "code",
   "execution_count": 298,
   "metadata": {},
   "outputs": [
    {
     "data": {
      "text/plain": [
       "Text(0, 0.5, 'Average distortion')"
      ]
     },
     "execution_count": 298,
     "metadata": {},
     "output_type": "execute_result"
    },
    {
     "data": {
      "image/png": "[encoded data removed]",
      "text/plain": [
       "<Figure size 864x216 with 1 Axes>"
      ]
     },
     "metadata": {
      "needs_background": "light"
     },
     "output_type": "display_data"
    }
   ],
   "source": [
    "from sklearn.cluster import KMeans\n",
    "from sklearn import preprocessing\n",
    "from scipy.spatial.distance import cdist\n",
    "import numpy as np\n",
    "#Finding optimal no. of clusters\n",
    "clusters=range(1,20)\n",
    "meanDistortions=[]\n",
    " \n",
    "for k in clusters:\n",
    "    model=KMeans(n_clusters=k)\n",
    "    model.fit(X)\n",
    "    prediction=model.predict(X)\n",
    "    meanDistortions.append(sum(np.min(cdist(X, model.cluster_centers_, 'euclidean'), axis=1)) / X.shape[0])\n",
    " \n",
    "#plt.cla()\n",
    "plt.plot(clusters, meanDistortions, 'bx-')\n",
    "plt.xlabel('k')\n",
    "plt.ylabel('Average distortion')\n",
    "#plt.title('Selecting k with the Elbow Method')"
   ]
  },
  {
   "cell_type": "markdown",
   "metadata": {},
   "source": [
    "QUantos clientes estáo em cada cluster"
   ]
  },
  {
   "cell_type": "code",
   "execution_count": 299,
   "metadata": {},
   "outputs": [
    {
     "name": "stdout",
     "output_type": "stream",
     "text": [
      "0    169\n",
      "2     17\n",
      "1      2\n",
      "Name: cluster, dtype: int64\n"
     ]
    }
   ],
   "source": [
    "cluster = KMeans(n_clusters=3)\n",
    "\n",
    "cluster.fit(X)\n",
    "X['cluster']=cluster.predict(X)\n",
    "print(X.cluster.value_counts())"
   ]
  },
  {
   "cell_type": "markdown",
   "metadata": {},
   "source": [
    "reduzir a duas dimensões para visualizar os clusters"
   ]
  },
  {
   "cell_type": "code",
   "execution_count": 300,
   "metadata": {},
   "outputs": [
    {
     "data": {
      "text/plain": [
       "Index(['frequency', 'recency', 'T', 'monetary_value', 'predicted_purchases',\n",
       "       'clv', 'cluster'],\n",
       "      dtype='object')"
      ]
     },
     "execution_count": 300,
     "metadata": {},
     "output_type": "execute_result"
    }
   ],
   "source": [
    "X.columns"
   ]
  },
  {
   "cell_type": "code",
   "execution_count": 301,
   "metadata": {},
   "outputs": [
    {
     "data": {
      "text/plain": [
       "27.0"
      ]
     },
     "execution_count": 301,
     "metadata": {},
     "output_type": "execute_result"
    }
   ],
   "source": [
    "X.iloc[:,0].max()"
   ]
  },
  {
   "cell_type": "code",
   "execution_count": 302,
   "metadata": {},
   "outputs": [
    {
     "data": {
      "image/png": "[encoded data removed]",
      "text/plain": [
       "<Figure size 936x288 with 1 Axes>"
      ]
     },
     "metadata": {
      "needs_background": "light"
     },
     "output_type": "display_data"
    }
   ],
   "source": [
    "from sklearn.decomposition import PCA\n",
    "\n",
    "plt.rcParams['figure.figsize'] = [13, 4]\n",
    "\n",
    "pca=PCA(n_components=2)\n",
    "X['X_pca']=pca.fit_transform(X)[:,0] #todas as linhas da primeira coluna com redução\n",
    "X['Y_pca']=pca.fit_transform(X)[:,1] #todas as linhas da segunda coluna com redução\n",
    "\n",
    "fig, ax = plt.subplots()\n",
    "for cluster in X.cluster.unique():\n",
    "    x = X['X_pca'].loc[X.cluster == cluster]\n",
    "    y = X['Y_pca'].loc[X.cluster == cluster]\n",
    "    #scale = 200.0 * rand(n)\n",
    "    ax.scatter(x, y, label=cluster, alpha=1, edgecolors='none')\n",
    "\n",
    "ax.legend()\n",
    "ax.grid(True)\n",
    "ax.set_title('Clusters clientes')\n",
    "plt.show()"
   ]
  },
  {
   "cell_type": "code",
   "execution_count": 303,
   "metadata": {},
   "outputs": [
    {
     "data": {
      "text/plain": [
       "Index(['frequency', 'recency', 'T', 'monetary_value', 'predicted_purchases',\n",
       "       'clv', 'cluster', 'X_pca', 'Y_pca'],\n",
       "      dtype='object')"
      ]
     },
     "execution_count": 303,
     "metadata": {},
     "output_type": "execute_result"
    }
   ],
   "source": [
    "X.columns"
   ]
  },
  {
   "cell_type": "code",
   "execution_count": 304,
   "metadata": {},
   "outputs": [
    {
     "data": {
      "text/html": [
       "<div>\n",
       "<style scoped>\n",
       "    .dataframe tbody tr th:only-of-type {\n",
       "        vertical-align: middle;\n",
       "    }\n",
       "\n",
       "    .dataframe tbody tr th {\n",
       "        vertical-align: top;\n",
       "    }\n",
       "\n",
       "    .dataframe thead tr th {\n",
       "        text-align: left;\n",
       "    }\n",
       "\n",
       "    .dataframe thead tr:last-of-type th {\n",
       "        text-align: right;\n",
       "    }\n",
       "</style>\n",
       "<table border=\"1\" class=\"dataframe\">\n",
       "  <thead>\n",
       "    <tr>\n",
       "      <th></th>\n",
       "      <th colspan=\"3\" halign=\"left\">frequency</th>\n",
       "      <th colspan=\"2\" halign=\"left\">recency</th>\n",
       "      <th colspan=\"2\" halign=\"left\">T</th>\n",
       "      <th colspan=\"2\" halign=\"left\">monetary_value</th>\n",
       "      <th colspan=\"2\" halign=\"left\">predicted_purchases</th>\n",
       "      <th colspan=\"2\" halign=\"left\">clv</th>\n",
       "    </tr>\n",
       "    <tr>\n",
       "      <th></th>\n",
       "      <th>count</th>\n",
       "      <th>mean</th>\n",
       "      <th>std</th>\n",
       "      <th>mean</th>\n",
       "      <th>std</th>\n",
       "      <th>mean</th>\n",
       "      <th>std</th>\n",
       "      <th>mean</th>\n",
       "      <th>std</th>\n",
       "      <th>mean</th>\n",
       "      <th>std</th>\n",
       "      <th>mean</th>\n",
       "      <th>std</th>\n",
       "    </tr>\n",
       "    <tr>\n",
       "      <th>cluster</th>\n",
       "      <th></th>\n",
       "      <th></th>\n",
       "      <th></th>\n",
       "      <th></th>\n",
       "      <th></th>\n",
       "      <th></th>\n",
       "      <th></th>\n",
       "      <th></th>\n",
       "      <th></th>\n",
       "      <th></th>\n",
       "      <th></th>\n",
       "      <th></th>\n",
       "      <th></th>\n",
       "    </tr>\n",
       "  </thead>\n",
       "  <tbody>\n",
       "    <tr>\n",
       "      <td>0</td>\n",
       "      <td>169</td>\n",
       "      <td>6.408284</td>\n",
       "      <td>6.210029</td>\n",
       "      <td>9.724851</td>\n",
       "      <td>7.642808</td>\n",
       "      <td>20.229860</td>\n",
       "      <td>5.993924</td>\n",
       "      <td>71.350077</td>\n",
       "      <td>70.575604</td>\n",
       "      <td>2.139688</td>\n",
       "      <td>3.042611</td>\n",
       "      <td>2032.662651</td>\n",
       "      <td>3334.349817</td>\n",
       "    </tr>\n",
       "    <tr>\n",
       "      <td>1</td>\n",
       "      <td>2</td>\n",
       "      <td>13.500000</td>\n",
       "      <td>13.435029</td>\n",
       "      <td>13.486930</td>\n",
       "      <td>13.404813</td>\n",
       "      <td>14.505431</td>\n",
       "      <td>13.404813</td>\n",
       "      <td>1838.698913</td>\n",
       "      <td>1376.455597</td>\n",
       "      <td>7.650603</td>\n",
       "      <td>2.742159</td>\n",
       "      <td>135667.936708</td>\n",
       "      <td>31230.647870</td>\n",
       "    </tr>\n",
       "    <tr>\n",
       "      <td>2</td>\n",
       "      <td>17</td>\n",
       "      <td>16.411765</td>\n",
       "      <td>7.450326</td>\n",
       "      <td>19.707133</td>\n",
       "      <td>6.716757</td>\n",
       "      <td>20.656059</td>\n",
       "      <td>7.018823</td>\n",
       "      <td>382.056040</td>\n",
       "      <td>325.306622</td>\n",
       "      <td>7.608984</td>\n",
       "      <td>2.736281</td>\n",
       "      <td>29216.662884</td>\n",
       "      <td>14234.902864</td>\n",
       "    </tr>\n",
       "  </tbody>\n",
       "</table>\n",
       "</div>"
      ],
      "text/plain": [
       "        frequency                          recency                     T  \\\n",
       "            count       mean        std       mean        std       mean   \n",
       "cluster                                                                    \n",
       "0             169   6.408284   6.210029   9.724851   7.642808  20.229860   \n",
       "1               2  13.500000  13.435029  13.486930  13.404813  14.505431   \n",
       "2              17  16.411765   7.450326  19.707133   6.716757  20.656059   \n",
       "\n",
       "                   monetary_value              predicted_purchases            \\\n",
       "               std           mean          std                mean       std   \n",
       "cluster                                                                        \n",
       "0         5.993924      71.350077    70.575604            2.139688  3.042611   \n",
       "1        13.404813    1838.698913  1376.455597            7.650603  2.742159   \n",
       "2         7.018823     382.056040   325.306622            7.608984  2.736281   \n",
       "\n",
       "                   clv                \n",
       "                  mean           std  \n",
       "cluster                               \n",
       "0          2032.662651   3334.349817  \n",
       "1        135667.936708  31230.647870  \n",
       "2         29216.662884  14234.902864  "
      ]
     },
     "execution_count": 304,
     "metadata": {},
     "output_type": "execute_result"
    }
   ],
   "source": [
    "X.groupby(['cluster']).agg({'frequency':['count','mean','std'],\n",
    "                            'recency':['mean','std'],\n",
    "                            'T':['mean','std'],\n",
    "                            'monetary_value':['mean','std'],\n",
    "                            'predicted_purchases':['mean','std'],\n",
    "                            'clv':['mean','std']})"
   ]
  },
  {
   "cell_type": "markdown",
   "metadata": {},
   "source": [
    "## Using frequency and CLV"
   ]
  },
  {
   "cell_type": "code",
   "execution_count": 305,
   "metadata": {},
   "outputs": [
    {
     "data": {
      "text/plain": [
       "Index(['frequency', 'recency', 'T', 'monetary_value', 'predicted_purchases',\n",
       "       'clv', 'cluster', 'X_pca', 'Y_pca'],\n",
       "      dtype='object')"
      ]
     },
     "execution_count": 305,
     "metadata": {},
     "output_type": "execute_result"
    }
   ],
   "source": [
    "X.columns"
   ]
  },
  {
   "cell_type": "code",
   "execution_count": 306,
   "metadata": {},
   "outputs": [],
   "source": [
    "Y = X.copy()"
   ]
  },
  {
   "cell_type": "code",
   "execution_count": 307,
   "metadata": {},
   "outputs": [],
   "source": [
    "cols = ['clv']"
   ]
  },
  {
   "cell_type": "code",
   "execution_count": 326,
   "metadata": {},
   "outputs": [
    {
     "data": {
      "image/png": "[encoded data removed]",
      "text/plain": [
       "<Figure size 936x288 with 1 Axes>"
      ]
     },
     "metadata": {
      "needs_background": "light"
     },
     "output_type": "display_data"
    }
   ],
   "source": [
    "from sklearn.cluster import KMeans\n",
    "from sklearn import preprocessing\n",
    "from scipy.spatial.distance import cdist\n",
    "import numpy as np\n",
    "#Finding optimal no. of clusters\n",
    "clusters=range(1,20)\n",
    "meanDistortions=[]\n",
    " \n",
    "for k in clusters:\n",
    "    model=KMeans(n_clusters=k)\n",
    "    model.fit(Y[cols])\n",
    "    prediction=model.predict(Y[cols])\n",
    "    meanDistortions.append(sum(np.min(cdist(Y[cols], model.cluster_centers_, 'euclidean'), axis=1)) / X.shape[0])\n",
    " \n",
    "#plt.cla()\n",
    "plt.plot(clusters, meanDistortions, 'bx-')\n",
    "plt.xlabel('k')\n",
    "plt.ylabel('Average distortion');\n",
    "#plt.title('Selecting k with the Elbow Method');"
   ]
  },
  {
   "cell_type": "markdown",
   "metadata": {},
   "source": [
    "Quantos clientes estáo em cada cluster"
   ]
  },
  {
   "cell_type": "code",
   "execution_count": 317,
   "metadata": {},
   "outputs": [
    {
     "name": "stdout",
     "output_type": "stream",
     "text": [
      "0    169\n",
      "2     17\n",
      "1      2\n",
      "Name: cluster, dtype: int64\n"
     ]
    }
   ],
   "source": [
    "cluster = KMeans(n_clusters=3)\n",
    "\n",
    "cluster.fit(Y[cols])\n",
    "Y['cluster']=cluster.predict(Y[cols])\n",
    "print(Y.cluster.value_counts())"
   ]
  },
  {
   "cell_type": "code",
   "execution_count": 318,
   "metadata": {},
   "outputs": [
    {
     "data": {
      "text/plain": [
       "Index(['frequency', 'recency', 'T', 'monetary_value', 'predicted_purchases',\n",
       "       'clv', 'cluster', 'X_pca', 'Y_pca'],\n",
       "      dtype='object')"
      ]
     },
     "execution_count": 318,
     "metadata": {},
     "output_type": "execute_result"
    }
   ],
   "source": [
    "Y.columns"
   ]
  },
  {
   "cell_type": "code",
   "execution_count": 319,
   "metadata": {},
   "outputs": [
    {
     "data": {
      "text/plain": [
       "(188, 9)"
      ]
     },
     "execution_count": 319,
     "metadata": {},
     "output_type": "execute_result"
    }
   ],
   "source": [
    "Y.shape"
   ]
  },
  {
   "cell_type": "code",
   "execution_count": 320,
   "metadata": {},
   "outputs": [
    {
     "data": {
      "text/html": [
       "<div>\n",
       "<style scoped>\n",
       "    .dataframe tbody tr th:only-of-type {\n",
       "        vertical-align: middle;\n",
       "    }\n",
       "\n",
       "    .dataframe tbody tr th {\n",
       "        vertical-align: top;\n",
       "    }\n",
       "\n",
       "    .dataframe thead th {\n",
       "        text-align: right;\n",
       "    }\n",
       "</style>\n",
       "<table border=\"1\" class=\"dataframe\">\n",
       "  <thead>\n",
       "    <tr style=\"text-align: right;\">\n",
       "      <th></th>\n",
       "      <th>frequency</th>\n",
       "      <th>recency</th>\n",
       "      <th>T</th>\n",
       "      <th>monetary_value</th>\n",
       "      <th>predicted_purchases</th>\n",
       "      <th>clv</th>\n",
       "      <th>cluster</th>\n",
       "      <th>X_pca</th>\n",
       "      <th>Y_pca</th>\n",
       "    </tr>\n",
       "    <tr>\n",
       "      <th>customerId</th>\n",
       "      <th></th>\n",
       "      <th></th>\n",
       "      <th></th>\n",
       "      <th></th>\n",
       "      <th></th>\n",
       "      <th></th>\n",
       "      <th></th>\n",
       "      <th></th>\n",
       "      <th></th>\n",
       "    </tr>\n",
       "  </thead>\n",
       "  <tbody>\n",
       "    <tr>\n",
       "      <td>6092</td>\n",
       "      <td>6.0</td>\n",
       "      <td>6.965235</td>\n",
       "      <td>6.965235</td>\n",
       "      <td>79.900</td>\n",
       "      <td>7.235164</td>\n",
       "      <td>6218.292491</td>\n",
       "      <td>0</td>\n",
       "      <td>305.321923</td>\n",
       "      <td>-42.231263</td>\n",
       "    </tr>\n",
       "    <tr>\n",
       "      <td>6094</td>\n",
       "      <td>4.0</td>\n",
       "      <td>5.026797</td>\n",
       "      <td>6.045299</td>\n",
       "      <td>72.085</td>\n",
       "      <td>5.131003</td>\n",
       "      <td>4177.026406</td>\n",
       "      <td>0</td>\n",
       "      <td>-1735.871928</td>\n",
       "      <td>-23.206836</td>\n",
       "    </tr>\n",
       "    <tr>\n",
       "      <td>6095</td>\n",
       "      <td>4.0</td>\n",
       "      <td>4.008296</td>\n",
       "      <td>6.045299</td>\n",
       "      <td>23.380</td>\n",
       "      <td>4.368534</td>\n",
       "      <td>1312.412614</td>\n",
       "      <td>0</td>\n",
       "      <td>-4600.878135</td>\n",
       "      <td>-34.352700</td>\n",
       "    </tr>\n",
       "    <tr>\n",
       "      <td>6096</td>\n",
       "      <td>3.0</td>\n",
       "      <td>4.008296</td>\n",
       "      <td>5.026797</td>\n",
       "      <td>23.800</td>\n",
       "      <td>4.506140</td>\n",
       "      <td>1431.227061</td>\n",
       "      <td>0</td>\n",
       "      <td>-4482.068465</td>\n",
       "      <td>-35.462549</td>\n",
       "    </tr>\n",
       "    <tr>\n",
       "      <td>6099</td>\n",
       "      <td>4.0</td>\n",
       "      <td>4.008296</td>\n",
       "      <td>5.026797</td>\n",
       "      <td>2812.000</td>\n",
       "      <td>5.711604</td>\n",
       "      <td>157751.339597</td>\n",
       "      <td>1</td>\n",
       "      <td>151861.155830</td>\n",
       "      <td>704.589699</td>\n",
       "    </tr>\n",
       "  </tbody>\n",
       "</table>\n",
       "</div>"
      ],
      "text/plain": [
       "            frequency   recency         T  monetary_value  \\\n",
       "customerId                                                  \n",
       "6092              6.0  6.965235  6.965235          79.900   \n",
       "6094              4.0  5.026797  6.045299          72.085   \n",
       "6095              4.0  4.008296  6.045299          23.380   \n",
       "6096              3.0  4.008296  5.026797          23.800   \n",
       "6099              4.0  4.008296  5.026797        2812.000   \n",
       "\n",
       "            predicted_purchases            clv  cluster          X_pca  \\\n",
       "customerId                                                               \n",
       "6092                   7.235164    6218.292491        0     305.321923   \n",
       "6094                   5.131003    4177.026406        0   -1735.871928   \n",
       "6095                   4.368534    1312.412614        0   -4600.878135   \n",
       "6096                   4.506140    1431.227061        0   -4482.068465   \n",
       "6099                   5.711604  157751.339597        1  151861.155830   \n",
       "\n",
       "                 Y_pca  \n",
       "customerId              \n",
       "6092        -42.231263  \n",
       "6094        -23.206836  \n",
       "6095        -34.352700  \n",
       "6096        -35.462549  \n",
       "6099        704.589699  "
      ]
     },
     "execution_count": 320,
     "metadata": {},
     "output_type": "execute_result"
    }
   ],
   "source": [
    "Y.tail()"
   ]
  },
  {
   "cell_type": "code",
   "execution_count": 321,
   "metadata": {},
   "outputs": [
    {
     "data": {
      "text/plain": [
       "customerId\n",
       "1        11885.015401\n",
       "2           10.256615\n",
       "3            7.869748\n",
       "5            0.644359\n",
       "6        43547.721198\n",
       "            ...      \n",
       "6092      6218.292491\n",
       "6094      4177.026406\n",
       "6095      1312.412614\n",
       "6096      1431.227061\n",
       "6099    157751.339597\n",
       "Name: clv, Length: 188, dtype: float64"
      ]
     },
     "execution_count": 321,
     "metadata": {},
     "output_type": "execute_result"
    }
   ],
   "source": [
    "Y[cols[0]]"
   ]
  },
  {
   "cell_type": "code",
   "execution_count": 327,
   "metadata": {},
   "outputs": [
    {
     "data": {
      "image/png": "[encoded data removed]",
      "text/plain": [
       "<Figure size 936x288 with 1 Axes>"
      ]
     },
     "metadata": {
      "needs_background": "light"
     },
     "output_type": "display_data"
    }
   ],
   "source": [
    "from sklearn.decomposition import PCA\n",
    "\n",
    "plt.rcParams['figure.figsize'] = [13, 4]\n",
    "\n",
    "fig, ax = plt.subplots()\n",
    "for cluster in Y.cluster.unique():\n",
    "    y = Y['monetary_value'].loc[Y.cluster == cluster]\n",
    "    x = Y[cols[0]].loc[Y.cluster == cluster] #CLV\n",
    "    #scale = 200.0 * rand(n)\n",
    "    ax.scatter(x, y, label=cluster, alpha=1, edgecolors='none')\n",
    "\n",
    "ax.legend()\n",
    "ax.grid(True)\n",
    "#ax.set_title('Clusters customer')\n",
    "ax.set_xlabel('Customer Lifetime Value')\n",
    "ax.set_ylabel('Monetary Value')\n",
    "\n",
    "# Colocar a legenda eixo X e Y\n",
    "plt.show()"
   ]
  },
  {
   "cell_type": "code",
   "execution_count": 328,
   "metadata": {},
   "outputs": [
    {
     "data": {
      "text/html": [
       "<div>\n",
       "<style scoped>\n",
       "    .dataframe tbody tr th:only-of-type {\n",
       "        vertical-align: middle;\n",
       "    }\n",
       "\n",
       "    .dataframe tbody tr th {\n",
       "        vertical-align: top;\n",
       "    }\n",
       "\n",
       "    .dataframe thead tr th {\n",
       "        text-align: left;\n",
       "    }\n",
       "\n",
       "    .dataframe thead tr:last-of-type th {\n",
       "        text-align: right;\n",
       "    }\n",
       "</style>\n",
       "<table border=\"1\" class=\"dataframe\">\n",
       "  <thead>\n",
       "    <tr>\n",
       "      <th></th>\n",
       "      <th colspan=\"3\" halign=\"left\">frequency</th>\n",
       "      <th colspan=\"2\" halign=\"left\">recency</th>\n",
       "      <th colspan=\"2\" halign=\"left\">T</th>\n",
       "      <th colspan=\"2\" halign=\"left\">monetary_value</th>\n",
       "      <th colspan=\"2\" halign=\"left\">predicted_purchases</th>\n",
       "      <th colspan=\"2\" halign=\"left\">clv</th>\n",
       "    </tr>\n",
       "    <tr>\n",
       "      <th></th>\n",
       "      <th>count</th>\n",
       "      <th>mean</th>\n",
       "      <th>std</th>\n",
       "      <th>mean</th>\n",
       "      <th>std</th>\n",
       "      <th>mean</th>\n",
       "      <th>std</th>\n",
       "      <th>mean</th>\n",
       "      <th>std</th>\n",
       "      <th>mean</th>\n",
       "      <th>std</th>\n",
       "      <th>mean</th>\n",
       "      <th>std</th>\n",
       "    </tr>\n",
       "    <tr>\n",
       "      <th>cluster</th>\n",
       "      <th></th>\n",
       "      <th></th>\n",
       "      <th></th>\n",
       "      <th></th>\n",
       "      <th></th>\n",
       "      <th></th>\n",
       "      <th></th>\n",
       "      <th></th>\n",
       "      <th></th>\n",
       "      <th></th>\n",
       "      <th></th>\n",
       "      <th></th>\n",
       "      <th></th>\n",
       "    </tr>\n",
       "  </thead>\n",
       "  <tbody>\n",
       "    <tr>\n",
       "      <td>0</td>\n",
       "      <td>169</td>\n",
       "      <td>6.408284</td>\n",
       "      <td>6.210029</td>\n",
       "      <td>9.724851</td>\n",
       "      <td>7.642808</td>\n",
       "      <td>20.229860</td>\n",
       "      <td>5.993924</td>\n",
       "      <td>71.350077</td>\n",
       "      <td>70.575604</td>\n",
       "      <td>2.139688</td>\n",
       "      <td>3.042611</td>\n",
       "      <td>2032.662651</td>\n",
       "      <td>3334.349817</td>\n",
       "    </tr>\n",
       "    <tr>\n",
       "      <td>1</td>\n",
       "      <td>2</td>\n",
       "      <td>13.500000</td>\n",
       "      <td>13.435029</td>\n",
       "      <td>13.486930</td>\n",
       "      <td>13.404813</td>\n",
       "      <td>14.505431</td>\n",
       "      <td>13.404813</td>\n",
       "      <td>1838.698913</td>\n",
       "      <td>1376.455597</td>\n",
       "      <td>7.650603</td>\n",
       "      <td>2.742159</td>\n",
       "      <td>135667.936708</td>\n",
       "      <td>31230.647870</td>\n",
       "    </tr>\n",
       "    <tr>\n",
       "      <td>2</td>\n",
       "      <td>17</td>\n",
       "      <td>16.411765</td>\n",
       "      <td>7.450326</td>\n",
       "      <td>19.707133</td>\n",
       "      <td>6.716757</td>\n",
       "      <td>20.656059</td>\n",
       "      <td>7.018823</td>\n",
       "      <td>382.056040</td>\n",
       "      <td>325.306622</td>\n",
       "      <td>7.608984</td>\n",
       "      <td>2.736281</td>\n",
       "      <td>29216.662884</td>\n",
       "      <td>14234.902864</td>\n",
       "    </tr>\n",
       "  </tbody>\n",
       "</table>\n",
       "</div>"
      ],
      "text/plain": [
       "        frequency                          recency                     T  \\\n",
       "            count       mean        std       mean        std       mean   \n",
       "cluster                                                                    \n",
       "0             169   6.408284   6.210029   9.724851   7.642808  20.229860   \n",
       "1               2  13.500000  13.435029  13.486930  13.404813  14.505431   \n",
       "2              17  16.411765   7.450326  19.707133   6.716757  20.656059   \n",
       "\n",
       "                   monetary_value              predicted_purchases            \\\n",
       "               std           mean          std                mean       std   \n",
       "cluster                                                                        \n",
       "0         5.993924      71.350077    70.575604            2.139688  3.042611   \n",
       "1        13.404813    1838.698913  1376.455597            7.650603  2.742159   \n",
       "2         7.018823     382.056040   325.306622            7.608984  2.736281   \n",
       "\n",
       "                   clv                \n",
       "                  mean           std  \n",
       "cluster                               \n",
       "0          2032.662651   3334.349817  \n",
       "1        135667.936708  31230.647870  \n",
       "2         29216.662884  14234.902864  "
      ]
     },
     "execution_count": 328,
     "metadata": {},
     "output_type": "execute_result"
    }
   ],
   "source": [
    "Y.groupby(['cluster']).agg({'frequency':['count','mean','std'],\n",
    "                            'recency':['mean','std'],\n",
    "                            'T':['mean','std'],\n",
    "                            'monetary_value':['mean','std'],\n",
    "                            'predicted_purchases':['mean','std'],\n",
    "                            'clv':['mean','std']})"
   ]
  },
  {
   "cell_type": "code",
   "execution_count": 69,
   "metadata": {},
   "outputs": [
    {
     "data": {
      "text/html": [
       "<div>\n",
       "<style scoped>\n",
       "    .dataframe tbody tr th:only-of-type {\n",
       "        vertical-align: middle;\n",
       "    }\n",
       "\n",
       "    .dataframe tbody tr th {\n",
       "        vertical-align: top;\n",
       "    }\n",
       "\n",
       "    .dataframe thead tr th {\n",
       "        text-align: left;\n",
       "    }\n",
       "\n",
       "    .dataframe thead tr:last-of-type th {\n",
       "        text-align: right;\n",
       "    }\n",
       "</style>\n",
       "<table border=\"1\" class=\"dataframe\">\n",
       "  <thead>\n",
       "    <tr>\n",
       "      <th></th>\n",
       "      <th colspan=\"3\" halign=\"left\">frequency</th>\n",
       "      <th colspan=\"2\" halign=\"left\">predicted_purchases</th>\n",
       "      <th colspan=\"2\" halign=\"left\">monetary_value</th>\n",
       "      <th colspan=\"2\" halign=\"left\">clv</th>\n",
       "    </tr>\n",
       "    <tr>\n",
       "      <th></th>\n",
       "      <th>count</th>\n",
       "      <th>mean</th>\n",
       "      <th>std</th>\n",
       "      <th>mean</th>\n",
       "      <th>std</th>\n",
       "      <th>mean</th>\n",
       "      <th>std</th>\n",
       "      <th>mean</th>\n",
       "      <th>std</th>\n",
       "    </tr>\n",
       "    <tr>\n",
       "      <th>cluster</th>\n",
       "      <th></th>\n",
       "      <th></th>\n",
       "      <th></th>\n",
       "      <th></th>\n",
       "      <th></th>\n",
       "      <th></th>\n",
       "      <th></th>\n",
       "      <th></th>\n",
       "      <th></th>\n",
       "    </tr>\n",
       "  </thead>\n",
       "  <tbody>\n",
       "    <tr>\n",
       "      <td>0</td>\n",
       "      <td>131</td>\n",
       "      <td>4.236641</td>\n",
       "      <td>4.163638</td>\n",
       "      <td>0.757214</td>\n",
       "      <td>1.358195</td>\n",
       "      <td>66.919333</td>\n",
       "      <td>77.560675</td>\n",
       "      <td>431.347246</td>\n",
       "      <td>807.724809</td>\n",
       "    </tr>\n",
       "    <tr>\n",
       "      <td>1</td>\n",
       "      <td>1</td>\n",
       "      <td>4.000000</td>\n",
       "      <td>NaN</td>\n",
       "      <td>5.711604</td>\n",
       "      <td>NaN</td>\n",
       "      <td>2812.000000</td>\n",
       "      <td>NaN</td>\n",
       "      <td>157751.339597</td>\n",
       "      <td>NaN</td>\n",
       "    </tr>\n",
       "    <tr>\n",
       "      <td>2</td>\n",
       "      <td>7</td>\n",
       "      <td>17.000000</td>\n",
       "      <td>6.055301</td>\n",
       "      <td>7.223810</td>\n",
       "      <td>2.963183</td>\n",
       "      <td>417.756435</td>\n",
       "      <td>190.590761</td>\n",
       "      <td>35629.794087</td>\n",
       "      <td>4658.135240</td>\n",
       "    </tr>\n",
       "    <tr>\n",
       "      <td>3</td>\n",
       "      <td>11</td>\n",
       "      <td>17.000000</td>\n",
       "      <td>7.307530</td>\n",
       "      <td>8.241028</td>\n",
       "      <td>2.663238</td>\n",
       "      <td>251.723108</td>\n",
       "      <td>319.795121</td>\n",
       "      <td>18217.216473</td>\n",
       "      <td>2997.124426</td>\n",
       "    </tr>\n",
       "    <tr>\n",
       "      <td>4</td>\n",
       "      <td>1</td>\n",
       "      <td>5.000000</td>\n",
       "      <td>NaN</td>\n",
       "      <td>7.649656</td>\n",
       "      <td>NaN</td>\n",
       "      <td>1019.322000</td>\n",
       "      <td>NaN</td>\n",
       "      <td>73072.279330</td>\n",
       "      <td>NaN</td>\n",
       "    </tr>\n",
       "    <tr>\n",
       "      <td>5</td>\n",
       "      <td>1</td>\n",
       "      <td>23.000000</td>\n",
       "      <td>NaN</td>\n",
       "      <td>9.589603</td>\n",
       "      <td>NaN</td>\n",
       "      <td>865.397826</td>\n",
       "      <td>NaN</td>\n",
       "      <td>113584.533818</td>\n",
       "      <td>NaN</td>\n",
       "    </tr>\n",
       "    <tr>\n",
       "      <td>6</td>\n",
       "      <td>36</td>\n",
       "      <td>13.777778</td>\n",
       "      <td>6.472408</td>\n",
       "      <td>6.747149</td>\n",
       "      <td>2.297594</td>\n",
       "      <td>85.391993</td>\n",
       "      <td>34.755750</td>\n",
       "      <td>7245.181909</td>\n",
       "      <td>2530.957396</td>\n",
       "    </tr>\n",
       "  </tbody>\n",
       "</table>\n",
       "</div>"
      ],
      "text/plain": [
       "        frequency                      predicted_purchases            \\\n",
       "            count       mean       std                mean       std   \n",
       "cluster                                                                \n",
       "0             131   4.236641  4.163638            0.757214  1.358195   \n",
       "1               1   4.000000       NaN            5.711604       NaN   \n",
       "2               7  17.000000  6.055301            7.223810  2.963183   \n",
       "3              11  17.000000  7.307530            8.241028  2.663238   \n",
       "4               1   5.000000       NaN            7.649656       NaN   \n",
       "5               1  23.000000       NaN            9.589603       NaN   \n",
       "6              36  13.777778  6.472408            6.747149  2.297594   \n",
       "\n",
       "        monetary_value                        clv               \n",
       "                  mean         std           mean          std  \n",
       "cluster                                                         \n",
       "0            66.919333   77.560675     431.347246   807.724809  \n",
       "1          2812.000000         NaN  157751.339597          NaN  \n",
       "2           417.756435  190.590761   35629.794087  4658.135240  \n",
       "3           251.723108  319.795121   18217.216473  2997.124426  \n",
       "4          1019.322000         NaN   73072.279330          NaN  \n",
       "5           865.397826         NaN  113584.533818          NaN  \n",
       "6            85.391993   34.755750    7245.181909  2530.957396  "
      ]
     },
     "execution_count": 69,
     "metadata": {},
     "output_type": "execute_result"
    }
   ],
   "source": [
    "Y.groupby(['cluster']).agg({'frequency':['count','mean','std'],\n",
    "                            'predicted_purchases':['mean','std'],\n",
    "                            'monetary_value':['mean','std'],\n",
    "                            'clv':['mean','std']})"
   ]
  },
  {
   "cell_type": "markdown",
   "metadata": {},
   "source": [
    "- frequency: Count of time periods the customer had a purchase in, e.g. months units represent the number of months that the customer had purchases. Number of repeated purchase that the customer as made, one less than the total number of purchases.\n",
    "- T: represents the age of the customer in the selected time unit\n",
    "- recency: represents the age of the customer when they made the most recent purchases = duration first purchase to last purchase\n",
    "- predicted_purchases: how many purchases will the customer do within 12 months\n"
   ]
  },
  {
   "cell_type": "code",
   "execution_count": 70,
   "metadata": {},
   "outputs": [
    {
     "data": {
      "text/html": [
       "<div>\n",
       "<style scoped>\n",
       "    .dataframe tbody tr th:only-of-type {\n",
       "        vertical-align: middle;\n",
       "    }\n",
       "\n",
       "    .dataframe tbody tr th {\n",
       "        vertical-align: top;\n",
       "    }\n",
       "\n",
       "    .dataframe thead th {\n",
       "        text-align: right;\n",
       "    }\n",
       "</style>\n",
       "<table border=\"1\" class=\"dataframe\">\n",
       "  <thead>\n",
       "    <tr style=\"text-align: right;\">\n",
       "      <th></th>\n",
       "      <th>frequency</th>\n",
       "      <th>recency</th>\n",
       "      <th>T</th>\n",
       "      <th>monetary_value</th>\n",
       "      <th>predicted_purchases</th>\n",
       "      <th>clv</th>\n",
       "      <th>cluster</th>\n",
       "      <th>X_pca</th>\n",
       "      <th>Y_pca</th>\n",
       "    </tr>\n",
       "    <tr>\n",
       "      <th>customerId</th>\n",
       "      <th></th>\n",
       "      <th></th>\n",
       "      <th></th>\n",
       "      <th></th>\n",
       "      <th></th>\n",
       "      <th></th>\n",
       "      <th></th>\n",
       "      <th></th>\n",
       "      <th></th>\n",
       "    </tr>\n",
       "  </thead>\n",
       "  <tbody>\n",
       "    <tr>\n",
       "      <td>1</td>\n",
       "      <td>17.0</td>\n",
       "      <td>27.006715</td>\n",
       "      <td>27.006715</td>\n",
       "      <td>120.438235</td>\n",
       "      <td>6.628143</td>\n",
       "      <td>11885.015401</td>\n",
       "      <td>6</td>\n",
       "      <td>5972.092423</td>\n",
       "      <td>-76.608194</td>\n",
       "    </tr>\n",
       "    <tr>\n",
       "      <td>2</td>\n",
       "      <td>2.0</td>\n",
       "      <td>7.030945</td>\n",
       "      <td>27.006715</td>\n",
       "      <td>22.480000</td>\n",
       "      <td>0.277178</td>\n",
       "      <td>10.256615</td>\n",
       "      <td>0</td>\n",
       "      <td>-5902.935408</td>\n",
       "      <td>-18.238698</td>\n",
       "    </tr>\n",
       "    <tr>\n",
       "      <td>3</td>\n",
       "      <td>12.0</td>\n",
       "      <td>12.977679</td>\n",
       "      <td>27.006715</td>\n",
       "      <td>23.946667</td>\n",
       "      <td>0.024071</td>\n",
       "      <td>7.869748</td>\n",
       "      <td>0</td>\n",
       "      <td>-5905.300706</td>\n",
       "      <td>-17.092248</td>\n",
       "    </tr>\n",
       "    <tr>\n",
       "      <td>5</td>\n",
       "      <td>3.0</td>\n",
       "      <td>3.022649</td>\n",
       "      <td>27.006715</td>\n",
       "      <td>30.600000</td>\n",
       "      <td>0.018222</td>\n",
       "      <td>0.644359</td>\n",
       "      <td>0</td>\n",
       "      <td>-5912.440841</td>\n",
       "      <td>-9.942176</td>\n",
       "    </tr>\n",
       "    <tr>\n",
       "      <td>6</td>\n",
       "      <td>14.0</td>\n",
       "      <td>27.006715</td>\n",
       "      <td>27.006715</td>\n",
       "      <td>522.901429</td>\n",
       "      <td>5.474433</td>\n",
       "      <td>43547.721198</td>\n",
       "      <td>2</td>\n",
       "      <td>37637.352241</td>\n",
       "      <td>-88.803620</td>\n",
       "    </tr>\n",
       "  </tbody>\n",
       "</table>\n",
       "</div>"
      ],
      "text/plain": [
       "            frequency    recency          T  monetary_value  \\\n",
       "customerId                                                    \n",
       "1                17.0  27.006715  27.006715      120.438235   \n",
       "2                 2.0   7.030945  27.006715       22.480000   \n",
       "3                12.0  12.977679  27.006715       23.946667   \n",
       "5                 3.0   3.022649  27.006715       30.600000   \n",
       "6                14.0  27.006715  27.006715      522.901429   \n",
       "\n",
       "            predicted_purchases           clv  cluster         X_pca  \\\n",
       "customerId                                                             \n",
       "1                      6.628143  11885.015401        6   5972.092423   \n",
       "2                      0.277178     10.256615        0  -5902.935408   \n",
       "3                      0.024071      7.869748        0  -5905.300706   \n",
       "5                      0.018222      0.644359        0  -5912.440841   \n",
       "6                      5.474433  43547.721198        2  37637.352241   \n",
       "\n",
       "                Y_pca  \n",
       "customerId             \n",
       "1          -76.608194  \n",
       "2          -18.238698  \n",
       "3          -17.092248  \n",
       "5           -9.942176  \n",
       "6          -88.803620  "
      ]
     },
     "execution_count": 70,
     "metadata": {},
     "output_type": "execute_result"
    }
   ],
   "source": [
    "Y.head()"
   ]
  },
  {
   "cell_type": "code",
   "execution_count": 71,
   "metadata": {},
   "outputs": [],
   "source": [
    "import datetime\n",
    "df['year'] = df['date'].apply(lambda x: x.date().year)"
   ]
  },
  {
   "cell_type": "code",
   "execution_count": 72,
   "metadata": {},
   "outputs": [
    {
     "data": {
      "text/html": [
       "<div>\n",
       "<style scoped>\n",
       "    .dataframe tbody tr th:only-of-type {\n",
       "        vertical-align: middle;\n",
       "    }\n",
       "\n",
       "    .dataframe tbody tr th {\n",
       "        vertical-align: top;\n",
       "    }\n",
       "\n",
       "    .dataframe thead th {\n",
       "        text-align: right;\n",
       "    }\n",
       "</style>\n",
       "<table border=\"1\" class=\"dataframe\">\n",
       "  <thead>\n",
       "    <tr style=\"text-align: right;\">\n",
       "      <th></th>\n",
       "      <th>index</th>\n",
       "      <th>customerId</th>\n",
       "      <th>date</th>\n",
       "      <th>value</th>\n",
       "      <th>IVA</th>\n",
       "      <th>discountFinan</th>\n",
       "      <th>discountComer</th>\n",
       "      <th>valueWithIVA</th>\n",
       "      <th>year</th>\n",
       "    </tr>\n",
       "  </thead>\n",
       "  <tbody>\n",
       "    <tr>\n",
       "      <td>0</td>\n",
       "      <td>0</td>\n",
       "      <td>1</td>\n",
       "      <td>2017-06-07</td>\n",
       "      <td>118.14</td>\n",
       "      <td>17.40</td>\n",
       "      <td>0</td>\n",
       "      <td>0.0</td>\n",
       "      <td>135.54</td>\n",
       "      <td>2017</td>\n",
       "    </tr>\n",
       "    <tr>\n",
       "      <td>1</td>\n",
       "      <td>1</td>\n",
       "      <td>1</td>\n",
       "      <td>2017-09-08</td>\n",
       "      <td>57.18</td>\n",
       "      <td>7.43</td>\n",
       "      <td>0</td>\n",
       "      <td>0.0</td>\n",
       "      <td>64.61</td>\n",
       "      <td>2017</td>\n",
       "    </tr>\n",
       "    <tr>\n",
       "      <td>2</td>\n",
       "      <td>2</td>\n",
       "      <td>1</td>\n",
       "      <td>2018-02-27</td>\n",
       "      <td>40.50</td>\n",
       "      <td>5.27</td>\n",
       "      <td>0</td>\n",
       "      <td>0.0</td>\n",
       "      <td>45.77</td>\n",
       "      <td>2018</td>\n",
       "    </tr>\n",
       "    <tr>\n",
       "      <td>3</td>\n",
       "      <td>3</td>\n",
       "      <td>1</td>\n",
       "      <td>2018-04-30</td>\n",
       "      <td>32.94</td>\n",
       "      <td>4.28</td>\n",
       "      <td>0</td>\n",
       "      <td>0.0</td>\n",
       "      <td>37.22</td>\n",
       "      <td>2018</td>\n",
       "    </tr>\n",
       "    <tr>\n",
       "      <td>4</td>\n",
       "      <td>4</td>\n",
       "      <td>1</td>\n",
       "      <td>2018-06-06</td>\n",
       "      <td>30.60</td>\n",
       "      <td>7.04</td>\n",
       "      <td>0</td>\n",
       "      <td>0.0</td>\n",
       "      <td>37.64</td>\n",
       "      <td>2018</td>\n",
       "    </tr>\n",
       "  </tbody>\n",
       "</table>\n",
       "</div>"
      ],
      "text/plain": [
       "   index  customerId       date   value    IVA  discountFinan  discountComer  \\\n",
       "0      0           1 2017-06-07  118.14  17.40              0            0.0   \n",
       "1      1           1 2017-09-08   57.18   7.43              0            0.0   \n",
       "2      2           1 2018-02-27   40.50   5.27              0            0.0   \n",
       "3      3           1 2018-04-30   32.94   4.28              0            0.0   \n",
       "4      4           1 2018-06-06   30.60   7.04              0            0.0   \n",
       "\n",
       "   valueWithIVA  year  \n",
       "0        135.54  2017  \n",
       "1         64.61  2017  \n",
       "2         45.77  2018  \n",
       "3         37.22  2018  \n",
       "4         37.64  2018  "
      ]
     },
     "execution_count": 72,
     "metadata": {},
     "output_type": "execute_result"
    }
   ],
   "source": [
    "df.head()"
   ]
  },
  {
   "cell_type": "code",
   "execution_count": 73,
   "metadata": {},
   "outputs": [
    {
     "data": {
      "text/plain": [
       "<matplotlib.axes._subplots.AxesSubplot at 0x155a0e6a9e8>"
      ]
     },
     "execution_count": 73,
     "metadata": {},
     "output_type": "execute_result"
    },
    {
     "data": {
      "image/png": "[encoded data removed]",
      "text/plain": [
       "<Figure size 936x288 with 1 Axes>"
      ]
     },
     "metadata": {
      "needs_background": "light"
     },
     "output_type": "display_data"
    }
   ],
   "source": [
    "import seaborn as sns\n",
    "sns.barplot(x='year',y='value',data=df,estimator=np.sum)"
   ]
  },
  {
   "cell_type": "code",
   "execution_count": 76,
   "metadata": {},
   "outputs": [
    {
     "data": {
      "text/plain": [
       "Index(['index', 'customerId', 'date', 'value', 'IVA', 'discountFinan',\n",
       "       'discountComer', 'valueWithIVA', 'year'],\n",
       "      dtype='object')"
      ]
     },
     "execution_count": 76,
     "metadata": {},
     "output_type": "execute_result"
    }
   ],
   "source": [
    "df.columns"
   ]
  },
  {
   "cell_type": "code",
   "execution_count": 92,
   "metadata": {},
   "outputs": [
    {
     "data": {
      "text/plain": [
       "index                              0\n",
       "customerId                         1\n",
       "date             2017-06-07 00:00:00\n",
       "value                         118.14\n",
       "IVA                             17.4\n",
       "discountFinan                      0\n",
       "discountComer                      0\n",
       "valueWithIVA                  135.54\n",
       "year                            2017\n",
       "Name: 0, dtype: object"
      ]
     },
     "execution_count": 92,
     "metadata": {},
     "output_type": "execute_result"
    }
   ],
   "source": [
    "df.iloc[0]"
   ]
  },
  {
   "cell_type": "code",
   "execution_count": 98,
   "metadata": {},
   "outputs": [
    {
     "data": {
      "text/html": [
       "<div>\n",
       "<style scoped>\n",
       "    .dataframe tbody tr th:only-of-type {\n",
       "        vertical-align: middle;\n",
       "    }\n",
       "\n",
       "    .dataframe tbody tr th {\n",
       "        vertical-align: top;\n",
       "    }\n",
       "\n",
       "    .dataframe thead th {\n",
       "        text-align: right;\n",
       "    }\n",
       "</style>\n",
       "<table border=\"1\" class=\"dataframe\">\n",
       "  <thead>\n",
       "    <tr style=\"text-align: right;\">\n",
       "      <th></th>\n",
       "      <th>index</th>\n",
       "      <th>customerId</th>\n",
       "      <th>date</th>\n",
       "      <th>value</th>\n",
       "      <th>IVA</th>\n",
       "      <th>discountFinan</th>\n",
       "      <th>discountComer</th>\n",
       "      <th>valueWithIVA</th>\n",
       "      <th>year</th>\n",
       "    </tr>\n",
       "  </thead>\n",
       "  <tbody>\n",
       "    <tr>\n",
       "      <td>1</td>\n",
       "      <td>1</td>\n",
       "      <td>1</td>\n",
       "      <td>2017-09-08</td>\n",
       "      <td>57.18</td>\n",
       "      <td>7.43</td>\n",
       "      <td>0</td>\n",
       "      <td>0.0</td>\n",
       "      <td>64.61</td>\n",
       "      <td>2017</td>\n",
       "    </tr>\n",
       "    <tr>\n",
       "      <td>2</td>\n",
       "      <td>2</td>\n",
       "      <td>1</td>\n",
       "      <td>2018-02-27</td>\n",
       "      <td>40.50</td>\n",
       "      <td>5.27</td>\n",
       "      <td>0</td>\n",
       "      <td>0.0</td>\n",
       "      <td>45.77</td>\n",
       "      <td>2018</td>\n",
       "    </tr>\n",
       "    <tr>\n",
       "      <td>3</td>\n",
       "      <td>3</td>\n",
       "      <td>1</td>\n",
       "      <td>2018-04-30</td>\n",
       "      <td>32.94</td>\n",
       "      <td>4.28</td>\n",
       "      <td>0</td>\n",
       "      <td>0.0</td>\n",
       "      <td>37.22</td>\n",
       "      <td>2018</td>\n",
       "    </tr>\n",
       "  </tbody>\n",
       "</table>\n",
       "</div>"
      ],
      "text/plain": [
       "   index  customerId       date  value   IVA  discountFinan  discountComer  \\\n",
       "1      1           1 2017-09-08  57.18  7.43              0            0.0   \n",
       "2      2           1 2018-02-27  40.50  5.27              0            0.0   \n",
       "3      3           1 2018-04-30  32.94  4.28              0            0.0   \n",
       "\n",
       "   valueWithIVA  year  \n",
       "1         64.61  2017  \n",
       "2         45.77  2018  \n",
       "3         37.22  2018  "
      ]
     },
     "execution_count": 98,
     "metadata": {},
     "output_type": "execute_result"
    }
   ],
   "source": [
    "df.iloc[1:4]"
   ]
  },
  {
   "cell_type": "code",
   "execution_count": 99,
   "metadata": {},
   "outputs": [
    {
     "data": {
      "text/html": [
       "<div>\n",
       "<style scoped>\n",
       "    .dataframe tbody tr th:only-of-type {\n",
       "        vertical-align: middle;\n",
       "    }\n",
       "\n",
       "    .dataframe tbody tr th {\n",
       "        vertical-align: top;\n",
       "    }\n",
       "\n",
       "    .dataframe thead th {\n",
       "        text-align: right;\n",
       "    }\n",
       "</style>\n",
       "<table border=\"1\" class=\"dataframe\">\n",
       "  <thead>\n",
       "    <tr style=\"text-align: right;\">\n",
       "      <th></th>\n",
       "      <th>index</th>\n",
       "      <th>customerId</th>\n",
       "      <th>date</th>\n",
       "    </tr>\n",
       "  </thead>\n",
       "  <tbody>\n",
       "    <tr>\n",
       "      <td>1</td>\n",
       "      <td>1</td>\n",
       "      <td>1</td>\n",
       "      <td>2017-09-08</td>\n",
       "    </tr>\n",
       "    <tr>\n",
       "      <td>2</td>\n",
       "      <td>2</td>\n",
       "      <td>1</td>\n",
       "      <td>2018-02-27</td>\n",
       "    </tr>\n",
       "    <tr>\n",
       "      <td>3</td>\n",
       "      <td>3</td>\n",
       "      <td>1</td>\n",
       "      <td>2018-04-30</td>\n",
       "    </tr>\n",
       "  </tbody>\n",
       "</table>\n",
       "</div>"
      ],
      "text/plain": [
       "   index  customerId       date\n",
       "1      1           1 2017-09-08\n",
       "2      2           1 2018-02-27\n",
       "3      3           1 2018-04-30"
      ]
     },
     "execution_count": 99,
     "metadata": {},
     "output_type": "execute_result"
    }
   ],
   "source": [
    "df.iloc[1:4, 0:3]"
   ]
  },
  {
   "cell_type": "code",
   "execution_count": 100,
   "metadata": {},
   "outputs": [],
   "source": [
    "x='teste.2222,222'"
   ]
  },
  {
   "cell_type": "code",
   "execution_count": 116,
   "metadata": {},
   "outputs": [
    {
     "data": {
      "text/plain": [
       "str"
      ]
     },
     "execution_count": 116,
     "metadata": {},
     "output_type": "execute_result"
    }
   ],
   "source": [
    "type(x.split('.')[1].split(',')[0])"
   ]
  }
 ],
 "metadata": {
  "kernelspec": {
   "display_name": "Python 3",
   "language": "python",
   "name": "python3"
  },
  "language_info": {
   "codemirror_mode": {
    "name": "ipython",
    "version": 3
   },
   "file_extension": ".py",
   "mimetype": "text/x-python",
   "name": "python",
   "nbconvert_exporter": "python",
   "pygments_lexer": "ipython3",
   "version": "3.7.6"
  },
  "toc-autonumbering": true
 },
 "nbformat": 4,
 "nbformat_minor": 4
}
